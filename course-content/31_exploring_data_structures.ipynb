{
 "cells": [
  {
   "cell_type": "raw",
   "id": "797c41b8",
   "metadata": {},
   "source": [
    "---\n",
    "title: \"Exploring Data Structures\"\n",
    "teaching: 45\n",
    "exercises: 10\n",
    "questions:\n",
    "- \"Fill this in!\"\n",
    "objectives:\n",
    " - \"to be able to understand and use some basic tools to manipulate dataframes\"\n",
    " - \"to be able to understand and use tools to create a subset of data based on logical filtering\"\n",
    " - \"to reinforce use of basic summarizing methods with the data\"\n",
    "keypoints:\n",
    "- \"Same verse!\"\n",
    "---"
   ]
  },
  {
   "cell_type": "markdown",
   "id": "fda058e4",
   "metadata": {},
   "source": [
    "## Part 3.1 Exploring and Understanding Data\n",
    "\n",
    "Looking at the data you are given is pretty basic stuff. But to generate actual insights, you are going to need to be exploring the data, diving into it.  In the world of python, this usually means working with a library or package you have already been introduced to called pandas. \n",
    "\n",
    "\n",
    "\n",
    "\n",
    "  \"to be able to understand and use some basic tools to manipulate dataframes\"\n",
    "  \"to be able to understand and use tools to create a subset of data based on logical filtering\"\n",
    "  \"to reinforce use of basic summarizing methods with the data\"\n",
    "\n",
    "\n",
    "\n",
    "\n",
    "\n",
    "## BEFORE STARTING!!\n"
   ]
  },
  {
   "cell_type": "code",
   "execution_count": 3,
   "id": "9192911f",
   "metadata": {},
   "outputs": [],
   "source": [
    "#| output: false    \n",
    "import pandas as pd\n",
    "URL = \"https://raw.githubusercontent.com/bcgov/ds-intro-to-python/main/data/gapfinder.csv\"\n",
    "df = pd.read_csv(URL)"
   ]
  },
  {
   "cell_type": "code",
   "execution_count": 4,
   "id": "3557e9a5",
   "metadata": {},
   "outputs": [
    {
     "data": {
      "text/html": [
       "<div>\n",
       "<style scoped>\n",
       "    .dataframe tbody tr th:only-of-type {\n",
       "        vertical-align: middle;\n",
       "    }\n",
       "\n",
       "    .dataframe tbody tr th {\n",
       "        vertical-align: top;\n",
       "    }\n",
       "\n",
       "    .dataframe thead th {\n",
       "        text-align: right;\n",
       "    }\n",
       "</style>\n",
       "<table border=\"1\" class=\"dataframe\">\n",
       "  <thead>\n",
       "    <tr style=\"text-align: right;\">\n",
       "      <th></th>\n",
       "      <th>country</th>\n",
       "      <th>year</th>\n",
       "      <th>pop</th>\n",
       "      <th>continent</th>\n",
       "      <th>lifeExp</th>\n",
       "      <th>gdpPercap</th>\n",
       "    </tr>\n",
       "  </thead>\n",
       "  <tbody>\n",
       "    <tr>\n",
       "      <th>0</th>\n",
       "      <td>Afghanistan</td>\n",
       "      <td>1952</td>\n",
       "      <td>8425333.0</td>\n",
       "      <td>Asia</td>\n",
       "      <td>28.801</td>\n",
       "      <td>779.445314</td>\n",
       "    </tr>\n",
       "    <tr>\n",
       "      <th>1</th>\n",
       "      <td>Afghanistan</td>\n",
       "      <td>1957</td>\n",
       "      <td>9240934.0</td>\n",
       "      <td>Asia</td>\n",
       "      <td>30.332</td>\n",
       "      <td>820.853030</td>\n",
       "    </tr>\n",
       "    <tr>\n",
       "      <th>2</th>\n",
       "      <td>Afghanistan</td>\n",
       "      <td>1962</td>\n",
       "      <td>10267083.0</td>\n",
       "      <td>Asia</td>\n",
       "      <td>31.997</td>\n",
       "      <td>853.100710</td>\n",
       "    </tr>\n",
       "    <tr>\n",
       "      <th>3</th>\n",
       "      <td>Afghanistan</td>\n",
       "      <td>1967</td>\n",
       "      <td>11537966.0</td>\n",
       "      <td>Asia</td>\n",
       "      <td>34.020</td>\n",
       "      <td>836.197138</td>\n",
       "    </tr>\n",
       "    <tr>\n",
       "      <th>4</th>\n",
       "      <td>Afghanistan</td>\n",
       "      <td>1972</td>\n",
       "      <td>13079460.0</td>\n",
       "      <td>Asia</td>\n",
       "      <td>36.088</td>\n",
       "      <td>739.981106</td>\n",
       "    </tr>\n",
       "  </tbody>\n",
       "</table>\n",
       "</div>"
      ],
      "text/plain": [
       "       country  year         pop continent  lifeExp   gdpPercap\n",
       "0  Afghanistan  1952   8425333.0      Asia   28.801  779.445314\n",
       "1  Afghanistan  1957   9240934.0      Asia   30.332  820.853030\n",
       "2  Afghanistan  1962  10267083.0      Asia   31.997  853.100710\n",
       "3  Afghanistan  1967  11537966.0      Asia   34.020  836.197138\n",
       "4  Afghanistan  1972  13079460.0      Asia   36.088  739.981106"
      ]
     },
     "execution_count": 4,
     "metadata": {},
     "output_type": "execute_result"
    }
   ],
   "source": [
    "df.head()\n",
    "\n",
    "adsfasfd"
   ]
  },
  {
   "cell_type": "code",
   "execution_count": null,
   "id": "05377b95",
   "metadata": {},
   "outputs": [],
   "source": []
  }
 ],
 "metadata": {
  "kernelspec": {
   "display_name": "Python 3 (ipykernel)",
   "language": "python",
   "name": "python3"
  },
  "language_info": {
   "codemirror_mode": {
    "name": "ipython",
    "version": 3
   },
   "file_extension": ".py",
   "mimetype": "text/x-python",
   "name": "python",
   "nbconvert_exporter": "python",
   "pygments_lexer": "ipython3",
   "version": "3.9.12"
  },
  "vscode": {
   "interpreter": {
    "hash": "bdaced3afcf0c5f82d76021b3a08adca974a368e4bb1f701d06c9e3d72e7996a"
   }
  }
 },
 "nbformat": 4,
 "nbformat_minor": 5
}

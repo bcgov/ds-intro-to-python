{
 "cells": [
  {
   "cell_type": "raw",
   "id": "797c41b8",
   "metadata": {},
   "source": [
    "---\n",
    "title: \"Exploring Data Structures\"\n",
    "teaching: 45\n",
    "author: \"Stuart Hemerling\"\n",
    "exercises: 4\n",
    "objectives:\n",
    " - \"to be able to understand and use some basic tools to manipulate dataframes\"\n",
    " - \"to be able to understand and use tools to create a subset of data based on logical filtering\"\n",
    " - \"to reinforce use of basic summarizing methods with the data\"\n",
    "keypoints:\n",
    "---\n"
   ]
  },
  {
   "cell_type": "markdown",
   "id": "fda058e4",
   "metadata": {},
   "source": [
    "# Part 3.1 Exploring and Understanding Data\n",
    "\n",
    "Getting a high level summary of the data is important but data is particularly valuable when refined. Your analysis will start to come alive when we start to do some slicing and dicing and grouping of data or even creating additional variables. In an Excel world, this is like when you use filter options for columns, or create pivot tables, or when you create a formula in a new column to create a new variable. In data science parlance, this is the kind of thing that is referred to as `data wrangling` - getting the (already cleaned) data you want in the form you want it in. \n",
    "\n",
    "In the world of python, this usually means working with a library or package you have already been introduced to called pandas. It let's you do so much!\n",
    "\n",
    "The first dataset we'll look at is one that looks at data for countries around the world and shows population levels as well as gdp per capita over a number of years. It is a great data set to look at. "
   ]
  },
  {
   "cell_type": "markdown",
   "id": "7dc005e1",
   "metadata": {},
   "source": [
    "## 3.1.1. Getting the data and an overview"
   ]
  },
  {
   "cell_type": "code",
   "execution_count": 224,
   "id": "9192911f",
   "metadata": {},
   "outputs": [],
   "source": [
    "#| output: false    \n",
    "import pandas as pd\n",
    "url = \"https://raw.githubusercontent.com/bcgov/ds-intro-to-python/main/data/gapfinder.csv\"\n",
    "df = pd.read_csv(url)"
   ]
  },
  {
   "cell_type": "markdown",
   "id": "61e788e4",
   "metadata": {},
   "source": [
    "It's usually a good idea right away to take a quick look at the data to make sure what we have read in makes sense. So let's do that using some pandas methods that we covered earlier.\n",
    "\n",
    ":::{.callout-remember}\n",
    "When you create a variable or object, you can name it pretty much whatever you want. But it is a best practice to name it something intuitive but not overly verbose. Also remember to not leave spaces in your names, and to always be consistent in the naming conventions you use (e.g. camelCase, underscore_case, etc.)\n",
    "\n",
    "\n",
    ":::"
   ]
  },
  {
   "cell_type": "code",
   "execution_count": 225,
   "id": "072588e9",
   "metadata": {},
   "outputs": [
    {
     "name": "stdout",
     "output_type": "stream",
     "text": [
      "<class 'pandas.core.frame.DataFrame'>\n",
      "RangeIndex: 1704 entries, 0 to 1703\n",
      "Data columns (total 6 columns):\n",
      " #   Column     Non-Null Count  Dtype  \n",
      "---  ------     --------------  -----  \n",
      " 0   country    1704 non-null   object \n",
      " 1   year       1704 non-null   int64  \n",
      " 2   pop        1704 non-null   float64\n",
      " 3   continent  1704 non-null   object \n",
      " 4   lifeExp    1704 non-null   float64\n",
      " 5   gdpPercap  1704 non-null   float64\n",
      "dtypes: float64(3), int64(1), object(2)\n",
      "memory usage: 80.0+ KB\n"
     ]
    }
   ],
   "source": [
    "df.info()"
   ]
  },
  {
   "cell_type": "markdown",
   "id": "454ef266",
   "metadata": {},
   "source": [
    "So this data is looking good so far. We can see that we have created a pandas dataframe within our python environment. There are 1704 rows of data and 6 columns or variables. You can see there are only non-null values... so happily there is no missing data to worry about."
   ]
  },
  {
   "cell_type": "code",
   "execution_count": 226,
   "id": "1812ff3e",
   "metadata": {},
   "outputs": [
    {
     "data": {
      "text/html": [
       "<div>\n",
       "<style scoped>\n",
       "    .dataframe tbody tr th:only-of-type {\n",
       "        vertical-align: middle;\n",
       "    }\n",
       "\n",
       "    .dataframe tbody tr th {\n",
       "        vertical-align: top;\n",
       "    }\n",
       "\n",
       "    .dataframe thead th {\n",
       "        text-align: right;\n",
       "    }\n",
       "</style>\n",
       "<table border=\"1\" class=\"dataframe\">\n",
       "  <thead>\n",
       "    <tr style=\"text-align: right;\">\n",
       "      <th></th>\n",
       "      <th>country</th>\n",
       "      <th>year</th>\n",
       "      <th>pop</th>\n",
       "      <th>continent</th>\n",
       "      <th>lifeExp</th>\n",
       "      <th>gdpPercap</th>\n",
       "    </tr>\n",
       "  </thead>\n",
       "  <tbody>\n",
       "    <tr>\n",
       "      <th>0</th>\n",
       "      <td>Afghanistan</td>\n",
       "      <td>1952</td>\n",
       "      <td>8425333.0</td>\n",
       "      <td>Asia</td>\n",
       "      <td>28.801</td>\n",
       "      <td>779.445314</td>\n",
       "    </tr>\n",
       "    <tr>\n",
       "      <th>1</th>\n",
       "      <td>Afghanistan</td>\n",
       "      <td>1957</td>\n",
       "      <td>9240934.0</td>\n",
       "      <td>Asia</td>\n",
       "      <td>30.332</td>\n",
       "      <td>820.853030</td>\n",
       "    </tr>\n",
       "  </tbody>\n",
       "</table>\n",
       "</div>"
      ],
      "text/plain": [
       "       country  year        pop continent  lifeExp   gdpPercap\n",
       "0  Afghanistan  1952  8425333.0      Asia   28.801  779.445314\n",
       "1  Afghanistan  1957  9240934.0      Asia   30.332  820.853030"
      ]
     },
     "execution_count": 226,
     "metadata": {},
     "output_type": "execute_result"
    }
   ],
   "source": [
    "df.head(2)"
   ]
  },
  {
   "cell_type": "markdown",
   "id": "a5ca2043",
   "metadata": {},
   "source": [
    "The `.head()` method let's us look at actual data like we would likely do in Excel. This dataset has some high level country metrics about population and the economy going back to 1952. "
   ]
  },
  {
   "cell_type": "markdown",
   "id": "56c53871",
   "metadata": {},
   "source": [
    "## 3.1.2. Selecting columns (variables)"
   ]
  },
  {
   "cell_type": "markdown",
   "id": "b520f022",
   "metadata": {},
   "source": [
    "In the \"real world\" of data its not uncommon to see hundreds or thousands of columns, so knowing how to pare down our dataset so it is not overly bloated is important. Our dataset is just 6 columns wide, so not too big, but let's go ahead and narrow it down anyway.  \n",
    "\n",
    "Let's create an object (in this case a dataframe) called \"narrow_df\" and then specify the names of columns that we want to have in our slimmed down dataset. We are primarily interested in population, but we want to have year, country, and continent in there too. After we create it let's take a look at the new dataframe:"
   ]
  },
  {
   "cell_type": "code",
   "execution_count": 182,
   "id": "45f78efe",
   "metadata": {},
   "outputs": [
    {
     "data": {
      "text/html": [
       "<div>\n",
       "<style scoped>\n",
       "    .dataframe tbody tr th:only-of-type {\n",
       "        vertical-align: middle;\n",
       "    }\n",
       "\n",
       "    .dataframe tbody tr th {\n",
       "        vertical-align: top;\n",
       "    }\n",
       "\n",
       "    .dataframe thead th {\n",
       "        text-align: right;\n",
       "    }\n",
       "</style>\n",
       "<table border=\"1\" class=\"dataframe\">\n",
       "  <thead>\n",
       "    <tr style=\"text-align: right;\">\n",
       "      <th></th>\n",
       "      <th>country</th>\n",
       "      <th>year</th>\n",
       "      <th>pop</th>\n",
       "      <th>continent</th>\n",
       "    </tr>\n",
       "  </thead>\n",
       "  <tbody>\n",
       "    <tr>\n",
       "      <th>0</th>\n",
       "      <td>Afghanistan</td>\n",
       "      <td>1952</td>\n",
       "      <td>8425333.0</td>\n",
       "      <td>Asia</td>\n",
       "    </tr>\n",
       "    <tr>\n",
       "      <th>1</th>\n",
       "      <td>Afghanistan</td>\n",
       "      <td>1957</td>\n",
       "      <td>9240934.0</td>\n",
       "      <td>Asia</td>\n",
       "    </tr>\n",
       "  </tbody>\n",
       "</table>\n",
       "</div>"
      ],
      "text/plain": [
       "       country  year        pop continent\n",
       "0  Afghanistan  1952  8425333.0      Asia\n",
       "1  Afghanistan  1957  9240934.0      Asia"
      ]
     },
     "execution_count": 182,
     "metadata": {},
     "output_type": "execute_result"
    }
   ],
   "source": [
    "narrow_df = df[['country', 'year', 'pop', 'continent']]\n",
    "narrow_df.head(2)"
   ]
  },
  {
   "cell_type": "markdown",
   "id": "5fd923e9",
   "metadata": {},
   "source": [
    "So now we have a more manageable dataset to work with called narrow_df. The original dataframe df is still there, and still the same size as before it we want to have a look though. \n",
    "\n",
    ":::{.callout-important}\n",
    "When you create a variable or dataframe in python, to the left of the `=` sign you always put the name of the thing you want to make or modify. To the right, that's where you put the contents of what it is you want to create. It may feel counterintuitive! Especially if you are using the same variable or dataframe identifier on both sides of the equals sign.\n",
    ":::"
   ]
  },
  {
   "cell_type": "markdown",
   "id": "cbb04c74",
   "metadata": {},
   "source": [
    ":::{.callout-warning icon=\"false\"}\n",
    "\n",
    "### Challenge 1\n",
    "\n",
    "\n",
    "\n",
    "Let's say you just want to narrow down the dataset to include just the country and the GDP per capita. How would you do it? Don't forget to run your code so it also shows a view of the result so you can confirm the code worked as you wanted it to. \n",
    "\n",
    ":::\n",
    "\n",
    "\n",
    "\n",
    ":::{.callout-note icon=\"false\" collapse=\"true\"}\n",
    "\n",
    "### Solution to Challenge 1\n",
    "\n",
    "First you would like to create a new object to hold this narrowed down version of the dataset, then just use some method like `.head()` to see some of the resulting data. \n",
    "\n",
    "```python\n",
    "challenge1_df = df[['country', 'gdpPercap']]\n",
    "challenge1_df.head(2)\n",
    "```\n",
    "\n",
    ":::"
   ]
  },
  {
   "cell_type": "markdown",
   "id": "3f58da7b",
   "metadata": {},
   "source": [
    "## 3.1.3. Selecting rows"
   ]
  },
  {
   "cell_type": "markdown",
   "id": "9dbbaadb",
   "metadata": {},
   "source": [
    "Of course, in data analysis we are usually interested in looking at just some of rows of data, not all of it all the time. So when we want to look at just selected rows (i.e. values within a given column) there is a hand pandas function called `.query()` that we can leverage. It helps us with selecting the rows we want. \n",
    "\n",
    "We set up an expression in pandas  with `.query()` and it will evaluate it for us. For example, imagine we want to find just the rows where the year is 1972. Here's how we do that, using `==` instead of just `=`:"
   ]
  },
  {
   "cell_type": "code",
   "execution_count": 186,
   "id": "05377b95",
   "metadata": {},
   "outputs": [
    {
     "data": {
      "text/html": [
       "<div>\n",
       "<style scoped>\n",
       "    .dataframe tbody tr th:only-of-type {\n",
       "        vertical-align: middle;\n",
       "    }\n",
       "\n",
       "    .dataframe tbody tr th {\n",
       "        vertical-align: top;\n",
       "    }\n",
       "\n",
       "    .dataframe thead th {\n",
       "        text-align: right;\n",
       "    }\n",
       "</style>\n",
       "<table border=\"1\" class=\"dataframe\">\n",
       "  <thead>\n",
       "    <tr style=\"text-align: right;\">\n",
       "      <th></th>\n",
       "      <th>country</th>\n",
       "      <th>year</th>\n",
       "      <th>pop</th>\n",
       "      <th>continent</th>\n",
       "      <th>lifeExp</th>\n",
       "      <th>gdpPercap</th>\n",
       "    </tr>\n",
       "  </thead>\n",
       "  <tbody>\n",
       "    <tr>\n",
       "      <th>4</th>\n",
       "      <td>Afghanistan</td>\n",
       "      <td>1972</td>\n",
       "      <td>13079460.0</td>\n",
       "      <td>Asia</td>\n",
       "      <td>36.088</td>\n",
       "      <td>739.981106</td>\n",
       "    </tr>\n",
       "    <tr>\n",
       "      <th>16</th>\n",
       "      <td>Albania</td>\n",
       "      <td>1972</td>\n",
       "      <td>2263554.0</td>\n",
       "      <td>Europe</td>\n",
       "      <td>67.690</td>\n",
       "      <td>3313.422188</td>\n",
       "    </tr>\n",
       "  </tbody>\n",
       "</table>\n",
       "</div>"
      ],
      "text/plain": [
       "        country  year         pop continent  lifeExp    gdpPercap\n",
       "4   Afghanistan  1972  13079460.0      Asia   36.088   739.981106\n",
       "16      Albania  1972   2263554.0    Europe   67.690  3313.422188"
      ]
     },
     "execution_count": 186,
     "metadata": {},
     "output_type": "execute_result"
    }
   ],
   "source": [
    "filtered_df = df.query('year == 1972')\n",
    "filtered_df.head(2)"
   ]
  },
  {
   "cell_type": "markdown",
   "id": "160f43ef",
   "metadata": {},
   "source": [
    "We can even get more specific with string variables, looking for content by starting letter or letters.  For example, here's how we can look for specific countries: "
   ]
  },
  {
   "cell_type": "code",
   "execution_count": 222,
   "id": "69e4b452",
   "metadata": {},
   "outputs": [
    {
     "data": {
      "text/html": [
       "<div>\n",
       "<style scoped>\n",
       "    .dataframe tbody tr th:only-of-type {\n",
       "        vertical-align: middle;\n",
       "    }\n",
       "\n",
       "    .dataframe tbody tr th {\n",
       "        vertical-align: top;\n",
       "    }\n",
       "\n",
       "    .dataframe thead th {\n",
       "        text-align: right;\n",
       "    }\n",
       "</style>\n",
       "<table border=\"1\" class=\"dataframe\">\n",
       "  <thead>\n",
       "    <tr style=\"text-align: right;\">\n",
       "      <th></th>\n",
       "      <th>country</th>\n",
       "      <th>year</th>\n",
       "      <th>pop</th>\n",
       "      <th>continent</th>\n",
       "      <th>lifeExp</th>\n",
       "      <th>gdpPercap</th>\n",
       "    </tr>\n",
       "  </thead>\n",
       "  <tbody>\n",
       "    <tr>\n",
       "      <th>220</th>\n",
       "      <td>Cambodia</td>\n",
       "      <td>1972</td>\n",
       "      <td>7450606.0</td>\n",
       "      <td>Asia</td>\n",
       "      <td>40.317</td>\n",
       "      <td>421.624026</td>\n",
       "    </tr>\n",
       "    <tr>\n",
       "      <th>232</th>\n",
       "      <td>Cameroon</td>\n",
       "      <td>1972</td>\n",
       "      <td>7021028.0</td>\n",
       "      <td>Africa</td>\n",
       "      <td>47.049</td>\n",
       "      <td>1684.146528</td>\n",
       "    </tr>\n",
       "    <tr>\n",
       "      <th>244</th>\n",
       "      <td>Canada</td>\n",
       "      <td>1972</td>\n",
       "      <td>22284500.0</td>\n",
       "      <td>Americas</td>\n",
       "      <td>72.880</td>\n",
       "      <td>18970.570860</td>\n",
       "    </tr>\n",
       "  </tbody>\n",
       "</table>\n",
       "</div>"
      ],
      "text/plain": [
       "      country  year         pop continent  lifeExp     gdpPercap\n",
       "220  Cambodia  1972   7450606.0      Asia   40.317    421.624026\n",
       "232  Cameroon  1972   7021028.0    Africa   47.049   1684.146528\n",
       "244    Canada  1972  22284500.0  Americas   72.880  18970.570860"
      ]
     },
     "execution_count": 222,
     "metadata": {},
     "output_type": "execute_result"
    }
   ],
   "source": [
    "filtered_df = df.query('country.str.startswith(\"C\") & year == 1972')\n",
    "filtered_df.head(3)\n"
   ]
  },
  {
   "cell_type": "markdown",
   "id": "db116c6d",
   "metadata": {},
   "source": [
    ":::{.callout-warning icon=\"false\"}\n",
    "\n",
    "### Challenge 2\n",
    "\n",
    "\n",
    "\n",
    "Your director has come to you and asked if you what the life expectancy was is in Canada in 2007.  How would you use pandas code to get the data you need? And after having run the code, what's the answer? \n",
    "\n",
    ":::\n",
    "\n",
    "\n",
    "\n",
    ":::{.callout-note icon=\"false\" collapse=\"true\"}\n",
    "\n",
    "### Solution to Challenge 2\n",
    "\n",
    "First you would like to create a new object to hold this narrowed down version of the dataset, then just use some method like `.print()` or `.head()` to see some of the resulting data. \n",
    "\n",
    "```python\n",
    "challenge2_df = df.query('country.str.startswith(\"Canada\") & year == 1972')\n",
    "print(challenge2_df)\n",
    "```\n",
    "\n",
    ":::"
   ]
  },
  {
   "cell_type": "markdown",
   "id": "3feb10e6",
   "metadata": {},
   "source": [
    ":::{.callout-important}\n",
    "There is something else you should know about row selection. It is VERY common within python/pandas to see the `.loc()` and `.iloc()` codes to identify rows by index location.   The index starts at 0 for the first row (yes, \"0\", and not \"1\")!  And you can also use this method You may not ever need to use it, but it is good to know what it means when you come across it. \n",
    ":::"
   ]
  },
  {
   "cell_type": "code",
   "execution_count": 27,
   "id": "226d90e7",
   "metadata": {},
   "outputs": [
    {
     "name": "stdout",
     "output_type": "stream",
     "text": [
      "       country  year        pop continent  lifeExp   gdpPercap\n",
      "0  Afghanistan  1952  8425333.0      Asia   28.801  779.445314\n",
      "1  Afghanistan  1957  9240934.0      Asia   30.332  820.853030\n"
     ]
    }
   ],
   "source": [
    "x_df = df.loc[0:1]\n",
    "print(x_df)"
   ]
  },
  {
   "cell_type": "markdown",
   "id": "99ffdbd1",
   "metadata": {},
   "source": [
    "## 3.1.4. Sorting rows"
   ]
  },
  {
   "cell_type": "markdown",
   "id": "b8865850",
   "metadata": {},
   "source": [
    "So now you've mastered how to select rows and columns you want, congratulations!\n",
    "\n",
    "Instead of hunting and pecking for insights, one way to quickly make some sense of the data is to sort it - something you probably do in Excel all the time. "
   ]
  },
  {
   "cell_type": "markdown",
   "id": "23250cae",
   "metadata": {},
   "source": [
    "Above, we have created a dataframe with just the one country in it and for all years above 1972. So now let's sort the data by year, and then see what can spot any insights. To do this, we use the `.sort_values()` method.\n",
    "\n",
    "Let's go fetch and look at the filtered_df dataframe from above, and use this method to sort by year, going from more recent to less recent:"
   ]
  },
  {
   "cell_type": "code",
   "execution_count": 223,
   "id": "3d36f109",
   "metadata": {},
   "outputs": [
    {
     "data": {
      "text/html": [
       "<div>\n",
       "<style scoped>\n",
       "    .dataframe tbody tr th:only-of-type {\n",
       "        vertical-align: middle;\n",
       "    }\n",
       "\n",
       "    .dataframe tbody tr th {\n",
       "        vertical-align: top;\n",
       "    }\n",
       "\n",
       "    .dataframe thead th {\n",
       "        text-align: right;\n",
       "    }\n",
       "</style>\n",
       "<table border=\"1\" class=\"dataframe\">\n",
       "  <thead>\n",
       "    <tr style=\"text-align: right;\">\n",
       "      <th></th>\n",
       "      <th>country</th>\n",
       "      <th>year</th>\n",
       "      <th>pop</th>\n",
       "      <th>continent</th>\n",
       "      <th>lifeExp</th>\n",
       "      <th>gdpPercap</th>\n",
       "    </tr>\n",
       "  </thead>\n",
       "  <tbody>\n",
       "    <tr>\n",
       "      <th>244</th>\n",
       "      <td>Canada</td>\n",
       "      <td>1972</td>\n",
       "      <td>22284500.0</td>\n",
       "      <td>Americas</td>\n",
       "      <td>72.88000</td>\n",
       "      <td>18970.570860</td>\n",
       "    </tr>\n",
       "    <tr>\n",
       "      <th>388</th>\n",
       "      <td>Cuba</td>\n",
       "      <td>1972</td>\n",
       "      <td>8831348.0</td>\n",
       "      <td>Americas</td>\n",
       "      <td>70.72300</td>\n",
       "      <td>5305.445256</td>\n",
       "    </tr>\n",
       "    <tr>\n",
       "      <th>400</th>\n",
       "      <td>Czech Republic</td>\n",
       "      <td>1972</td>\n",
       "      <td>9862158.0</td>\n",
       "      <td>Europe</td>\n",
       "      <td>70.29000</td>\n",
       "      <td>13108.453600</td>\n",
       "    </tr>\n",
       "    <tr>\n",
       "      <th>376</th>\n",
       "      <td>Croatia</td>\n",
       "      <td>1972</td>\n",
       "      <td>4225310.0</td>\n",
       "      <td>Europe</td>\n",
       "      <td>69.61000</td>\n",
       "      <td>9164.090127</td>\n",
       "    </tr>\n",
       "    <tr>\n",
       "      <th>352</th>\n",
       "      <td>Costa Rica</td>\n",
       "      <td>1972</td>\n",
       "      <td>1834796.0</td>\n",
       "      <td>Americas</td>\n",
       "      <td>67.84900</td>\n",
       "      <td>5118.146939</td>\n",
       "    </tr>\n",
       "    <tr>\n",
       "      <th>280</th>\n",
       "      <td>Chile</td>\n",
       "      <td>1972</td>\n",
       "      <td>9717524.0</td>\n",
       "      <td>Americas</td>\n",
       "      <td>63.44100</td>\n",
       "      <td>5494.024437</td>\n",
       "    </tr>\n",
       "    <tr>\n",
       "      <th>292</th>\n",
       "      <td>China</td>\n",
       "      <td>1972</td>\n",
       "      <td>862030000.0</td>\n",
       "      <td>Asia</td>\n",
       "      <td>63.11888</td>\n",
       "      <td>676.900092</td>\n",
       "    </tr>\n",
       "    <tr>\n",
       "      <th>304</th>\n",
       "      <td>Colombia</td>\n",
       "      <td>1972</td>\n",
       "      <td>22542890.0</td>\n",
       "      <td>Americas</td>\n",
       "      <td>61.62300</td>\n",
       "      <td>3264.660041</td>\n",
       "    </tr>\n",
       "    <tr>\n",
       "      <th>340</th>\n",
       "      <td>Congo Rep.</td>\n",
       "      <td>1972</td>\n",
       "      <td>1340458.0</td>\n",
       "      <td>Africa</td>\n",
       "      <td>54.90700</td>\n",
       "      <td>3213.152683</td>\n",
       "    </tr>\n",
       "    <tr>\n",
       "      <th>364</th>\n",
       "      <td>Cote d'Ivoire</td>\n",
       "      <td>1972</td>\n",
       "      <td>6071696.0</td>\n",
       "      <td>Africa</td>\n",
       "      <td>49.80100</td>\n",
       "      <td>2378.201111</td>\n",
       "    </tr>\n",
       "    <tr>\n",
       "      <th>316</th>\n",
       "      <td>Comoros</td>\n",
       "      <td>1972</td>\n",
       "      <td>250027.0</td>\n",
       "      <td>Africa</td>\n",
       "      <td>48.94400</td>\n",
       "      <td>1937.577675</td>\n",
       "    </tr>\n",
       "    <tr>\n",
       "      <th>232</th>\n",
       "      <td>Cameroon</td>\n",
       "      <td>1972</td>\n",
       "      <td>7021028.0</td>\n",
       "      <td>Africa</td>\n",
       "      <td>47.04900</td>\n",
       "      <td>1684.146528</td>\n",
       "    </tr>\n",
       "    <tr>\n",
       "      <th>328</th>\n",
       "      <td>Congo Dem. Rep.</td>\n",
       "      <td>1972</td>\n",
       "      <td>23007669.0</td>\n",
       "      <td>Africa</td>\n",
       "      <td>45.98900</td>\n",
       "      <td>904.896068</td>\n",
       "    </tr>\n",
       "    <tr>\n",
       "      <th>268</th>\n",
       "      <td>Chad</td>\n",
       "      <td>1972</td>\n",
       "      <td>3899068.0</td>\n",
       "      <td>Africa</td>\n",
       "      <td>45.56900</td>\n",
       "      <td>1104.103987</td>\n",
       "    </tr>\n",
       "    <tr>\n",
       "      <th>256</th>\n",
       "      <td>Central African Republic</td>\n",
       "      <td>1972</td>\n",
       "      <td>1927260.0</td>\n",
       "      <td>Africa</td>\n",
       "      <td>43.45700</td>\n",
       "      <td>1070.013275</td>\n",
       "    </tr>\n",
       "    <tr>\n",
       "      <th>220</th>\n",
       "      <td>Cambodia</td>\n",
       "      <td>1972</td>\n",
       "      <td>7450606.0</td>\n",
       "      <td>Asia</td>\n",
       "      <td>40.31700</td>\n",
       "      <td>421.624026</td>\n",
       "    </tr>\n",
       "  </tbody>\n",
       "</table>\n",
       "</div>"
      ],
      "text/plain": [
       "                      country  year          pop continent   lifeExp  \\\n",
       "244                    Canada  1972   22284500.0  Americas  72.88000   \n",
       "388                      Cuba  1972    8831348.0  Americas  70.72300   \n",
       "400            Czech Republic  1972    9862158.0    Europe  70.29000   \n",
       "376                   Croatia  1972    4225310.0    Europe  69.61000   \n",
       "352                Costa Rica  1972    1834796.0  Americas  67.84900   \n",
       "280                     Chile  1972    9717524.0  Americas  63.44100   \n",
       "292                     China  1972  862030000.0      Asia  63.11888   \n",
       "304                  Colombia  1972   22542890.0  Americas  61.62300   \n",
       "340                Congo Rep.  1972    1340458.0    Africa  54.90700   \n",
       "364             Cote d'Ivoire  1972    6071696.0    Africa  49.80100   \n",
       "316                   Comoros  1972     250027.0    Africa  48.94400   \n",
       "232                  Cameroon  1972    7021028.0    Africa  47.04900   \n",
       "328           Congo Dem. Rep.  1972   23007669.0    Africa  45.98900   \n",
       "268                      Chad  1972    3899068.0    Africa  45.56900   \n",
       "256  Central African Republic  1972    1927260.0    Africa  43.45700   \n",
       "220                  Cambodia  1972    7450606.0      Asia  40.31700   \n",
       "\n",
       "        gdpPercap  \n",
       "244  18970.570860  \n",
       "388   5305.445256  \n",
       "400  13108.453600  \n",
       "376   9164.090127  \n",
       "352   5118.146939  \n",
       "280   5494.024437  \n",
       "292    676.900092  \n",
       "304   3264.660041  \n",
       "340   3213.152683  \n",
       "364   2378.201111  \n",
       "316   1937.577675  \n",
       "232   1684.146528  \n",
       "328    904.896068  \n",
       "268   1104.103987  \n",
       "256   1070.013275  \n",
       "220    421.624026  "
      ]
     },
     "execution_count": 223,
     "metadata": {},
     "output_type": "execute_result"
    }
   ],
   "source": [
    "filtered_df.sort_values('lifeExp', ascending=False)\n",
    "#"
   ]
  },
  {
   "cell_type": "markdown",
   "id": "920bd45a",
   "metadata": {},
   "source": [
    "Here we can read a few insights out of the data."
   ]
  },
  {
   "cell_type": "markdown",
   "id": "8ad0a5df",
   "metadata": {},
   "source": [
    "## 3.1.5. Putting multiple methods together (chaining)"
   ]
  },
  {
   "cell_type": "markdown",
   "id": "35b4cee5",
   "metadata": {},
   "source": [
    "You can also put multiple methods in the same line of code, as long as you separate each of the elements. In pandas, this is called \"method chaining\",  as you are kind of creating a chain of actions to take place. "
   ]
  },
  {
   "cell_type": "code",
   "execution_count": 208,
   "id": "3557e9a5",
   "metadata": {
    "scrolled": true
   },
   "outputs": [
    {
     "data": {
      "text/html": [
       "<div>\n",
       "<style scoped>\n",
       "    .dataframe tbody tr th:only-of-type {\n",
       "        vertical-align: middle;\n",
       "    }\n",
       "\n",
       "    .dataframe tbody tr th {\n",
       "        vertical-align: top;\n",
       "    }\n",
       "\n",
       "    .dataframe thead th {\n",
       "        text-align: right;\n",
       "    }\n",
       "</style>\n",
       "<table border=\"1\" class=\"dataframe\">\n",
       "  <thead>\n",
       "    <tr style=\"text-align: right;\">\n",
       "      <th></th>\n",
       "      <th>country</th>\n",
       "      <th>year</th>\n",
       "      <th>pop</th>\n",
       "      <th>continent</th>\n",
       "      <th>lifeExp</th>\n",
       "      <th>gdpPercap</th>\n",
       "    </tr>\n",
       "  </thead>\n",
       "  <tbody>\n",
       "    <tr>\n",
       "      <th>227</th>\n",
       "      <td>Cambodia</td>\n",
       "      <td>2007</td>\n",
       "      <td>14131858.0</td>\n",
       "      <td>Asia</td>\n",
       "      <td>59.723</td>\n",
       "      <td>1713.778686</td>\n",
       "    </tr>\n",
       "    <tr>\n",
       "      <th>239</th>\n",
       "      <td>Cameroon</td>\n",
       "      <td>2007</td>\n",
       "      <td>17696293.0</td>\n",
       "      <td>Africa</td>\n",
       "      <td>50.430</td>\n",
       "      <td>2042.095240</td>\n",
       "    </tr>\n",
       "    <tr>\n",
       "      <th>251</th>\n",
       "      <td>Canada</td>\n",
       "      <td>2007</td>\n",
       "      <td>33390141.0</td>\n",
       "      <td>Americas</td>\n",
       "      <td>80.653</td>\n",
       "      <td>36319.235010</td>\n",
       "    </tr>\n",
       "  </tbody>\n",
       "</table>\n",
       "</div>"
      ],
      "text/plain": [
       "      country  year         pop continent  lifeExp     gdpPercap\n",
       "227  Cambodia  2007  14131858.0      Asia   59.723   1713.778686\n",
       "239  Cameroon  2007  17696293.0    Africa   50.430   2042.095240\n",
       "251    Canada  2007  33390141.0  Americas   80.653  36319.235010"
      ]
     },
     "execution_count": 208,
     "metadata": {},
     "output_type": "execute_result"
    }
   ],
   "source": [
    "filtered_df = df.query('country.str.startswith(\"Ca\") & year == 2007').sort_values('year', ascending = False)\n",
    "filtered_df.head(3)"
   ]
  },
  {
   "cell_type": "markdown",
   "id": "bdebef54",
   "metadata": {},
   "source": [
    ":::{.callout-warning icon=\"false\"}\n",
    "\n",
    "### Challenge 3\n",
    "\n",
    "\n",
    "\n",
    "Your director has come back to you and wondered aloud whether the life expectancy of people changed during the 1970s in Cambodia. Use what you know about selecting rows and sorting data to get the data you need to answer the question. \n",
    "\n",
    ":::\n",
    "\n",
    "\n",
    "\n",
    ":::{.callout-note icon=\"false\" collapse=\"true\"}\n",
    "\n",
    "### Solution to Challenge 3\n",
    "\n",
    "Using the query() and sort.values() methods and by chaining them together. Looking at the data we see that in the 1970s there was a sharp decline in life expectancy in Cambodia. We also see, thankfully, that is has recovered strongly since then. \n",
    "\n",
    "```python\n",
    "challenge3_df = df.query('country.str.startswith(\"Cambodia\") & year < 2008').sort_values('year', ascending = False)\n",
    "print(challenge3_df)\n",
    "```\n",
    "\n",
    ":::"
   ]
  },
  {
   "cell_type": "markdown",
   "id": "757de03d",
   "metadata": {},
   "source": [
    "## 3.1.6. Creating new columns of data"
   ]
  },
  {
   "cell_type": "markdown",
   "id": "50f9ea68",
   "metadata": {},
   "source": [
    "Very often we have some data in our dataset that we want to transform to give us additional information.\n",
    "\n",
    "In Excel this is something that is done all the time by creating a formula in a cell that refers to other columns and applies some sort of logic or mathematical expression to it. In pandas, one handy tool to use is the `.assign()` method. \n",
    "\n",
    "Imagine we want to know what the actual GDP is for a given country for a given year and not just the GDP per capita. Can we do this? Let's take a look. It's with the help of an additional function called lambda. \n",
    "\n",
    "We create our own little function right inside of the code that allows us to create this column (or variable, or feature). The logic is:\n",
    "\n",
    "(new_variable_name  = `lambda x: some expression involving x and math and/or other variables`)\n",
    "\n",
    "The `.assign()` method looks at this expression and then returns the value it is asked to do. This is how it comes all together to give us actual GDP for each row in our dataframe:"
   ]
  },
  {
   "cell_type": "code",
   "execution_count": 60,
   "id": "8e135e02",
   "metadata": {},
   "outputs": [
    {
     "data": {
      "text/html": [
       "<div>\n",
       "<style scoped>\n",
       "    .dataframe tbody tr th:only-of-type {\n",
       "        vertical-align: middle;\n",
       "    }\n",
       "\n",
       "    .dataframe tbody tr th {\n",
       "        vertical-align: top;\n",
       "    }\n",
       "\n",
       "    .dataframe thead th {\n",
       "        text-align: right;\n",
       "    }\n",
       "</style>\n",
       "<table border=\"1\" class=\"dataframe\">\n",
       "  <thead>\n",
       "    <tr style=\"text-align: right;\">\n",
       "      <th></th>\n",
       "      <th>country</th>\n",
       "      <th>year</th>\n",
       "      <th>pop</th>\n",
       "      <th>continent</th>\n",
       "      <th>lifeExp</th>\n",
       "      <th>gdpPercap</th>\n",
       "      <th>gdp</th>\n",
       "    </tr>\n",
       "  </thead>\n",
       "  <tbody>\n",
       "    <tr>\n",
       "      <th>1619</th>\n",
       "      <td>United States</td>\n",
       "      <td>2007</td>\n",
       "      <td>3.011399e+08</td>\n",
       "      <td>Americas</td>\n",
       "      <td>78.242</td>\n",
       "      <td>42951.653090</td>\n",
       "      <td>1.293446e+13</td>\n",
       "    </tr>\n",
       "    <tr>\n",
       "      <th>299</th>\n",
       "      <td>China</td>\n",
       "      <td>2007</td>\n",
       "      <td>1.318683e+09</td>\n",
       "      <td>Asia</td>\n",
       "      <td>72.961</td>\n",
       "      <td>4959.114854</td>\n",
       "      <td>6.539501e+12</td>\n",
       "    </tr>\n",
       "    <tr>\n",
       "      <th>803</th>\n",
       "      <td>Japan</td>\n",
       "      <td>2007</td>\n",
       "      <td>1.274680e+08</td>\n",
       "      <td>Asia</td>\n",
       "      <td>82.603</td>\n",
       "      <td>31656.068060</td>\n",
       "      <td>4.035135e+12</td>\n",
       "    </tr>\n",
       "    <tr>\n",
       "      <th>707</th>\n",
       "      <td>India</td>\n",
       "      <td>2007</td>\n",
       "      <td>1.110396e+09</td>\n",
       "      <td>Asia</td>\n",
       "      <td>64.698</td>\n",
       "      <td>2452.210407</td>\n",
       "      <td>2.722925e+12</td>\n",
       "    </tr>\n",
       "    <tr>\n",
       "      <th>575</th>\n",
       "      <td>Germany</td>\n",
       "      <td>2007</td>\n",
       "      <td>8.240100e+07</td>\n",
       "      <td>Europe</td>\n",
       "      <td>79.406</td>\n",
       "      <td>32170.374420</td>\n",
       "      <td>2.650871e+12</td>\n",
       "    </tr>\n",
       "  </tbody>\n",
       "</table>\n",
       "</div>"
      ],
      "text/plain": [
       "            country  year           pop continent  lifeExp     gdpPercap  \\\n",
       "1619  United States  2007  3.011399e+08  Americas   78.242  42951.653090   \n",
       "299           China  2007  1.318683e+09      Asia   72.961   4959.114854   \n",
       "803           Japan  2007  1.274680e+08      Asia   82.603  31656.068060   \n",
       "707           India  2007  1.110396e+09      Asia   64.698   2452.210407   \n",
       "575         Germany  2007  8.240100e+07    Europe   79.406  32170.374420   \n",
       "\n",
       "               gdp  \n",
       "1619  1.293446e+13  \n",
       "299   6.539501e+12  \n",
       "803   4.035135e+12  \n",
       "707   2.722925e+12  \n",
       "575   2.650871e+12  "
      ]
     },
     "execution_count": 60,
     "metadata": {},
     "output_type": "execute_result"
    }
   ],
   "source": [
    "new_df = df.assign(gdp=lambda x: x['pop'] * x['gdpPercap'])\n",
    "new_df = new_df.query('year == 2007').sort_values('gdp', ascending = False)\n",
    "new_df.head(5)\n"
   ]
  },
  {
   "cell_type": "markdown",
   "id": "4d70e42c",
   "metadata": {},
   "source": [
    "So now we can see which countries had the biggest GDP in 2007. Notice that the gdp data is in scientific notation (i.e. the decimal number times x number of zeros), so it's a bit hard to read. If we wanted readers to consume that data we would go ahead and change the data type for it. But for current purposes we'll leave that alone."
   ]
  },
  {
   "cell_type": "markdown",
   "id": "4e36944a",
   "metadata": {},
   "source": [
    "## 3.1.7. Joining datasets together"
   ]
  },
  {
   "cell_type": "markdown",
   "id": "bd6a7b00",
   "metadata": {},
   "source": [
    "One of the most important tasks in data analysis is to be able to join multiple datasets together. There is a second file that we can get regarding country size in square kilometers.  Let's fetch that data and take a look. "
   ]
  },
  {
   "cell_type": "code",
   "execution_count": 199,
   "id": "4f8bc267",
   "metadata": {},
   "outputs": [
    {
     "name": "stdout",
     "output_type": "stream",
     "text": [
      "<class 'pandas.core.frame.DataFrame'>\n",
      "RangeIndex: 235 entries, 0 to 234\n",
      "Data columns (total 2 columns):\n",
      " #   Column           Non-Null Count  Dtype \n",
      "---  ------           --------------  ----- \n",
      " 0   nation           235 non-null    object\n",
      " 1   area_square_kms  235 non-null    int64 \n",
      "dtypes: int64(1), object(1)\n",
      "memory usage: 3.8+ KB\n"
     ]
    },
    {
     "data": {
      "text/html": [
       "<div>\n",
       "<style scoped>\n",
       "    .dataframe tbody tr th:only-of-type {\n",
       "        vertical-align: middle;\n",
       "    }\n",
       "\n",
       "    .dataframe tbody tr th {\n",
       "        vertical-align: top;\n",
       "    }\n",
       "\n",
       "    .dataframe thead th {\n",
       "        text-align: right;\n",
       "    }\n",
       "</style>\n",
       "<table border=\"1\" class=\"dataframe\">\n",
       "  <thead>\n",
       "    <tr style=\"text-align: right;\">\n",
       "      <th></th>\n",
       "      <th>nation</th>\n",
       "      <th>area_square_kms</th>\n",
       "    </tr>\n",
       "  </thead>\n",
       "  <tbody>\n",
       "    <tr>\n",
       "      <th>78</th>\n",
       "      <td>Guinea</td>\n",
       "      <td>245857</td>\n",
       "    </tr>\n",
       "    <tr>\n",
       "      <th>88</th>\n",
       "      <td>Syria</td>\n",
       "      <td>185180</td>\n",
       "    </tr>\n",
       "  </tbody>\n",
       "</table>\n",
       "</div>"
      ],
      "text/plain": [
       "    nation  area_square_kms\n",
       "78  Guinea           245857\n",
       "88   Syria           185180"
      ]
     },
     "execution_count": 199,
     "metadata": {},
     "output_type": "execute_result"
    }
   ],
   "source": [
    "url2 = \"https://raw.githubusercontent.com/bcgov/ds-intro-to-python/main/data/countrysize.csv\"\n",
    "df2 = pd.read_csv(url2, encoding= 'unicode_escape')\n",
    "df2.info()\n",
    "df2.sample(2)"
   ]
  },
  {
   "cell_type": "markdown",
   "id": "c3105ced",
   "metadata": {},
   "source": [
    "Ok, this new dataset looks like we expect - a list of countries alongside the land size in square kilometers. \n",
    "\n",
    "While pandas makes it possible to join two dataframes on their index, joining on a particular \"key\" column is also possible. Joining on a key column is likely more intuitive for those familiar with merging with vlookup in Excel or joining tables with SQL. So let's go ahead and join this based on the \"country\" column from the original dataset and \"nation\" from the second one. In database management language, we are going to to a left join (perhaps the most common type of join). \n",
    "\n",
    ":::{.callout-important}\n",
    "In pandas, there are two methods we can use to bring these datasets together, namely the `.merge()` and the `.join()` function. Both can accomplish many of the same tasks and you likely will come across both. But it probably makes sense to keep it simple and get familiar with one of them first, then move on to the next one later.\n",
    ":::\n",
    "\n",
    "In the example below we will use the `.join()` function. We will think of \"df\" as being the original dataset on the left, and df2 as the other dataset that we want to merge data from. We use for both the variable 'country' as the key to join on. We use an inline `.set_index()` function in order to preserve a nice looking index column on the left of the dataframe, based on the index of df. "
   ]
  },
  {
   "cell_type": "code",
   "execution_count": 201,
   "id": "030a6217",
   "metadata": {},
   "outputs": [
    {
     "data": {
      "text/html": [
       "<div>\n",
       "<style scoped>\n",
       "    .dataframe tbody tr th:only-of-type {\n",
       "        vertical-align: middle;\n",
       "    }\n",
       "\n",
       "    .dataframe tbody tr th {\n",
       "        vertical-align: top;\n",
       "    }\n",
       "\n",
       "    .dataframe thead th {\n",
       "        text-align: right;\n",
       "    }\n",
       "</style>\n",
       "<table border=\"1\" class=\"dataframe\">\n",
       "  <thead>\n",
       "    <tr style=\"text-align: right;\">\n",
       "      <th></th>\n",
       "      <th>country</th>\n",
       "      <th>year</th>\n",
       "      <th>pop</th>\n",
       "      <th>continent</th>\n",
       "      <th>lifeExp</th>\n",
       "      <th>gdpPercap</th>\n",
       "      <th>area_square_kms</th>\n",
       "    </tr>\n",
       "  </thead>\n",
       "  <tbody>\n",
       "    <tr>\n",
       "      <th>0</th>\n",
       "      <td>Afghanistan</td>\n",
       "      <td>1952</td>\n",
       "      <td>8425333.0</td>\n",
       "      <td>Asia</td>\n",
       "      <td>28.801</td>\n",
       "      <td>779.445314</td>\n",
       "      <td>652230.0</td>\n",
       "    </tr>\n",
       "    <tr>\n",
       "      <th>1</th>\n",
       "      <td>Afghanistan</td>\n",
       "      <td>1957</td>\n",
       "      <td>9240934.0</td>\n",
       "      <td>Asia</td>\n",
       "      <td>30.332</td>\n",
       "      <td>820.853030</td>\n",
       "      <td>652230.0</td>\n",
       "    </tr>\n",
       "  </tbody>\n",
       "</table>\n",
       "</div>"
      ],
      "text/plain": [
       "       country  year        pop continent  lifeExp   gdpPercap  \\\n",
       "0  Afghanistan  1952  8425333.0      Asia   28.801  779.445314   \n",
       "1  Afghanistan  1957  9240934.0      Asia   30.332  820.853030   \n",
       "\n",
       "   area_square_kms  \n",
       "0         652230.0  \n",
       "1         652230.0  "
      ]
     },
     "execution_count": 201,
     "metadata": {},
     "output_type": "execute_result"
    }
   ],
   "source": [
    "join_df = df.join(df2.set_index('nation'), on='country')\n",
    "join_df.head(2)"
   ]
  },
  {
   "cell_type": "markdown",
   "id": "ec480595",
   "metadata": {},
   "source": [
    "Now you want to see all of the columns in this new dataset but just for the year 2007 and you want to see it organized by gdp per capita. "
   ]
  },
  {
   "cell_type": "markdown",
   "id": "efc15245",
   "metadata": {},
   "source": [
    ":::{.callout-warning icon=\"false\"}\n",
    "\n",
    "### Challenge 4\n",
    "\n",
    "\n",
    "\n",
    "Your director has come back, yet again, and wants to know what top five countries were in terms GDP per capita in 2007. \n",
    "\n",
    ":::\n",
    "\n",
    "\n",
    "\n",
    ":::{.callout-note icon=\"false\" collapse=\"true\"}\n",
    "\n",
    "### Solution to Challenge 4\n",
    "\n",
    "Using the `.query()` method, you specfy that you want to return the values that are equivalent to the year of interest.  Then you can chain along the `.sort_values()` method \n",
    "\n",
    "```python\n",
    "challenge4_df = join_df.query('year == 2007').sort_values('gdpPercap', ascending = False)\n",
    "challenge4_df.head(5)\n",
    "```\n",
    "\n",
    ":::"
   ]
  },
  {
   "cell_type": "code",
   "execution_count": 130,
   "id": "fc1a1592",
   "metadata": {},
   "outputs": [
    {
     "data": {
      "text/html": [
       "<div>\n",
       "<style scoped>\n",
       "    .dataframe tbody tr th:only-of-type {\n",
       "        vertical-align: middle;\n",
       "    }\n",
       "\n",
       "    .dataframe tbody tr th {\n",
       "        vertical-align: top;\n",
       "    }\n",
       "\n",
       "    .dataframe thead th {\n",
       "        text-align: right;\n",
       "    }\n",
       "</style>\n",
       "<table border=\"1\" class=\"dataframe\">\n",
       "  <thead>\n",
       "    <tr style=\"text-align: right;\">\n",
       "      <th></th>\n",
       "      <th>country</th>\n",
       "      <th>year</th>\n",
       "      <th>pop</th>\n",
       "      <th>continent</th>\n",
       "      <th>lifeExp</th>\n",
       "      <th>gdpPercap</th>\n",
       "      <th>area_square_kms</th>\n",
       "    </tr>\n",
       "  </thead>\n",
       "  <tbody>\n",
       "    <tr>\n",
       "      <th>1151</th>\n",
       "      <td>Norway</td>\n",
       "      <td>2007</td>\n",
       "      <td>4627926.0</td>\n",
       "      <td>Europe</td>\n",
       "      <td>80.196</td>\n",
       "      <td>49357.19017</td>\n",
       "      <td>323802.0</td>\n",
       "    </tr>\n",
       "    <tr>\n",
       "      <th>863</th>\n",
       "      <td>Kuwait</td>\n",
       "      <td>2007</td>\n",
       "      <td>2505559.0</td>\n",
       "      <td>Asia</td>\n",
       "      <td>77.588</td>\n",
       "      <td>47306.98978</td>\n",
       "      <td>17818.0</td>\n",
       "    </tr>\n",
       "    <tr>\n",
       "      <th>1367</th>\n",
       "      <td>Singapore</td>\n",
       "      <td>2007</td>\n",
       "      <td>4553009.0</td>\n",
       "      <td>Asia</td>\n",
       "      <td>79.972</td>\n",
       "      <td>47143.17964</td>\n",
       "      <td>710.0</td>\n",
       "    </tr>\n",
       "    <tr>\n",
       "      <th>1619</th>\n",
       "      <td>United States</td>\n",
       "      <td>2007</td>\n",
       "      <td>301139947.0</td>\n",
       "      <td>Americas</td>\n",
       "      <td>78.242</td>\n",
       "      <td>42951.65309</td>\n",
       "      <td>9372610.0</td>\n",
       "    </tr>\n",
       "    <tr>\n",
       "      <th>755</th>\n",
       "      <td>Ireland</td>\n",
       "      <td>2007</td>\n",
       "      <td>4109086.0</td>\n",
       "      <td>Europe</td>\n",
       "      <td>78.885</td>\n",
       "      <td>40675.99635</td>\n",
       "      <td>70273.0</td>\n",
       "    </tr>\n",
       "  </tbody>\n",
       "</table>\n",
       "</div>"
      ],
      "text/plain": [
       "            country  year          pop continent  lifeExp    gdpPercap  \\\n",
       "1151         Norway  2007    4627926.0    Europe   80.196  49357.19017   \n",
       "863          Kuwait  2007    2505559.0      Asia   77.588  47306.98978   \n",
       "1367      Singapore  2007    4553009.0      Asia   79.972  47143.17964   \n",
       "1619  United States  2007  301139947.0  Americas   78.242  42951.65309   \n",
       "755         Ireland  2007    4109086.0    Europe   78.885  40675.99635   \n",
       "\n",
       "      area_square_kms  \n",
       "1151         323802.0  \n",
       "863           17818.0  \n",
       "1367            710.0  \n",
       "1619        9372610.0  \n",
       "755           70273.0  "
      ]
     },
     "execution_count": 130,
     "metadata": {},
     "output_type": "execute_result"
    }
   ],
   "source": [
    "challenge4_df = join_df.query('year == 2007').sort_values('gdpPercap', ascending = False)\n",
    "challenge4_df.head(5)"
   ]
  },
  {
   "cell_type": "markdown",
   "id": "9caf8f69",
   "metadata": {},
   "source": [
    "## 3.1.8. Grouping "
   ]
  },
  {
   "cell_type": "markdown",
   "id": "495aead8",
   "metadata": {},
   "source": [
    "Sometimes of course you would prefer to group rows together for the purpose of summarizing them somehow. With our current dataset, we would like to  summarize it so that we can see the breakdown of the metrics for each year by country in alphabetical order. \n",
    "\n",
    "We can accomplish this using the `.groupby()` method together with another mathematical function. "
   ]
  },
  {
   "cell_type": "code",
   "execution_count": 203,
   "id": "03562cb9",
   "metadata": {},
   "outputs": [
    {
     "data": {
      "text/html": [
       "<div>\n",
       "<style scoped>\n",
       "    .dataframe tbody tr th:only-of-type {\n",
       "        vertical-align: middle;\n",
       "    }\n",
       "\n",
       "    .dataframe tbody tr th {\n",
       "        vertical-align: top;\n",
       "    }\n",
       "\n",
       "    .dataframe thead th {\n",
       "        text-align: right;\n",
       "    }\n",
       "</style>\n",
       "<table border=\"1\" class=\"dataframe\">\n",
       "  <thead>\n",
       "    <tr style=\"text-align: right;\">\n",
       "      <th></th>\n",
       "      <th>pop</th>\n",
       "      <th>lifeExp</th>\n",
       "      <th>gdpPercap</th>\n",
       "      <th>area_square_kms</th>\n",
       "    </tr>\n",
       "    <tr>\n",
       "      <th>year</th>\n",
       "      <th></th>\n",
       "      <th></th>\n",
       "      <th></th>\n",
       "      <th></th>\n",
       "    </tr>\n",
       "  </thead>\n",
       "  <tbody>\n",
       "    <tr>\n",
       "      <th>1952</th>\n",
       "      <td>2.406957e+09</td>\n",
       "      <td>6966.18200</td>\n",
       "      <td>5.289892e+05</td>\n",
       "      <td>105279084.0</td>\n",
       "    </tr>\n",
       "    <tr>\n",
       "      <th>1957</th>\n",
       "      <td>2.664405e+09</td>\n",
       "      <td>7314.05096</td>\n",
       "      <td>6.105160e+05</td>\n",
       "      <td>105279084.0</td>\n",
       "    </tr>\n",
       "    <tr>\n",
       "      <th>1962</th>\n",
       "      <td>2.899783e+09</td>\n",
       "      <td>7612.51336</td>\n",
       "      <td>6.710654e+05</td>\n",
       "      <td>105279084.0</td>\n",
       "    </tr>\n",
       "    <tr>\n",
       "      <th>1967</th>\n",
       "      <td>3.217478e+09</td>\n",
       "      <td>7906.31712</td>\n",
       "      <td>7.786787e+05</td>\n",
       "      <td>105279084.0</td>\n",
       "    </tr>\n",
       "    <tr>\n",
       "      <th>1972</th>\n",
       "      <td>3.576977e+09</td>\n",
       "      <td>8185.92888</td>\n",
       "      <td>9.613518e+05</td>\n",
       "      <td>105279084.0</td>\n",
       "    </tr>\n",
       "    <tr>\n",
       "      <th>1977</th>\n",
       "      <td>3.930046e+09</td>\n",
       "      <td>8458.96236</td>\n",
       "      <td>1.038470e+06</td>\n",
       "      <td>105279084.0</td>\n",
       "    </tr>\n",
       "    <tr>\n",
       "      <th>1982</th>\n",
       "      <td>4.289437e+09</td>\n",
       "      <td>8737.71400</td>\n",
       "      <td>1.067684e+06</td>\n",
       "      <td>105279084.0</td>\n",
       "    </tr>\n",
       "    <tr>\n",
       "      <th>1987</th>\n",
       "      <td>4.691477e+09</td>\n",
       "      <td>8976.19100</td>\n",
       "      <td>1.121931e+06</td>\n",
       "      <td>105279084.0</td>\n",
       "    </tr>\n",
       "    <tr>\n",
       "      <th>1992</th>\n",
       "      <td>5.110710e+09</td>\n",
       "      <td>9110.76800</td>\n",
       "      <td>1.158522e+06</td>\n",
       "      <td>105279084.0</td>\n",
       "    </tr>\n",
       "    <tr>\n",
       "      <th>1997</th>\n",
       "      <td>5.515204e+09</td>\n",
       "      <td>9232.08400</td>\n",
       "      <td>1.290805e+06</td>\n",
       "      <td>105279084.0</td>\n",
       "    </tr>\n",
       "    <tr>\n",
       "      <th>2002</th>\n",
       "      <td>5.886978e+09</td>\n",
       "      <td>9328.67900</td>\n",
       "      <td>1.408334e+06</td>\n",
       "      <td>105279084.0</td>\n",
       "    </tr>\n",
       "    <tr>\n",
       "      <th>2007</th>\n",
       "      <td>6.251013e+09</td>\n",
       "      <td>9515.05400</td>\n",
       "      <td>1.658570e+06</td>\n",
       "      <td>105279084.0</td>\n",
       "    </tr>\n",
       "  </tbody>\n",
       "</table>\n",
       "</div>"
      ],
      "text/plain": [
       "               pop     lifeExp     gdpPercap  area_square_kms\n",
       "year                                                         \n",
       "1952  2.406957e+09  6966.18200  5.289892e+05      105279084.0\n",
       "1957  2.664405e+09  7314.05096  6.105160e+05      105279084.0\n",
       "1962  2.899783e+09  7612.51336  6.710654e+05      105279084.0\n",
       "1967  3.217478e+09  7906.31712  7.786787e+05      105279084.0\n",
       "1972  3.576977e+09  8185.92888  9.613518e+05      105279084.0\n",
       "1977  3.930046e+09  8458.96236  1.038470e+06      105279084.0\n",
       "1982  4.289437e+09  8737.71400  1.067684e+06      105279084.0\n",
       "1987  4.691477e+09  8976.19100  1.121931e+06      105279084.0\n",
       "1992  5.110710e+09  9110.76800  1.158522e+06      105279084.0\n",
       "1997  5.515204e+09  9232.08400  1.290805e+06      105279084.0\n",
       "2002  5.886978e+09  9328.67900  1.408334e+06      105279084.0\n",
       "2007  6.251013e+09  9515.05400  1.658570e+06      105279084.0"
      ]
     },
     "execution_count": 203,
     "metadata": {},
     "output_type": "execute_result"
    }
   ],
   "source": [
    "group_df = join_df.groupby(by=['year']).sum()\n",
    "group_df.head(20)"
   ]
  },
  {
   "cell_type": "markdown",
   "id": "cae9ac49",
   "metadata": {},
   "source": [
    "In the example above we see the sum of each of the metrics for all of the values in the respective year. So we see that world population grew from about 2.5 billion people in 1952 to over 6.25 billion in 2007. "
   ]
  },
  {
   "cell_type": "markdown",
   "id": "f9ff89be",
   "metadata": {},
   "source": [
    "## 3.1.9. Summary \n",
    "\n",
    "By now you should be able to select the rows and columns of data you want directly and generate some quick on the fly insights as you need to. The next section will look at some of the more sophisticated and elegant tools for understanding and presenting your data. But the building blocks you have just learned about are the meat and potatoes of data analysis in the python world. "
   ]
  }
 ],
 "metadata": {
  "kernelspec": {
   "display_name": "Python 3 (ipykernel)",
   "language": "python",
   "name": "python3"
  },
  "language_info": {
   "codemirror_mode": {
    "name": "ipython",
    "version": 3
   },
   "file_extension": ".py",
   "mimetype": "text/x-python",
   "name": "python",
   "nbconvert_exporter": "python",
   "pygments_lexer": "ipython3",
   "version": "3.9.12"
  },
  "vscode": {
   "interpreter": {
    "hash": "bdaced3afcf0c5f82d76021b3a08adca974a368e4bb1f701d06c9e3d72e7996a"
   }
  }
 },
 "nbformat": 4,
 "nbformat_minor": 5
}

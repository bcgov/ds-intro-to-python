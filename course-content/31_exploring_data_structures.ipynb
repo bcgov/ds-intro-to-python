{
 "cells": [
  {
   "cell_type": "raw",
   "id": "797c41b8",
   "metadata": {},
   "source": [
    "---\n",
    "title: \"Exploring Data Structures\"\n",
    "teaching: 45\n",
    "exercises: 10\n",
    "questions:\n",
    "- \"Fill this in!\"\n",
    "objectives:\n",
    " - \"to be able to understand and use some basic tools to manipulate dataframes\"\n",
    " - \"to be able to understand and use tools to create a subset of data based on logical filtering\"\n",
    " - \"to reinforce use of basic summarizing methods with the data\"\n",
    "keypoints:\n",
    "- \"Same verse!\"\n",
    "---"
   ]
  },
  {
   "cell_type": "markdown",
   "id": "fda058e4",
   "metadata": {},
   "source": [
    "## Part 3.1 Exploring and Understanding Data\n",
    "\n",
    "Getting a basic summary of the data is important. But analysis really will start to come alive when we start to do some slicing and dicing and grouping of data or even creating additional variables. In an Excel world, this is like when you use filter options for columns, or create pivot tables, or when you create a formula in a new column to create a new variable.\n",
    "\n",
    "In the world of python, this usually means working with a library or package you have already been introduced to called pandas. \n",
    "\n",
    "So let's get some data and start exploring!\n",
    "\n",
    "## LET'S GO!!\n",
    "\n",
    "The first dataset we'll look at is one that looks at data for countries around the world and shows population levels as well as gdp per capita over a number of years. It is a great data set to "
   ]
  },
  {
   "cell_type": "code",
   "execution_count": 2,
   "id": "9192911f",
   "metadata": {},
   "outputs": [],
   "source": [
    "#| output: false    \n",
    "import pandas as pd\n",
    "URL = \"https://raw.githubusercontent.com/bcgov/ds-intro-to-python/main/data/gapfinder.csv\"\n",
    "df = pd.read_csv(URL)"
   ]
  },
  {
   "cell_type": "markdown",
   "id": "61e788e4",
   "metadata": {},
   "source": [
    "It's usually a good idea right away to take a quick look at the data to make sure what we have read in makes sense. So let's do that using some pandas methods that we covered earlier."
   ]
  },
  {
   "cell_type": "code",
   "execution_count": 8,
   "id": "1812ff3e",
   "metadata": {},
   "outputs": [
    {
     "name": "stdout",
     "output_type": "stream",
     "text": [
      "<class 'pandas.core.frame.DataFrame'>\n",
      "RangeIndex: 1704 entries, 0 to 1703\n",
      "Data columns (total 6 columns):\n",
      " #   Column     Non-Null Count  Dtype  \n",
      "---  ------     --------------  -----  \n",
      " 0   country    1704 non-null   object \n",
      " 1   year       1704 non-null   int64  \n",
      " 2   pop        1704 non-null   float64\n",
      " 3   continent  1704 non-null   object \n",
      " 4   lifeExp    1704 non-null   float64\n",
      " 5   gdpPercap  1704 non-null   float64\n",
      "dtypes: float64(3), int64(1), object(2)\n",
      "memory usage: 80.0+ KB\n"
     ]
    },
    {
     "data": {
      "text/plain": [
       "(1704, 6)"
      ]
     },
     "execution_count": 8,
     "metadata": {},
     "output_type": "execute_result"
    }
   ],
   "source": [
    "df.info()\n",
    "df.shape"
   ]
  },
  {
   "cell_type": "markdown",
   "id": "454ef266",
   "metadata": {},
   "source": [
    "So this data is looking good. There are 1704 rows of data and 6 columns or variables. Happily there is no missing data to worry about!  "
   ]
  },
  {
   "cell_type": "code",
   "execution_count": 7,
   "id": "3557e9a5",
   "metadata": {},
   "outputs": [
    {
     "data": {
      "text/plain": [
       "(1704, 6)"
      ]
     },
     "execution_count": 7,
     "metadata": {},
     "output_type": "execute_result"
    }
   ],
   "source": [
    "\n",
    "\n"
   ]
  },
  {
   "cell_type": "code",
   "execution_count": null,
   "id": "05377b95",
   "metadata": {},
   "outputs": [],
   "source": []
  }
 ],
 "metadata": {
  "kernelspec": {
   "display_name": "Python 3 (ipykernel)",
   "language": "python",
   "name": "python3"
  },
  "language_info": {
   "codemirror_mode": {
    "name": "ipython",
    "version": 3
   },
   "file_extension": ".py",
   "mimetype": "text/x-python",
   "name": "python",
   "nbconvert_exporter": "python",
   "pygments_lexer": "ipython3",
   "version": "3.9.12"
  },
  "vscode": {
   "interpreter": {
    "hash": "bdaced3afcf0c5f82d76021b3a08adca974a368e4bb1f701d06c9e3d72e7996a"
   }
  }
 },
 "nbformat": 4,
 "nbformat_minor": 5
}

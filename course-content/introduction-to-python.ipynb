{
 "cells": [
  {
   "cell_type": "raw",
   "metadata": {},
   "source": [
    "---\n",
    "title: \"Introduction to Python\"\n",
    "author: \"Lindsay Forestell\"\n",
    "toc: true\n",
    "number-sections: true\n",
    "format:\n",
    "  html:\n",
    "    code-fold: false\n",
    "jupyter: python3\n",
    "---"
   ]
  },
  {
   "cell_type": "markdown",
   "metadata": {},
   "source": [
    "## Motivation\n",
    "\n",
    "Data has become interwined with the inner workings of nearly every facet of working within the BC Public Service. Whether you have to read an excel spreadsheet, prepare a report based on a survey, comb through csv files to find a specific data source, it is likely that you have worked with a dataset at some point in your career. However, the process of looking at and dealing with data can be messy, error-prone and hard to duplicate. Questions such as *'wait, how did I get that number again?'* are all too common. \n",
    "\n",
    "<center>\n",
    "    <img src=\"images/introduction-to-python/reproducible.jpeg\" height=300 style=\"margin:auto\"/>\n",
    "    <p style=\"text-align: center\">\n",
    "        The Messy Side of Data\n",
    "    </p>\n",
    "</center>\n",
    "\n",
    "These lessons will teach you how to interact with data in a systematic way using the python ecosystem. By accessing and interpreting data through a set of prescribed methods (developed through the code written), our work with data becomes more accessible, repeatable, and ultimately insightful. \n",
    "\n",
    "During the course of these lessons, we hope to cover:\n",
    "\n",
    "* Python preliminaries\n",
    "* Exploring and cleaning raw data\n",
    "* Using statistical methods\n",
    "* Plotting results graphically \n",
    "\n",
    "If we have time, we may touch on some more advanced python lessons, such as:\n",
    "\n",
    "* Publishing reports\n",
    "* Accessing the [B.C. Data Catalog](https://catalogue.data.gov.bc.ca/)\n",
    "* Machine learning in python \n",
    "\n"
   ]
  },
  {
   "cell_type": "markdown",
   "metadata": {
    "tags": []
   },
   "source": [
    "## BEFORE STARTING THE WORKSHOP!!\n",
    "\n",
    "So that we can hit the ground running with this workshop, we are asking that everyone get some basic python tools downloaded and installed **before** the workshop starts. Tools that we will use include Anaconda (or Miniconda) as well as VSCode. A basic knowledge of the command line/powershell interface will be useful as well, but we will try to keep our use of this to a minimum.\n",
    "\n",
    ":::{.callout-important}\n",
    "If you are having issues installing anything we have requested prior to the start of the workshop, please let us know so we can work with you so that we can hit the ground running!\n",
    ":::\n",
    "\n",
    "   * Anaconda/Miniconda is used to download, install, and organize both python and any packages/libraries we use within python. The actual program doing the organizing is `conda`, while we will use an `anaconda powershell` to do the installs and interface with python. \n",
    "   * VSCode is a tool used to write, edit and test code. It is available for more languages than just python, and its versatility has made it a widespread tool within the BCPS. \n",
    "\n",
    "### Install our Python Tools\n",
    "\n",
    "**If you do not have administrative rights on your computer:**\n",
    "\n",
    "Download Anaconda and VSCode from the B.C. Government Software Centre:\n",
    "\n",
    "   * Install Anaconda (Anaconda3X64 2022.05 Gen P0)\n",
    "   * Install VSCode (VSCodeX64 1.55.2 Gen P0)\n",
    "\n",
    "**If you do have administrative rights on your computer:**\n",
    "\n",
    "   * If you have administrative rights on your computer, we suggest downloading the lightweight version of Anaconda called Miniconda.\n",
    "        * [Link to instructions here!](https://docs.conda.io/projects/continuumio-conda/en/latest/user-guide/install/windows.html)\n",
    "   * [Find the latest version of VSCode here.](https://code.visualstudio.com/download) \n",
    "\n",
    "\n",
    "### Install some Python Packages\n",
    "\n",
    "Most of the time, when using python we are not using it by itself, but in conjunction with powerful libraries that have already been built to make our data analysis easier. In order to use these tools, we have to install them as well. Using a package manager such as `conda` makes our life much easier, as we can safely install tools into local environments where every library installed is checked for compatability with every other library. By utilizing the local conda environments, we maintain clean working spaces that can be easily reproduced between workstations. \n",
    "\n",
    "Let's run through the basic steps of setting up a conda environment, installing python and some packages, and testing that it worked! \n",
    "\n",
    "1. Open an `anaconda powershell prompt` from your search bar. \n",
    "\n",
    "<center>\n",
    "    <img src=\"images/introduction-to-python/anaconda_powershell_prompt.png\" style=\"margin:auto\"/>\n",
    "    <p style=\"text-align: center\">\n",
    "        Powershell Prompt\n",
    "    </p>\n",
    "</center>\n",
    "\n",
    "2. Inside the `anaconda powershell prompt`, create a new local conda environment named `ds-env` using the following commands (hit <kbd>Enter</kbd> or type <kbd>y</kbd> and hit <kbd>Enter</kbd> when asked to proceed):\n",
    "\n",
    "```{.bash filename='Anaconda Powershell Prompt' color='purple'}\n",
    "> conda create --name ds-env\n",
    "> conda activate ds-env\n",
    "```\n",
    "    \n",
    "<center>\n",
    "    <img src=\"images/introduction-to-python/create_env.png\" width=700 style=\"margin:auto\"/>\n",
    "    <p style=\"text-align: center\">\n",
    "        Creating a Conda Environment\n",
    "    </p>\n",
    "    <br/>\n",
    "</center>\n",
    "    \n",
    "You should notice that running this second command switches the name in brackets at the beginning of your prompt from `(base)` to `(ds-env)`. This means we have successfully created a new, empty environment to work in. \n",
    "\n",
    "3. Install `python` and some useful datascience packages by typing the following commands into the same powershell prompt window:\n",
    "\n",
    "    * `conda install python=3.9`\n",
    "    * `conda install notebook jupyterlab ipywidgets matplotlib seaborn numpy scikit-learn pandas openpyxl`\n",
    "    \n",
    "4. Make sure that `python` installed successfully. From the same `anaconda powershell prompt`, simply type `python`. If this causes no error, success! Try typing this command in the python environment that started to make sure the packages installed as well: \n",
    "\n",
    "    * `import pandas`\n",
    "    * `pandas.__version__`\n",
    "    \n",
    "<center>\n",
    "    <img src=\"images/introduction-to-python/check_python.png\" width=700 style=\"margin:auto\"/>\n",
    "    <p style=\"text-align: center\">\n",
    "        Testing the python installation\n",
    "    </p>\n",
    "    <br/>\n",
    "</center>\n",
    "\n",
    "If this all works with no errors, python was successfully installed. \n",
    "\n",
    "\n",
    "### Setup our VSCode Environment\n",
    "\n",
    "Still with me? Great. Here's a cute otter as congratulations for making it this far. \n",
    "\n",
    "<center>\n",
    "    <img src=\"images/introduction-to-python/cute_otter.jpg\" height=350 style=\"margin:auto\"/>\n",
    "    <p style=\"text-align: center\">\n",
    "        The cutest.\n",
    "    </p>\n",
    "    <br/>\n",
    "</center>\n",
    "\n",
    "We have just a few more steps to go. \n",
    "\n",
    "1. Open the VSCode program. \n",
    "2. On the left toolbar, find the `extensions` tab (It looks like 4 squares). Search for the `python` extension and install this extension. \n",
    "3. For those using Windows computers, change your default terminal to the `command prompt`:\n",
    "    * From anywhere inside VSCode, hit <kbd>Ctrl</kbd> + <kbd>Shift</kbd> + <kbd>P</kbd>. This will open up the command pallette. \n",
    "    * Start typing `Terminal: Select Default Profile` until this option pops up.\n",
    "    * Choose this option, and then click on `Command Prompt`\n",
    "\n",
    "That's it. We are ready to go! "
   ]
  },
  {
   "cell_type": "markdown",
   "metadata": {
    "tags": []
   },
   "source": [
    "## Introduction to Python\n",
    "\n",
    "i.e. the *how many different ways can we print **Hello World!** to our screen?* section\n",
    "\n",
    "<center>\n",
    "    <img src=\"images/introduction-to-python/helloworld.png\" height=350 style=\"margin:auto\"/>\n",
    "    <p style=\"text-align: center\">\n",
    "        Hello World!\n",
    "    </p>\n",
    "    <br/>\n",
    "</center>\n",
    "\n",
    "There are many different ways in which we can interact with python. These include:\n",
    "\n",
    "* From the command line\n",
    "* Inside a jupyter notebook\n",
    "* From a file (inside VSCode)\n",
    "\n",
    "In this next section, we are going to have a brief introduction to all of these methods of interaction. \n",
    "\n",
    ":::{.callout-tip}\n",
    "## Tip: Using the command line\n",
    "\n",
    "It's worth pointing out that the methods that we will focus on in this course will rely on using VSCode and all of its inner workings. However, if you are comfortable with the command line, we can also access any of these methods directly from there as well, you just need to be able to move to directories before typing commands. If you use the command line, I recommend using an anaconda powershell prompt, as this allows for the easiest use and access to conda commands and only the smallest of headaches. \n",
    ":::\n",
    "\n",
    "### Step 0\n",
    "In all cases, we will want to have a folder from which we wish to work out of. Take some time to set up a folder somewhere you won't lose it. For me, I've simply made a folder called `Intro to Python` on my C: drive that will hold any course materials we use/create here. \n",
    "\n",
    "Next, to make any interactions with python, we will want to open VSCode and work from here. When we first open VSCode, you should be prompted to open a folder. We are going to work out of that `Intro to Python` folder, so open it here. After doing this, we should now have a VSCode screen open that will look something like this: \n",
    "\n",
    "<center>\n",
    "    <img src=\"images/introduction-to-python/vscode.png\" width=700 style=\"margin:auto\"/>\n",
    "    <p style=\"text-align: center\">\n",
    "        VS Code\n",
    "    </p>\n",
    "    <br/>\n",
    "</center>\n",
    "\n",
    "We have 3 main areas that we can utilize:\n",
    "\n",
    " * To the left (area A): is the current folder and subfolder directory list. We can make new files directly from here.\n",
    " * To the right (area B): this is where files we are working on will live. For some file types, preview windows will be available as well.\n",
    " * To the bottom (area C): this is where we can open and run commands from the command line (or terminal). \n",
    " \n",
    "Now remember, we set up a special environment that contains python and our data science packages. We want to make sure we are always using this environment, so in the open terminal, re-type `conda activate ds-env` and this terminal will now be open in this environment. \n",
    "\n",
    ":::{.callout-tip}\n",
    "## Tip: Conda Environments\n",
    "\n",
    "Although it does add an extra level of set-up whenever we start a python project, having these conda environments ends up being incredibly important for not only reproducibility, but making sure that packages work well together. When in doubt as to if you are using the correct environment, double check that the terminal you are using has (ds-env) in brackets at the start of a line. When building python files directly in VSCode, there is another step we can take to make sure that the correct environment is being used, but we will get to that later...\n",
    ":::"
   ]
  },
  {
   "cell_type": "markdown",
   "metadata": {},
   "source": [
    "### From the command line/terminal\n",
    "\n",
    "Let's start with an easy one. To start a python session from a terminal, simply type `python` at the command line, and the terminal will automatically open a python interface. You will know you are inside the python interface if your command lines now start with `>>>`. Now, let's do the classic `Hello World` command for python:\n"
   ]
  },
  {
   "cell_type": "code",
   "execution_count": 1,
   "metadata": {},
   "outputs": [
    {
     "name": "stdout",
     "output_type": "stream",
     "text": [
      "Hello World!\n"
     ]
    }
   ],
   "source": [
    "print('Hello World!')"
   ]
  },
  {
   "cell_type": "markdown",
   "metadata": {},
   "source": [
    "To exit the python interface and return to the regular terminal, you can type `exit()` and return to the terminal. \n",
    "\n",
    "### From a file (in VSCode)\n",
    "\n",
    "- run entire file, run single lines \n",
    "\n",
    "Next up, let's run an entire python file to tell us hello. "
   ]
  },
  {
   "cell_type": "code",
   "execution_count": null,
   "metadata": {},
   "outputs": [],
   "source": []
  },
  {
   "cell_type": "markdown",
   "metadata": {},
   "source": [
    "### From a notebook\n",
    "\n",
    "- how to open, show you can run the notebooks in vscode too\n",
    "- do last and explain that we will be using notebooks throughout the course for the most part "
   ]
  },
  {
   "cell_type": "code",
   "execution_count": null,
   "metadata": {},
   "outputs": [],
   "source": []
  }
 ],
 "metadata": {
  "kernelspec": {
   "display_name": "Python 3 (ipykernel)",
   "language": "python",
   "name": "python3"
  },
  "language_info": {
   "codemirror_mode": {
    "name": "ipython",
    "version": 3
   },
   "file_extension": ".py",
   "mimetype": "text/x-python",
   "name": "python",
   "nbconvert_exporter": "python",
   "pygments_lexer": "ipython3",
   "version": "3.9.13"
  },
  "vscode": {
   "interpreter": {
    "hash": "5d39f6f2a4d655fdb1111730c3d9cea32930cde2ffc3437aa6b89a19563712b5"
   }
  }
 },
 "nbformat": 4,
 "nbformat_minor": 4
}

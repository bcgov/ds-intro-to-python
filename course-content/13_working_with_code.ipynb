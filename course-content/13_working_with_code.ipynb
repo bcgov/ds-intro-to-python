{
 "cells": [
  {
   "cell_type": "raw",
   "metadata": {},
   "source": [
    "---\n",
    "title: \"Working with Code\"\n",
    "teaching: 45\n",
    "exercises: 10\n",
    "questions:\n",
    "- \"Fill this in!\"\n",
    "objectives:\n",
    "- \"know how to best organize your project\"\n",
    "- \"how to find help on topics and when troubleshooting\"\n",
    "- \"how to follow python coding style conventions\"\n",
    "keypoints:\n",
    "- \"Same verse!\"\n",
    "---"
   ]
  },
  {
   "cell_type": "markdown",
   "metadata": {},
   "source": [
    "## Organizing coding work\n",
    "\n",
    "Most data projects consist of some version of a) finding some data, b) cleaning it up, and c) generating some insights. In an Excel world, all three stages often happen in a single document. Usually over many tabs. Almost always with little documentation. If the project is purely \"ask a one time question and get a one time answer and literally never need to look at the file again\", then this approach is arguably efficient and effective. But what if we want to update the insights over time or apply the question to a different dataset? What if someone wants to reproduce what we did?  How about verify if what we did was valid? Then we have to admit a complex Excel workbook is neither efficient nor effective. \n",
    "\n",
    "Having a strategy ahead of time about how you organize your work when you are starting a project will pay handsome dividends, both for you and for anyone who will be accessing your work down the road. And when you use code (e.g. R or Python) to do a lot of the processing of the data in your project, it is unavoidable that you will have to make some decisions about how to manage your work, which includes managing your files.    \n",
    "\n",
    "<center>\n",
    "    <img src=\"images/working-with-code/workaround.png\" width=320 style=\"margin:auto\"/>\n",
    "    <p style=\"text-align: center\">\n",
    "        Don't be like this guy!\n",
    "    </p>\n",
    "</center>"
   ]
  },
  {
   "cell_type": "markdown",
   "metadata": {},
   "source": [
    "\n",
    "\n",
    "*Treat data as read only*\n",
    "\n",
    "One of the first things that you will do in a coding environment is to identify your data source and read or ingest that data into your environment to process it further. You should however, leave that originating data unaltered! Once the data is in your coding environment, that is where the processing will take place, and that process will end with some \"improved\" version of the data will be produced. \n",
    "\n",
    "*Clean and analyse your data with code*\n",
    "\n",
    "In many cases your data will be “dirty”. That is to say, filled with missing data, spelling mistakes, duplicate records, data type errors, you name it! Your code will clean it. Once you have your clean data, your code will generate insights from it. All of this code (in our case, Python code) will take the form of scripts in separate files. All of these scripts should be stored in a separately from the original data itself.  \n",
    "\n",
    "*Treat generated output as disposable*\n",
    "\n",
    "Because you should be able to take the original data as well as the scripts to process it into something useful, you can recreate the outputs at any time. So while we might have a place where we store the processed data, we can also treat outputs as disposable. It is a bit like having a kitchen pantry with ingredients for making a cake along with the recipe to guide us through the steps to make it. We should be able to make the same cake over and over again with a stocked pantry and access to the recipe. But if we lose either the stocked pantry or the recipe, we won't be able to make the cake. As the chef treats the cake as edible, the data scientist treats the output as disposable. \n",
    "\n",
    "*Organize your files*\n",
    "\n",
    "While there is no perfect template for how to organize your work, below is an example that shows how you might consider organizing your work for a relatively straightforward data project. Let's say we have a project that is about analyzing marmots in BC. Here's how you could structure your work, so that it stays well organized:"
   ]
  },
  {
   "cell_type": "raw",
   "metadata": {},
   "source": [
    "/MarmotsBC            top level directory, contains project name, without spaces\n",
    "    /docs             supporting text and word processed documents that are meant for humans to read\n",
    "    /data             the original (meta)data that acts as an input and will be treated as read-only\n",
    "    /src              your scripts, may further be divided into /functions, /test, etc.\n",
    "    /bin              programs brought in from elsewhere\n",
    "    /output           data written by your code to this location, could be input for another process\n",
    "    /analysis         the charts, stats, figures and the like generated from your scripts"
   ]
  },
  {
   "cell_type": "markdown",
   "metadata": {},
   "source": [
    "\n",
    "*Naming and file splitting*\n",
    "\n",
    "When you are naming files themselves, try to have the names reflect their content or function. You will also find that as your project grows, documents such as scripts may need to be split apart and renamed. For example, you might create some functions as you analyse your data in a single script. At some point you will likely want to create a separate script file just for the functions. When splitting, make sure you eliminate redundent content between files. \n",
    "\n",
    "*Version control*\n",
    "\n",
    "When working alone and especially when working within a team, it is helpful to leverage tools that help ensure that everyone's work is kept up to date and organized. There are tools such as git/GitHub that are made precisely for this purpose. If you hear people talking about repos, merges, commits, pull requests, etc, they are probably talking about the git world. It is beyond the scope of this tutorial to dive into this topic, but it is something to keep in mind. \n",
    "\n",
    "<center>\n",
    "    <img src=\"images/working-with-code/github.png\" size=200 style=\"margin:auto\"/>\n",
    "    <p style=\"text-align: center\">\n",
    "        Where ideas work (and are kept organized and up-to-date)\n",
    "    </p>\n",
    "</center>\n"
   ]
  },
  {
   "cell_type": "markdown",
   "metadata": {},
   "source": [
    ":::{.callout-warning icon=\"false\"}\n",
    "## Challenge 1\n",
    "\n",
    "1. What is the main risk to a project that you can think of if data are not kept well-organized? \n",
    "\n",
    "2. If output is generally considered the most usable thing for end-users of data, why should it be considered as disposable? \n",
    "\n",
    "\n",
    ":::\n",
    "\n",
    ":::{.callout-note icon=\"false\" collapse=\"true\"}\n",
    "## Solution to Challenge 1\n",
    "\n",
    "**1**: Existing or future team members looking through project documents will not understand how data flows, so interpreting and/or fixing it will prove challenging.  \n",
    "\n",
    "**2**: Output can always be reproduced if the data itself and details about how the data is transformed (cleaned, munged, etc.) is available. The loss of things that can be generated are not an important risk to the project.\n"
   ]
  },
  {
   "cell_type": "markdown",
   "metadata": {},
   "source": [
    "\n",
    "## Getting coding help\n",
    "\n",
    "Being effective with using python, or any other coding language, requires that you hone your self-serve skills. Coding requires that you are comfortable with asking and getting questions answered using a number of techniques. Here are a few to know and use. \n",
    "\n",
    "*Topical help*  \n",
    "\n",
    "In whatever developing environment (sometimes called an IDE - Integrated Development Environment) you are in, there are usually very helpful links readily available.  In the Jupyter Notebook environment, you will find such help under the *Help* choice in the top menu. \n",
    "\n",
    "<center>\n",
    "    <img src=\"images/working-with-code/jup_help.png\" size=700 style=\"margin:auto\" border=1/>\n",
    "    <p style=\"text-align: center\">\n",
    "        Finding Jupyter Notebook's Help\n",
    "    </p>\n",
    "</center>\n",
    "\n",
    "When you click on `Help` you see an expanded range of topics:\n",
    "\n",
    "<center>\n",
    "    <img src=\"images/working-with-code/vertical_help.png\" size=700 style=\"margin:auto\" border=1/>\n",
    "    <p style=\"text-align: center\">\n",
    "        Topical Help at your fingertips\n",
    "    </p>\n",
    "</center>\n",
    "\n",
    "Under the topics listed you will find treasure troves of helpful documentation relating to python. Whether you are relatively new to the language or have years of experience already with it, one of the most helpful sections you will find there is *Python Reference*:\n",
    "\n",
    "<center>\n",
    "    <img src=\"images/working-with-code/python_documentation.png\" size=700 style=\"margin:auto\" border=1/>\n",
    "    <p style=\"text-align: center\">\n",
    "        Official Python Documentation\n",
    "    </p>\n",
    "</center>\n",
    "\n",
    "Each section in  provides useful content that is related to the version you Python you are working with! One of the particularly helpful sections for those new to Python is the *Tutorial* section, where you will find tutorials on several of the topics in this course, plus many more.\n"
   ]
  },
  {
   "cell_type": "markdown",
   "metadata": {},
   "source": [
    "\n",
    "*Functions help*  \n",
    "\n",
    "Functions in Python have excellent documentation that you should be able to access fairly readily. Below are screen shots from the Jupyter Notebook environment that show two distinct ways to access. The example below shows how to get detail about a specific function by calling `help()` function itself and passing in the name of the function of interest:\n",
    "\n",
    "<center>\n",
    "    <img src=\"images/working-with-code/shiftenter_help.png\" size=700 style=\"margin:auto\" border=1/>\n",
    "    <p style=\"text-align: center\">\n",
    " \n",
    "</center>\n",
    "\n",
    "Within Jupyter Notebook, it is also possible to place the cursor inside the \"()\" and then pulse the Shift-tab key combination twice to get access to a pop-up:\n",
    "\n",
    "<center>\n",
    "    <img src=\"images/working-with-code/shifttab_x2.png\" size=700 style=\"margin:auto\" border=1/>\n",
    "    <p style=\"text-align: center\">\n",
    "       Pulsing Shift-tab twice to get interactive function help.\n",
    "    </p>\n",
    "</center>"
   ]
  },
  {
   "cell_type": "markdown",
   "metadata": {},
   "source": [
    "*Syntax error help*\n",
    "\n",
    "Inevitably code will fall apart on you and despite having taken part in amazing learning sessions, you may be at a loss as to why! Don't despair. Help is only some key-combos or search terms away. \n",
    "\n",
    "When developing code, you will go through a process over and over where you write some code and then test it. If it works, you keep going, adding complexity and content to your code. But what happens if it does not work? Fortunately Python delivers some clues about what may have gone wrong. \n",
    "\n",
    "Here are a few examples of syntax errors in Python, where Python can not understand the source of a program:\n",
    "\n",
    "<center>\n",
    "    <img src=\"images/working-with-code/module_not_found.png\" size=700 style=\"margin:auto\" border=1/>\n",
    "    <p style=\"text-align: center\">\n",
    "       \n",
    "    \n",
    "</center>\n",
    "\n",
    "\n",
    "<center>\n",
    "    <img src=\"images/working-with-code/EOL.png\" size=700 style=\"margin:auto\" border=1/>\n",
    "    <p style=\"text-align: center\">\n",
    "        \n",
    " \n",
    "</center>\n",
    "\n",
    "\n",
    "\n",
    "<center>\n",
    "    <img src=\"images/working-with-code/invalid_syntax.png\" size=700 style=\"margin:auto\" border=1/>\n",
    "    <p style=\"text-align: center\">\n",
    "        \n",
    "  \n",
    "</center>\n"
   ]
  },
  {
   "cell_type": "markdown",
   "metadata": {},
   "source": [
    "*Runtime Error help*\n",
    "\n",
    "Python reports also *runtime errors*, which are thrown when something goes wrong while a program is executing. \n",
    "\n",
    "<center>\n",
    "    <img src=\"images/working-with-code/runtime_error2.png\" size=700 style=\"margin:auto\" border=1/>\n",
    "    <p style=\"text-align: center\">     \n",
    "  \n",
    "</center>\n",
    "\n",
    "The above example introduces the concept of *Traceback*, which is Python's way of trying to locate the origin of the error experienced. A *Traceback* will show up in output that is to be read \"from the bottom up\".  In the above example, we see that the program does not recognize the object \"aege\" when it encounters it in cell line 2. Note that this does not necessarily mean that the problem should be fixed at the location indicated. In the above example, a reexamination of the code might reveal that the original name assigned was incorrectly spelled. Were that the case, then the original name assignment should be updated, not the reference to it in cell line 2. "
   ]
  },
  {
   "cell_type": "markdown",
   "metadata": {},
   "source": [
    "*Diving deeper*\n",
    "\n",
    "The first and best way to work though why your code failed is to look at the information provided at the bottom of the output. As in the examples above, much of the time you will have enough information there to give you some ideas about what the cause of the problem is and a starting point for modifying the code and running it again. \n",
    "\n",
    "Many times, however, you will find that your code throws errors you still don't understand.  Other times, you would like to get a better understanding of some topic you have come across. For those moments, don't be shy to use Google to get going by typing in the search field those terms that are narrow enough to describe your problem as succinctly as possible.\n",
    "\n",
    "<center>\n",
    "    <img src=\"images/working-with-code/goog-stackoverflow.png\" size=700 style=\"margin:auto\" border=1/>\n",
    "    <p style=\"text-align: center\">\n",
    "        Global community and solutions to challenges or fixes for bugs\n",
    "    </p>\n",
    "</center>\n",
    "\n",
    "Among the more popular entries you'll find on the search engine response page come from stackoverflow or other coding community sites, and from blogs or other sources. It may also pay to look at \"videos\" among your Google search responses and you will likely see many YouTube offerings of varying degrees of relevance. There is a whole ecosystem of python developers (polished and not-so-much) who offer content that may be of help. These are often very helpful. \n",
    "\n",
    "Imagine we were working through the \"SyntaxError: EOL while scanning string literal\" error above. You know that it's a syntax error, so you examine your code for something that does not look right based on what you know about writing code. What happens if you still are getting an error? Then a Google search might be helpful.\n",
    "\n",
    "\n",
    "<center>\n",
    "    <img src=\"images/working-with-code/google_syntax_error.png\" size=700 style=\"margin:auto\" border=1/>\n",
    "    <p style=\"text-align: center\">\n",
    "        Error deep dive \n",
    "    </p>\n",
    "</center>\n",
    "\n",
    "The highlighted summary information of the issue from a page on the realpython.com site tells us that the error we are looking for was understood primarily as a python type issue. Moreover it suggests different ways that others have extended the search that you might find helpful. While the site itself is not an official python site, it nonetheless is a quality site that will likely be worthwhile to review. Once there, you will find more useful information \n",
    "\n",
    "Copy and click the link to find more useful well-laid out information on the topic. "
   ]
  },
  {
   "cell_type": "raw",
   "metadata": {},
   "source": [
    "https://realpython.com/invalid-syntax-python/"
   ]
  },
  {
   "cell_type": "markdown",
   "metadata": {},
   "source": [
    ":::{.callout-warning icon=\"false\"}\n",
    "## Challenge 2\n",
    "\n",
    "Try to think how you would figure out answers for the following. \n",
    "\n",
    "1. You want to find out what the `print()` function does. How would you look to answer this question? What does it do, does it send a print job to a printer? \n",
    "\n",
    "2. Someone asks you want the term \"iterable\" means in the context of a python function? How would you go about finding an answer? What does it mean? \n",
    "\n",
    "\n",
    ":::{.callout-note icon=\"false\" collapse=\"true\"}\n",
    "## Solution to Challenge 2\n",
    "\n",
    "# Two most efficient ways to obtain information\n",
    "\n",
    "Question 1:\n",
    "help(print)   # One way to get the info\n",
    "print() # Another way to get the info\n",
    "Prints the values passed into it to a stream or to an output (usually to output shown on a monitor)\n",
    "\n",
    "Question 2:\n",
    "You could use help off of the menu. Might be quicker to do a google search. \n",
    "*Iterable is an object which can be looped over or iterated over with the help of a for loop. Objects like lists, tuples, sets, dictionaries, strings, etc. are called iterables. In short and simpler terms, iterable is anything that you can loop over.*"
   ]
  },
  {
   "cell_type": "markdown",
   "metadata": {},
   "source": [
    "\n",
    "\n",
    "## Coding in style\n",
    "\n",
    "Working with python can be challenging. When you are first learning it, there may seem to be so many different rules around using certain kinds of brackets (and not others) at certain times, rules around indenting lines, etc. Many of these rules result in your code refusing to run. Often your code may run, however, it may not necessarily be easy to follow for someone reading through it. In an enterprise environment, your code will likely be read and referenced by others, so making it easy to decipher is important! \n",
    " <br>\n",
    " \n",
    "<center>\n",
    "    <img src=\"images/working-with-code/code_quality_3.png\" size=700 style=\"margin:auto\"/>\n",
    "    <p style=\"text-align: center\">\n",
    "        Style matters!\n",
    "    </p>\n",
    "</center>\n",
    "\n",
    "Fortunately, there are some widely accepted guidelines about coding style that you should be aware of and strive towards over time. In the Python world, the style guide you should know about is \"PEP8\" which stands for Python Enhancements Proposals. \n",
    "\n",
    "There are many specific rules in PEP8, here are some to be aware of from the start. \n",
    "\n",
    "*Comments*\n",
    "\n",
    "When coding, it is good practice to `comment` on code, but only when the code is likely to be non-obvious to others who are likely to review it. Comments are preceded by a \"#\", which within Python, ensures that they are recognized as non-executable and therefore no threat to actually affecting your code. Below are two examples of how you can add comments to your code (if necessary).\n"
   ]
  },
  {
   "cell_type": "code",
   "execution_count": 3,
   "metadata": {},
   "outputs": [
    {
     "name": "stdout",
     "output_type": "stream",
     "text": [
      "Hello World\n",
      "Hello World\n"
     ]
    }
   ],
   "source": [
    "# The bog standard first line of code learned in any progamming language\n",
    "print(\"Hello World\")\n",
    "\n",
    "print(\"Hello World\")  # New programmer's first line of code in any language "
   ]
  },
  {
   "cell_type": "markdown",
   "metadata": {},
   "source": [
    "*Spacing within code*\n",
    "\n",
    "There are a number of little conventions about spacing that just have to be learned. In the code below look at the comments that go along to see what is considered good style and what is considered good and what is not.  "
   ]
  },
  {
   "cell_type": "code",
   "execution_count": null,
   "metadata": {},
   "outputs": [],
   "source": [
    "camel = committee(horse)  # Correct, a space on either side of the assignment operator \n",
    "\n",
    "camel=committee(horse)    # Wrong"
   ]
  },
  {
   "cell_type": "code",
   "execution_count": null,
   "metadata": {},
   "outputs": [],
   "source": [
    "function(2)  # Correct, no space between the function call and a parenthesis\n",
    "\n",
    "function (2) # Wrong"
   ]
  },
  {
   "cell_type": "markdown",
   "metadata": {},
   "source": [
    "Below are some examples of how to incorporate spaces when you have operators with different priorities (i.e. remember PEMDAS or BODMAS from high school?). In general, add space for those instances with lower priority:"
   ]
  },
  {
   "cell_type": "code",
   "execution_count": null,
   "metadata": {},
   "outputs": [],
   "source": [
    "# Correct:\n",
    "i = i + 1 \n",
    "x = x*2 - 1\n",
    "c = (a+b) * (a-b)\n",
    "\n",
    "# Wrong:\n",
    "i=i+1 \n",
    "x = x * 2 - 1\n",
    "c = (a + b) * (a - b)"
   ]
  },
  {
   "cell_type": "markdown",
   "metadata": {},
   "source": [
    "There are many other conventions about spacing, but the ones above are some of the more common ones to watch out for. "
   ]
  },
  {
   "cell_type": "markdown",
   "metadata": {},
   "source": [
    "\n",
    "\n",
    "\n",
    "*Indentation*\n",
    "\n",
    "A line of code that completes a meaningful coherent action of some sort, is kind of like a complete sentence in grammar. As with sentences, a line of code can be short and sweet, long and convoluted, and anywhere in between. Where lines of code are longer than 79 characters, certain style guide rules come into play. The examples below show how to carry over content from one line to the next line. \n",
    "\n"
   ]
  },
  {
   "cell_type": "code",
   "execution_count": null,
   "metadata": {},
   "outputs": [],
   "source": [
    "# Correct - aligned with opening delimeter\n",
    "animals = animals.drop('weight', 'size', 'age', 'location', 'eye colour', \n",
    "                       'intelligence', 'cost', 'number held in zoos')\n",
    "\n",
    "# Correct - hanging indents (usually four spaces, should not use tabs)\n",
    "animals = animals.drop(\n",
    "    'weight', 'size', 'age', 'location', 'eye colour', 'intelligence', \n",
    "    'cost', 'number held in zoos')"
   ]
  },
  {
   "cell_type": "markdown",
   "metadata": {},
   "source": [
    "*Blank lines*\n",
    "\n",
    "Blank lines should be used sparingly, but they should be used when appropriate. As a general rule of thumb is that there should be a single blank row between blocks of code. "
   ]
  },
  {
   "cell_type": "markdown",
   "metadata": {},
   "source": [
    ":::{.callout-warning icon=\"false\"}\n",
    "## Challenge 3\n",
    "\n",
    "Based on what we have covered, what, if any are the style code issues. \n",
    "```python\n",
    "\n",
    "print (last_name) # Example 1\n",
    "\n",
    "celcius = (fahrenheit - 32) / 1.8  # Example 2\n",
    "\n",
    "# Example 3\n",
    " index = ['snail', 'pig', 'elephant', 'rabbit', 'giraffe', 'coyote', 'horse', 'giraffe', 'ping pong table']\n",
    "\n",
    "\n",
    "```\n",
    "\n",
    ":::\n",
    "\n",
    ":::{.callout-note icon=\"false\" collapse=\"true\"}\n",
    "## Solution to Challenge 3\n",
    "\n",
    "**Example 1**: there can be no space between the function call and the \"(\"\n",
    "\n",
    "**Example 2**: there should be no space between \"fahrenheit\", the \"-\" operator, and \"32\" \n",
    "\n",
    "**Example 3**: line exceeds 79 characters so should be spaced over two lines"
   ]
  },
  {
   "cell_type": "markdown",
   "metadata": {},
   "source": [
    "*Consistency sometimes more important than being right*\n",
    "\n",
    "All of the rules above are about coding the \"right\" or \"correct\" way. There are times when you can consider breaking, or at least bending some of the rules for the greater good of being \"consistent\". This is especially the case when you are working on code as part of a project. Sometimes it is better to be consistent than right. This is often true if you are working on code as part of another project with some unique style practices. Keeping internally consistent with these practices will lead to overall greater readability, which is the greater goal of coding style. "
   ]
  }
 ],
 "metadata": {
  "kernelspec": {
   "display_name": "Python 3 (ipykernel)",
   "language": "python",
   "name": "python3"
  },
  "language_info": {
   "codemirror_mode": {
    "name": "ipython",
    "version": 3
   },
   "file_extension": ".py",
   "mimetype": "text/x-python",
   "name": "python",
   "nbconvert_exporter": "python",
   "pygments_lexer": "ipython3",
   "version": "3.9.13"
  },
  "vscode": {
   "interpreter": {
    "hash": "bb6609aa6c5a3d24b3fa4f3bc86ce2b4d7d439ca834c844fd86a3c06081ba312"
   }
  }
 },
 "nbformat": 4,
 "nbformat_minor": 4
}

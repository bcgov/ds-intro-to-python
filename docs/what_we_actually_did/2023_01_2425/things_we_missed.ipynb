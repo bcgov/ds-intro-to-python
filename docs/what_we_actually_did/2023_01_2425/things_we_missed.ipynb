{
 "cells": [
  {
   "cell_type": "markdown",
   "id": "affdddef-cd2a-4e89-8bb4-daf0f90da2d1",
   "metadata": {},
   "source": [
    "## Clean Up From Day 1\n",
    "\n",
    "1. How to view global variables\n",
    "2. External help pages\n",
    "3. Key word arguments"
   ]
  },
  {
   "cell_type": "code",
   "execution_count": 2,
   "id": "09134b2e-9497-4506-8c36-e11091b2d4d8",
   "metadata": {},
   "outputs": [],
   "source": [
    "import pandas as pd"
   ]
  },
  {
   "cell_type": "markdown",
   "id": "0ffd8a2d-6f66-4a02-9b13-3a827552046c",
   "metadata": {},
   "source": [
    "### Global Variables"
   ]
  },
  {
   "cell_type": "code",
   "execution_count": 2,
   "id": "72504cc3-4605-4f3c-a711-2fc5222b3e82",
   "metadata": {},
   "outputs": [],
   "source": [
    "# define a bunch of different variables\n",
    "a = 4\n",
    "b = 'otter'\n",
    "c = pd.DataFrame({'colA': [1,2,3], 'colB': ['a','b','c']})\n",
    "d = ['my', 'list', 'of', 'stuff']"
   ]
  },
  {
   "cell_type": "code",
   "execution_count": 3,
   "id": "69a8ed56-0b45-47ba-a0d0-93ef09a926ae",
   "metadata": {},
   "outputs": [],
   "source": [
    "# .... forgot everything we did above, maybe delete something. want to find the variables we have?"
   ]
  },
  {
   "cell_type": "markdown",
   "id": "4ffb3b35-a970-4765-945c-10ec84e0bd0e",
   "metadata": {},
   "source": [
    "We can use a specific Jupyter **inline function** to get a list of everything we have that exists in the notebook right now.\n",
    "\n",
    "Jupyter functions are called using `%` inside a code cell. \n",
    "\n",
    "The `whos` function lists all variables, their types, and some info about the variables!"
   ]
  },
  {
   "cell_type": "code",
   "execution_count": 3,
   "id": "96d9097c-f967-4a33-82ea-ce1b5bda43dd",
   "metadata": {},
   "outputs": [
    {
     "name": "stdout",
     "output_type": "stream",
     "text": [
      "Variable   Type         Data/Info\n",
      "---------------------------------\n",
      "a          int          4\n",
      "b          str          otter\n",
      "c          DataFrame       colA colB\\n0     1    <...>     2    b\\n2     3    c\n",
      "d          list         n=4\n",
      "pd         module       <module 'pandas' from 'C:<...>es\\\\pandas\\\\__init__.py'>\n"
     ]
    }
   ],
   "source": [
    "%whos"
   ]
  },
  {
   "cell_type": "markdown",
   "id": "ed0edf76-c132-4054-a2af-e4054f140546",
   "metadata": {},
   "source": [
    "---\n",
    "\n",
    "If we find some dataframe or variable is hogging a lot of memory, we can also delete it once we are done with it to free up space.\n",
    "\n",
    "Generally this is not needed, but it's good to know about!"
   ]
  },
  {
   "cell_type": "code",
   "execution_count": 4,
   "id": "01b82ea4-cfd1-4044-b2bf-5a62899fe967",
   "metadata": {},
   "outputs": [],
   "source": [
    "# delete a variable\n",
    "del(d)"
   ]
  },
  {
   "cell_type": "code",
   "execution_count": 5,
   "id": "15c2886a-85c4-4b48-9628-a9578d964e06",
   "metadata": {},
   "outputs": [
    {
     "name": "stdout",
     "output_type": "stream",
     "text": [
      "Variable   Type         Data/Info\n",
      "---------------------------------\n",
      "a          int          4\n",
      "b          str          otter\n",
      "c          DataFrame       colA colB\\n0     1    <...>     2    b\\n2     3    c\n",
      "pd         module       <module 'pandas' from 'C:<...>es\\\\pandas\\\\__init__.py'>\n"
     ]
    }
   ],
   "source": [
    "%whos"
   ]
  },
  {
   "cell_type": "code",
   "execution_count": 6,
   "id": "3644a735-cff9-4a25-a79b-0ad26dae64d3",
   "metadata": {},
   "outputs": [
    {
     "ename": "NameError",
     "evalue": "name 'd' is not defined",
     "output_type": "error",
     "traceback": [
      "\u001b[1;31m----------------------------------------------------------\u001b[0m",
      "\u001b[1;31mNameError\u001b[0m                Traceback (most recent call last)",
      "Input \u001b[1;32mIn [6]\u001b[0m, in \u001b[0;36m<cell line: 1>\u001b[1;34m()\u001b[0m\n\u001b[1;32m----> 1\u001b[0m \u001b[43md\u001b[49m\n",
      "\u001b[1;31mNameError\u001b[0m: name 'd' is not defined"
     ]
    }
   ],
   "source": [
    "d"
   ]
  },
  {
   "cell_type": "markdown",
   "id": "78099a0b-789f-43d4-825f-2ee3e5e0c538",
   "metadata": {},
   "source": [
    "### External Help Pages\n",
    "\n",
    "While we talked a lot about the help functions built directly into Python and Jupyter, a lot of the time going directly to the source will have the best, most well laid out information for a function.\n",
    "\n",
    "For example, if we go straight to the [Pandas read_csv documentation](https://pandas.pydata.org/docs/reference/api/pandas.read_csv.html), we get:\n",
    "\n",
    "* A fairly easy to read function with all the default values displayed\n",
    "* A list of what each parameter is specifically used for \n",
    "* Examples of the function in action"
   ]
  },
  {
   "cell_type": "markdown",
   "id": "793afc22-b40c-43e4-a329-99543e5514e5",
   "metadata": {},
   "source": [
    "### Key Word Arguments\n",
    "\n",
    "We skimmed over this yesterday, but it deserves a mention here.\n",
    "\n",
    "Python functions have two types of arguments:\n",
    "\n",
    "* **Positional** arguments.\n",
    "\n",
    "    * These are required arguments, that must be included in the correct order. \n",
    "    \n",
    "    \n",
    "* **Keyword** arguments\n",
    "\n",
    "    * These are typically optional arguments, and can be included in any order, as long as the keyword is included in the function call. \n",
    "    \n",
    "    \n",
    "Things to note when supplying arguments to functions:\n",
    "\n",
    "* Positional arguments always come first. If you supply some keyword argument, it must always be after the unnamed positional arguments. \n",
    "\n",
    "* Keywords do not always have to be given, but if no keyword is given, Python assumes that you are trying to assign variables to the order in which they are written into the function."
   ]
  },
  {
   "cell_type": "code",
   "execution_count": 8,
   "id": "9c0d0d35-ea19-4a8f-9fb1-889bb445a1d4",
   "metadata": {},
   "outputs": [],
   "source": [
    "# SOME FUNCTIONS!\n",
    "def my_positional_function(x, y, z):\n",
    "    print(x, y, z)\n",
    "    \n",
    "def my_keyword_function(x = 'we', y = 'love', z = 'otters'):\n",
    "    print(x, y, z)\n",
    "    \n",
    "def my_mixed_function(x, y, z = 42):\n",
    "    print(x, y, z)"
   ]
  },
  {
   "cell_type": "code",
   "execution_count": 9,
   "id": "1774d6fb-a713-4e0a-be5f-09116727aae2",
   "metadata": {},
   "outputs": [
    {
     "name": "stdout",
     "output_type": "stream",
     "text": [
      "1 2 3\n"
     ]
    }
   ],
   "source": [
    "# a function with only positional arguments\n",
    "my_positional_function(1, 2, 3)"
   ]
  },
  {
   "cell_type": "code",
   "execution_count": 10,
   "id": "f95bde4d-482f-4376-9386-7d8ecc34b062",
   "metadata": {},
   "outputs": [
    {
     "ename": "TypeError",
     "evalue": "my_positional_function() missing 1 required positional argument: 'z'",
     "output_type": "error",
     "traceback": [
      "\u001b[1;31m----------------------------------------------------------\u001b[0m",
      "\u001b[1;31mTypeError\u001b[0m                Traceback (most recent call last)",
      "Input \u001b[1;32mIn [10]\u001b[0m, in \u001b[0;36m<cell line: 2>\u001b[1;34m()\u001b[0m\n\u001b[0;32m      1\u001b[0m \u001b[38;5;66;03m# if positional, they must all be supplied!\u001b[39;00m\n\u001b[1;32m----> 2\u001b[0m \u001b[43mmy_positional_function\u001b[49m\u001b[43m(\u001b[49m\u001b[38;5;241;43m1\u001b[39;49m\u001b[43m,\u001b[49m\u001b[43m \u001b[49m\u001b[38;5;241;43m2\u001b[39;49m\u001b[43m)\u001b[49m\n",
      "\u001b[1;31mTypeError\u001b[0m: my_positional_function() missing 1 required positional argument: 'z'"
     ]
    }
   ],
   "source": [
    "# if positional, they must all be supplied!\n",
    "my_positional_function(1, 2)"
   ]
  },
  {
   "cell_type": "code",
   "execution_count": 11,
   "id": "672a02a1-937d-4002-b6c9-d5255737a3d7",
   "metadata": {},
   "outputs": [
    {
     "name": "stdout",
     "output_type": "stream",
     "text": [
      "1 2 3\n"
     ]
    }
   ],
   "source": [
    "# a function with keyword arguments can be treated the same way as positional\n",
    "my_keyword_function(1, 2, 3)"
   ]
  },
  {
   "cell_type": "code",
   "execution_count": 12,
   "id": "052a1747-df3a-4133-a6e6-4e602548d57e",
   "metadata": {},
   "outputs": [
    {
     "name": "stdout",
     "output_type": "stream",
     "text": [
      "1 2 otters\n"
     ]
    }
   ],
   "source": [
    "# or we can suppled fewer, knowing that the ones we do not supply (IN ORDER) will be given a default value\n",
    "my_keyword_function(1, 2)"
   ]
  },
  {
   "cell_type": "code",
   "execution_count": 13,
   "id": "e5dc8fe5-92fa-4a52-b2d1-eb8e56a02b93",
   "metadata": {},
   "outputs": [
    {
     "name": "stdout",
     "output_type": "stream",
     "text": [
      "6 countdown 99\n"
     ]
    }
   ],
   "source": [
    "# or we can supply our own values, in whichever order we like\n",
    "my_keyword_function(x = 6, z = 99, y = 'countdown')"
   ]
  },
  {
   "cell_type": "code",
   "execution_count": 14,
   "id": "82f84a13-97d5-4a69-86b9-21c88e9fec7d",
   "metadata": {},
   "outputs": [
    {
     "name": "stdout",
     "output_type": "stream",
     "text": [
      "we love otters\n"
     ]
    }
   ],
   "source": [
    "# or supply nothing at all if it is completely built with keywords\n",
    "my_keyword_function()"
   ]
  },
  {
   "cell_type": "code",
   "execution_count": 15,
   "id": "c257a25f-191a-42f8-8c0e-aa44a72c107d",
   "metadata": {},
   "outputs": [
    {
     "ename": "SyntaxError",
     "evalue": "positional argument follows keyword argument (1864917937.py, line 2)",
     "output_type": "error",
     "traceback": [
      "\u001b[1;36m  Input \u001b[1;32mIn [15]\u001b[1;36m\u001b[0m\n\u001b[1;33m    my_keyword_function(x = 7, 1, 2)\u001b[0m\n\u001b[1;37m                                   ^\u001b[0m\n\u001b[1;31mSyntaxError\u001b[0m\u001b[1;31m:\u001b[0m positional argument follows keyword argument\n"
     ]
    }
   ],
   "source": [
    "# or treat them as a mix of positional and keyword, as long as the positional comes first\n",
    "my_keyword_function(x = 7, 1, 2)"
   ]
  },
  {
   "cell_type": "code",
   "execution_count": 16,
   "id": "f83b3763-3ab6-41eb-9d31-84f7167c3f5b",
   "metadata": {},
   "outputs": [
    {
     "name": "stdout",
     "output_type": "stream",
     "text": [
      "1 2 would I lie to you\n"
     ]
    }
   ],
   "source": [
    "# we said first!\n",
    "my_keyword_function(1, 2, z='would I lie to you')"
   ]
  },
  {
   "cell_type": "code",
   "execution_count": 17,
   "id": "c1b8927f-27ed-4691-9f0c-69a92f1f4842",
   "metadata": {},
   "outputs": [
    {
     "ename": "TypeError",
     "evalue": "my_mixed_function() missing 2 required positional arguments: 'x' and 'y'",
     "output_type": "error",
     "traceback": [
      "\u001b[1;31m----------------------------------------------------------\u001b[0m",
      "\u001b[1;31mTypeError\u001b[0m                Traceback (most recent call last)",
      "Input \u001b[1;32mIn [17]\u001b[0m, in \u001b[0;36m<cell line: 2>\u001b[1;34m()\u001b[0m\n\u001b[0;32m      1\u001b[0m \u001b[38;5;66;03m# functions that have mixed type parameters exist as well, again with requirements on positional arguments being defined\u001b[39;00m\n\u001b[1;32m----> 2\u001b[0m \u001b[43mmy_mixed_function\u001b[49m\u001b[43m(\u001b[49m\u001b[43m)\u001b[49m\n",
      "\u001b[1;31mTypeError\u001b[0m: my_mixed_function() missing 2 required positional arguments: 'x' and 'y'"
     ]
    }
   ],
   "source": [
    "# functions that have mixed type parameters exist as well, again with requirements on positional arguments being defined\n",
    "my_mixed_function()"
   ]
  },
  {
   "cell_type": "code",
   "execution_count": 18,
   "id": "275121e2-1d2f-4cef-8535-6294efa72f53",
   "metadata": {},
   "outputs": [
    {
     "name": "stdout",
     "output_type": "stream",
     "text": [
      "1 2 42\n"
     ]
    }
   ],
   "source": [
    "# x and y are required, so we must define at least those\n",
    "my_mixed_function(1, 2)"
   ]
  },
  {
   "cell_type": "code",
   "execution_count": 19,
   "id": "80039061-2882-4dd4-a95d-b924a38a3f6c",
   "metadata": {},
   "outputs": [
    {
     "name": "stdout",
     "output_type": "stream",
     "text": [
      "1 2 42\n",
      "1 2 42\n"
     ]
    }
   ],
   "source": [
    "# and we can add in a value for z either as a positional, or as a keyword\n",
    "my_mixed_function(1, 2, 42)\n",
    "my_mixed_function(1, 2, z=42)"
   ]
  },
  {
   "cell_type": "code",
   "execution_count": 18,
   "id": "dc30bb89-12a8-4d87-a0d8-53cae993c09a",
   "metadata": {},
   "outputs": [],
   "source": [
    "# for fun, we can check the whos function again now that we've done all this extra work to see how much more there is \n",
    "# in the notebook"
   ]
  },
  {
   "cell_type": "code",
   "execution_count": 20,
   "id": "d349793e-1728-4d0d-bf5c-c96933237d88",
   "metadata": {},
   "outputs": [
    {
     "name": "stdout",
     "output_type": "stream",
     "text": [
      "Variable                 Type         Data/Info\n",
      "-----------------------------------------------\n",
      "a                        int          4\n",
      "b                        str          otter\n",
      "c                        DataFrame       colA colB\\n0     1    <...>     2    b\\n2     3    c\n",
      "my_keyword_function      function     <function my_keyword_func<...>on at 0x000001E774432790>\n",
      "my_mixed_function        function     <function my_mixed_functi<...>on at 0x000001E77733F0D0>\n",
      "my_positional_function   function     <function my_positional_f<...>on at 0x000001E774432430>\n",
      "pd                       module       <module 'pandas' from 'C:<...>es\\\\pandas\\\\__init__.py'>\n"
     ]
    }
   ],
   "source": [
    "%whos"
   ]
  },
  {
   "cell_type": "markdown",
   "id": "ad447985-a32d-43e1-9567-9165932c7ee1",
   "metadata": {},
   "source": [
    "## Clean Up From Day 2\n",
    "\n",
    "There were a few questions about how to do certain things in Pandas during our second day. \n",
    "\n",
    "Here are some example solutions to those questions.\n",
    "\n",
    "As a reminder, we were using this dataset:\n",
    "\n",
    "https://raw.githubusercontent.com/bcgov/ds-intro-to-python/main/data/movieratings.csv\n",
    "\n",
    "---\n",
    "\n",
    "#### Question 1\n",
    "\n",
    "How can we return only the rows that have missing data?"
   ]
  },
  {
   "cell_type": "code",
   "execution_count": 3,
   "id": "56c46a54-6a93-49b4-ba60-c3ad16724535",
   "metadata": {},
   "outputs": [
    {
     "data": {
      "text/html": [
       "<div>\n",
       "<style scoped>\n",
       "    .dataframe tbody tr th:only-of-type {\n",
       "        vertical-align: middle;\n",
       "    }\n",
       "\n",
       "    .dataframe tbody tr th {\n",
       "        vertical-align: top;\n",
       "    }\n",
       "\n",
       "    .dataframe thead th {\n",
       "        text-align: right;\n",
       "    }\n",
       "</style>\n",
       "<table border=\"1\" class=\"dataframe\">\n",
       "  <thead>\n",
       "    <tr style=\"text-align: right;\">\n",
       "      <th></th>\n",
       "      <th>Rater</th>\n",
       "      <th>Star Wars</th>\n",
       "      <th>Finding Nemo</th>\n",
       "      <th>Forrest Gump</th>\n",
       "      <th>Parasite</th>\n",
       "      <th>Citizen Kane</th>\n",
       "    </tr>\n",
       "  </thead>\n",
       "  <tbody>\n",
       "    <tr>\n",
       "      <th>0</th>\n",
       "      <td>Floriana</td>\n",
       "      <td>NaN</td>\n",
       "      <td>5.0</td>\n",
       "      <td>5.0</td>\n",
       "      <td>3.0</td>\n",
       "      <td>NaN</td>\n",
       "    </tr>\n",
       "    <tr>\n",
       "      <th>1</th>\n",
       "      <td>Raymundo</td>\n",
       "      <td>4.0</td>\n",
       "      <td>NaN</td>\n",
       "      <td>NaN</td>\n",
       "      <td>NaN</td>\n",
       "      <td>5.0</td>\n",
       "    </tr>\n",
       "    <tr>\n",
       "      <th>2</th>\n",
       "      <td>Jung</td>\n",
       "      <td>5.0</td>\n",
       "      <td>NaN</td>\n",
       "      <td>NaN</td>\n",
       "      <td>5.0</td>\n",
       "      <td>NaN</td>\n",
       "    </tr>\n",
       "    <tr>\n",
       "      <th>3</th>\n",
       "      <td>Kumar</td>\n",
       "      <td>5.0</td>\n",
       "      <td>NaN</td>\n",
       "      <td>4.0</td>\n",
       "      <td>NaN</td>\n",
       "      <td>4.0</td>\n",
       "    </tr>\n",
       "    <tr>\n",
       "      <th>4</th>\n",
       "      <td>Maria</td>\n",
       "      <td>5.0</td>\n",
       "      <td>4.0</td>\n",
       "      <td>5.0</td>\n",
       "      <td>NaN</td>\n",
       "      <td>NaN</td>\n",
       "    </tr>\n",
       "    <tr>\n",
       "      <th>5</th>\n",
       "      <td>Arthur</td>\n",
       "      <td>2.0</td>\n",
       "      <td>2.0</td>\n",
       "      <td>3.0</td>\n",
       "      <td>3.0</td>\n",
       "      <td>3.0</td>\n",
       "    </tr>\n",
       "    <tr>\n",
       "      <th>6</th>\n",
       "      <td>Marcellus</td>\n",
       "      <td>NaN</td>\n",
       "      <td>NaN</td>\n",
       "      <td>4.0</td>\n",
       "      <td>5.0</td>\n",
       "      <td>4.0</td>\n",
       "    </tr>\n",
       "    <tr>\n",
       "      <th>7</th>\n",
       "      <td>Martina</td>\n",
       "      <td>5.0</td>\n",
       "      <td>5.0</td>\n",
       "      <td>5.0</td>\n",
       "      <td>5.0</td>\n",
       "      <td>5.0</td>\n",
       "    </tr>\n",
       "    <tr>\n",
       "      <th>8</th>\n",
       "      <td>Orson</td>\n",
       "      <td>1.0</td>\n",
       "      <td>1.0</td>\n",
       "      <td>1.0</td>\n",
       "      <td>2.0</td>\n",
       "      <td>5.0</td>\n",
       "    </tr>\n",
       "    <tr>\n",
       "      <th>9</th>\n",
       "      <td>Luke</td>\n",
       "      <td>5.0</td>\n",
       "      <td>NaN</td>\n",
       "      <td>NaN</td>\n",
       "      <td>NaN</td>\n",
       "      <td>NaN</td>\n",
       "    </tr>\n",
       "  </tbody>\n",
       "</table>\n",
       "</div>"
      ],
      "text/plain": [
       "       Rater  Star Wars  Finding Nemo  Forrest Gump  Parasite  Citizen Kane\n",
       "0   Floriana        NaN           5.0           5.0       3.0           NaN\n",
       "1   Raymundo        4.0           NaN           NaN       NaN           5.0\n",
       "2       Jung        5.0           NaN           NaN       5.0           NaN\n",
       "3      Kumar        5.0           NaN           4.0       NaN           4.0\n",
       "4      Maria        5.0           4.0           5.0       NaN           NaN\n",
       "5     Arthur        2.0           2.0           3.0       3.0           3.0\n",
       "6  Marcellus        NaN           NaN           4.0       5.0           4.0\n",
       "7    Martina        5.0           5.0           5.0       5.0           5.0\n",
       "8      Orson        1.0           1.0           1.0       2.0           5.0\n",
       "9       Luke        5.0           NaN           NaN       NaN           NaN"
      ]
     },
     "execution_count": 3,
     "metadata": {},
     "output_type": "execute_result"
    }
   ],
   "source": [
    "# first import the data\n",
    "url = 'https://raw.githubusercontent.com/bcgov/ds-intro-to-python/main/data/movieratings.csv'\n",
    "movie_ratings = pd.read_csv(url)\n",
    "movie_ratings"
   ]
  },
  {
   "cell_type": "code",
   "execution_count": 4,
   "id": "4f08ddea-cc30-42bf-b78e-f72e195e8cd4",
   "metadata": {},
   "outputs": [
    {
     "data": {
      "text/html": [
       "<div>\n",
       "<style scoped>\n",
       "    .dataframe tbody tr th:only-of-type {\n",
       "        vertical-align: middle;\n",
       "    }\n",
       "\n",
       "    .dataframe tbody tr th {\n",
       "        vertical-align: top;\n",
       "    }\n",
       "\n",
       "    .dataframe thead th {\n",
       "        text-align: right;\n",
       "    }\n",
       "</style>\n",
       "<table border=\"1\" class=\"dataframe\">\n",
       "  <thead>\n",
       "    <tr style=\"text-align: right;\">\n",
       "      <th></th>\n",
       "      <th>Rater</th>\n",
       "      <th>Star Wars</th>\n",
       "      <th>Finding Nemo</th>\n",
       "      <th>Forrest Gump</th>\n",
       "      <th>Parasite</th>\n",
       "      <th>Citizen Kane</th>\n",
       "    </tr>\n",
       "  </thead>\n",
       "  <tbody>\n",
       "    <tr>\n",
       "      <th>0</th>\n",
       "      <td>False</td>\n",
       "      <td>True</td>\n",
       "      <td>False</td>\n",
       "      <td>False</td>\n",
       "      <td>False</td>\n",
       "      <td>True</td>\n",
       "    </tr>\n",
       "    <tr>\n",
       "      <th>1</th>\n",
       "      <td>False</td>\n",
       "      <td>False</td>\n",
       "      <td>True</td>\n",
       "      <td>True</td>\n",
       "      <td>True</td>\n",
       "      <td>False</td>\n",
       "    </tr>\n",
       "    <tr>\n",
       "      <th>2</th>\n",
       "      <td>False</td>\n",
       "      <td>False</td>\n",
       "      <td>True</td>\n",
       "      <td>True</td>\n",
       "      <td>False</td>\n",
       "      <td>True</td>\n",
       "    </tr>\n",
       "    <tr>\n",
       "      <th>3</th>\n",
       "      <td>False</td>\n",
       "      <td>False</td>\n",
       "      <td>True</td>\n",
       "      <td>False</td>\n",
       "      <td>True</td>\n",
       "      <td>False</td>\n",
       "    </tr>\n",
       "    <tr>\n",
       "      <th>4</th>\n",
       "      <td>False</td>\n",
       "      <td>False</td>\n",
       "      <td>False</td>\n",
       "      <td>False</td>\n",
       "      <td>True</td>\n",
       "      <td>True</td>\n",
       "    </tr>\n",
       "    <tr>\n",
       "      <th>5</th>\n",
       "      <td>False</td>\n",
       "      <td>False</td>\n",
       "      <td>False</td>\n",
       "      <td>False</td>\n",
       "      <td>False</td>\n",
       "      <td>False</td>\n",
       "    </tr>\n",
       "    <tr>\n",
       "      <th>6</th>\n",
       "      <td>False</td>\n",
       "      <td>True</td>\n",
       "      <td>True</td>\n",
       "      <td>False</td>\n",
       "      <td>False</td>\n",
       "      <td>False</td>\n",
       "    </tr>\n",
       "    <tr>\n",
       "      <th>7</th>\n",
       "      <td>False</td>\n",
       "      <td>False</td>\n",
       "      <td>False</td>\n",
       "      <td>False</td>\n",
       "      <td>False</td>\n",
       "      <td>False</td>\n",
       "    </tr>\n",
       "    <tr>\n",
       "      <th>8</th>\n",
       "      <td>False</td>\n",
       "      <td>False</td>\n",
       "      <td>False</td>\n",
       "      <td>False</td>\n",
       "      <td>False</td>\n",
       "      <td>False</td>\n",
       "    </tr>\n",
       "    <tr>\n",
       "      <th>9</th>\n",
       "      <td>False</td>\n",
       "      <td>False</td>\n",
       "      <td>True</td>\n",
       "      <td>True</td>\n",
       "      <td>True</td>\n",
       "      <td>True</td>\n",
       "    </tr>\n",
       "  </tbody>\n",
       "</table>\n",
       "</div>"
      ],
      "text/plain": [
       "   Rater  Star Wars  Finding Nemo  Forrest Gump  Parasite  Citizen Kane\n",
       "0  False       True         False         False     False          True\n",
       "1  False      False          True          True      True         False\n",
       "2  False      False          True          True     False          True\n",
       "3  False      False          True         False      True         False\n",
       "4  False      False         False         False      True          True\n",
       "5  False      False         False         False     False         False\n",
       "6  False       True          True         False     False         False\n",
       "7  False      False         False         False     False         False\n",
       "8  False      False         False         False     False         False\n",
       "9  False      False          True          True      True          True"
      ]
     },
     "execution_count": 4,
     "metadata": {},
     "output_type": "execute_result"
    }
   ],
   "source": [
    "# use the isna() function to determine where the missing data is\n",
    "where_na = movie_ratings.isna()\n",
    "where_na"
   ]
  },
  {
   "cell_type": "code",
   "execution_count": 5,
   "id": "e74ce362-c4fe-4b04-a6c2-177b1383dd9c",
   "metadata": {},
   "outputs": [
    {
     "data": {
      "text/plain": [
       "0     True\n",
       "1     True\n",
       "2     True\n",
       "3     True\n",
       "4     True\n",
       "5    False\n",
       "6     True\n",
       "7    False\n",
       "8    False\n",
       "9     True\n",
       "dtype: bool"
      ]
     },
     "execution_count": 5,
     "metadata": {},
     "output_type": "execute_result"
    }
   ],
   "source": [
    "# use the any() function to determine if a row has at least 1 missing value \n",
    "where_na_by_row = where_na.any(axis=1)\n",
    "where_na_by_row"
   ]
  },
  {
   "cell_type": "code",
   "execution_count": 6,
   "id": "4517629d-6cb7-4f97-bdb0-797af6a39a35",
   "metadata": {},
   "outputs": [
    {
     "data": {
      "text/html": [
       "<div>\n",
       "<style scoped>\n",
       "    .dataframe tbody tr th:only-of-type {\n",
       "        vertical-align: middle;\n",
       "    }\n",
       "\n",
       "    .dataframe tbody tr th {\n",
       "        vertical-align: top;\n",
       "    }\n",
       "\n",
       "    .dataframe thead th {\n",
       "        text-align: right;\n",
       "    }\n",
       "</style>\n",
       "<table border=\"1\" class=\"dataframe\">\n",
       "  <thead>\n",
       "    <tr style=\"text-align: right;\">\n",
       "      <th></th>\n",
       "      <th>Rater</th>\n",
       "      <th>Star Wars</th>\n",
       "      <th>Finding Nemo</th>\n",
       "      <th>Forrest Gump</th>\n",
       "      <th>Parasite</th>\n",
       "      <th>Citizen Kane</th>\n",
       "    </tr>\n",
       "  </thead>\n",
       "  <tbody>\n",
       "    <tr>\n",
       "      <th>0</th>\n",
       "      <td>Floriana</td>\n",
       "      <td>NaN</td>\n",
       "      <td>5.0</td>\n",
       "      <td>5.0</td>\n",
       "      <td>3.0</td>\n",
       "      <td>NaN</td>\n",
       "    </tr>\n",
       "    <tr>\n",
       "      <th>1</th>\n",
       "      <td>Raymundo</td>\n",
       "      <td>4.0</td>\n",
       "      <td>NaN</td>\n",
       "      <td>NaN</td>\n",
       "      <td>NaN</td>\n",
       "      <td>5.0</td>\n",
       "    </tr>\n",
       "    <tr>\n",
       "      <th>2</th>\n",
       "      <td>Jung</td>\n",
       "      <td>5.0</td>\n",
       "      <td>NaN</td>\n",
       "      <td>NaN</td>\n",
       "      <td>5.0</td>\n",
       "      <td>NaN</td>\n",
       "    </tr>\n",
       "    <tr>\n",
       "      <th>3</th>\n",
       "      <td>Kumar</td>\n",
       "      <td>5.0</td>\n",
       "      <td>NaN</td>\n",
       "      <td>4.0</td>\n",
       "      <td>NaN</td>\n",
       "      <td>4.0</td>\n",
       "    </tr>\n",
       "    <tr>\n",
       "      <th>4</th>\n",
       "      <td>Maria</td>\n",
       "      <td>5.0</td>\n",
       "      <td>4.0</td>\n",
       "      <td>5.0</td>\n",
       "      <td>NaN</td>\n",
       "      <td>NaN</td>\n",
       "    </tr>\n",
       "    <tr>\n",
       "      <th>6</th>\n",
       "      <td>Marcellus</td>\n",
       "      <td>NaN</td>\n",
       "      <td>NaN</td>\n",
       "      <td>4.0</td>\n",
       "      <td>5.0</td>\n",
       "      <td>4.0</td>\n",
       "    </tr>\n",
       "    <tr>\n",
       "      <th>9</th>\n",
       "      <td>Luke</td>\n",
       "      <td>5.0</td>\n",
       "      <td>NaN</td>\n",
       "      <td>NaN</td>\n",
       "      <td>NaN</td>\n",
       "      <td>NaN</td>\n",
       "    </tr>\n",
       "  </tbody>\n",
       "</table>\n",
       "</div>"
      ],
      "text/plain": [
       "       Rater  Star Wars  Finding Nemo  Forrest Gump  Parasite  Citizen Kane\n",
       "0   Floriana        NaN           5.0           5.0       3.0           NaN\n",
       "1   Raymundo        4.0           NaN           NaN       NaN           5.0\n",
       "2       Jung        5.0           NaN           NaN       5.0           NaN\n",
       "3      Kumar        5.0           NaN           4.0       NaN           4.0\n",
       "4      Maria        5.0           4.0           5.0       NaN           NaN\n",
       "6  Marcellus        NaN           NaN           4.0       5.0           4.0\n",
       "9       Luke        5.0           NaN           NaN       NaN           NaN"
      ]
     },
     "execution_count": 6,
     "metadata": {},
     "output_type": "execute_result"
    }
   ],
   "source": [
    "# supply this series of booleans to filter our original dataset\n",
    "missing_data = movie_ratings[where_na_by_row]\n",
    "missing_data"
   ]
  },
  {
   "cell_type": "markdown",
   "id": "efb9ffd1-18a6-4657-b1c1-4bd30e4f8548",
   "metadata": {},
   "source": [
    "---\n",
    "\n",
    "#### Question 2\n",
    "\n",
    "What if we want to only drop the rows if BOTH Finding Nemo and Parasite are NA?"
   ]
  },
  {
   "cell_type": "code",
   "execution_count": 7,
   "id": "eb9109a5-1f35-4617-ae56-ef78b83cb410",
   "metadata": {},
   "outputs": [
    {
     "data": {
      "text/html": [
       "<div>\n",
       "<style scoped>\n",
       "    .dataframe tbody tr th:only-of-type {\n",
       "        vertical-align: middle;\n",
       "    }\n",
       "\n",
       "    .dataframe tbody tr th {\n",
       "        vertical-align: top;\n",
       "    }\n",
       "\n",
       "    .dataframe thead th {\n",
       "        text-align: right;\n",
       "    }\n",
       "</style>\n",
       "<table border=\"1\" class=\"dataframe\">\n",
       "  <thead>\n",
       "    <tr style=\"text-align: right;\">\n",
       "      <th></th>\n",
       "      <th>Rater</th>\n",
       "      <th>Star Wars</th>\n",
       "      <th>Finding Nemo</th>\n",
       "      <th>Forrest Gump</th>\n",
       "      <th>Parasite</th>\n",
       "      <th>Citizen Kane</th>\n",
       "    </tr>\n",
       "  </thead>\n",
       "  <tbody>\n",
       "    <tr>\n",
       "      <th>0</th>\n",
       "      <td>False</td>\n",
       "      <td>True</td>\n",
       "      <td>False</td>\n",
       "      <td>False</td>\n",
       "      <td>False</td>\n",
       "      <td>True</td>\n",
       "    </tr>\n",
       "    <tr>\n",
       "      <th>1</th>\n",
       "      <td>False</td>\n",
       "      <td>False</td>\n",
       "      <td>True</td>\n",
       "      <td>True</td>\n",
       "      <td>True</td>\n",
       "      <td>False</td>\n",
       "    </tr>\n",
       "    <tr>\n",
       "      <th>2</th>\n",
       "      <td>False</td>\n",
       "      <td>False</td>\n",
       "      <td>True</td>\n",
       "      <td>True</td>\n",
       "      <td>False</td>\n",
       "      <td>True</td>\n",
       "    </tr>\n",
       "    <tr>\n",
       "      <th>3</th>\n",
       "      <td>False</td>\n",
       "      <td>False</td>\n",
       "      <td>True</td>\n",
       "      <td>False</td>\n",
       "      <td>True</td>\n",
       "      <td>False</td>\n",
       "    </tr>\n",
       "    <tr>\n",
       "      <th>4</th>\n",
       "      <td>False</td>\n",
       "      <td>False</td>\n",
       "      <td>False</td>\n",
       "      <td>False</td>\n",
       "      <td>True</td>\n",
       "      <td>True</td>\n",
       "    </tr>\n",
       "    <tr>\n",
       "      <th>5</th>\n",
       "      <td>False</td>\n",
       "      <td>False</td>\n",
       "      <td>False</td>\n",
       "      <td>False</td>\n",
       "      <td>False</td>\n",
       "      <td>False</td>\n",
       "    </tr>\n",
       "    <tr>\n",
       "      <th>6</th>\n",
       "      <td>False</td>\n",
       "      <td>True</td>\n",
       "      <td>True</td>\n",
       "      <td>False</td>\n",
       "      <td>False</td>\n",
       "      <td>False</td>\n",
       "    </tr>\n",
       "    <tr>\n",
       "      <th>7</th>\n",
       "      <td>False</td>\n",
       "      <td>False</td>\n",
       "      <td>False</td>\n",
       "      <td>False</td>\n",
       "      <td>False</td>\n",
       "      <td>False</td>\n",
       "    </tr>\n",
       "    <tr>\n",
       "      <th>8</th>\n",
       "      <td>False</td>\n",
       "      <td>False</td>\n",
       "      <td>False</td>\n",
       "      <td>False</td>\n",
       "      <td>False</td>\n",
       "      <td>False</td>\n",
       "    </tr>\n",
       "    <tr>\n",
       "      <th>9</th>\n",
       "      <td>False</td>\n",
       "      <td>False</td>\n",
       "      <td>True</td>\n",
       "      <td>True</td>\n",
       "      <td>True</td>\n",
       "      <td>True</td>\n",
       "    </tr>\n",
       "  </tbody>\n",
       "</table>\n",
       "</div>"
      ],
      "text/plain": [
       "   Rater  Star Wars  Finding Nemo  Forrest Gump  Parasite  Citizen Kane\n",
       "0  False       True         False         False     False          True\n",
       "1  False      False          True          True      True         False\n",
       "2  False      False          True          True     False          True\n",
       "3  False      False          True         False      True         False\n",
       "4  False      False         False         False      True          True\n",
       "5  False      False         False         False     False         False\n",
       "6  False       True          True         False     False         False\n",
       "7  False      False         False         False     False         False\n",
       "8  False      False         False         False     False         False\n",
       "9  False      False          True          True      True          True"
      ]
     },
     "execution_count": 7,
     "metadata": {},
     "output_type": "execute_result"
    }
   ],
   "source": [
    "# start the same as before, find all the NAs\n",
    "where_na = movie_ratings.isna()\n",
    "where_na"
   ]
  },
  {
   "cell_type": "code",
   "execution_count": 8,
   "id": "171cfb2a-1478-44f3-a9ed-87633e2e40cf",
   "metadata": {},
   "outputs": [
    {
     "data": {
      "text/html": [
       "<div>\n",
       "<style scoped>\n",
       "    .dataframe tbody tr th:only-of-type {\n",
       "        vertical-align: middle;\n",
       "    }\n",
       "\n",
       "    .dataframe tbody tr th {\n",
       "        vertical-align: top;\n",
       "    }\n",
       "\n",
       "    .dataframe thead th {\n",
       "        text-align: right;\n",
       "    }\n",
       "</style>\n",
       "<table border=\"1\" class=\"dataframe\">\n",
       "  <thead>\n",
       "    <tr style=\"text-align: right;\">\n",
       "      <th></th>\n",
       "      <th>Finding Nemo</th>\n",
       "      <th>Parasite</th>\n",
       "    </tr>\n",
       "  </thead>\n",
       "  <tbody>\n",
       "    <tr>\n",
       "      <th>0</th>\n",
       "      <td>False</td>\n",
       "      <td>False</td>\n",
       "    </tr>\n",
       "    <tr>\n",
       "      <th>1</th>\n",
       "      <td>True</td>\n",
       "      <td>True</td>\n",
       "    </tr>\n",
       "    <tr>\n",
       "      <th>2</th>\n",
       "      <td>True</td>\n",
       "      <td>False</td>\n",
       "    </tr>\n",
       "    <tr>\n",
       "      <th>3</th>\n",
       "      <td>True</td>\n",
       "      <td>True</td>\n",
       "    </tr>\n",
       "    <tr>\n",
       "      <th>4</th>\n",
       "      <td>False</td>\n",
       "      <td>True</td>\n",
       "    </tr>\n",
       "    <tr>\n",
       "      <th>5</th>\n",
       "      <td>False</td>\n",
       "      <td>False</td>\n",
       "    </tr>\n",
       "    <tr>\n",
       "      <th>6</th>\n",
       "      <td>True</td>\n",
       "      <td>False</td>\n",
       "    </tr>\n",
       "    <tr>\n",
       "      <th>7</th>\n",
       "      <td>False</td>\n",
       "      <td>False</td>\n",
       "    </tr>\n",
       "    <tr>\n",
       "      <th>8</th>\n",
       "      <td>False</td>\n",
       "      <td>False</td>\n",
       "    </tr>\n",
       "    <tr>\n",
       "      <th>9</th>\n",
       "      <td>True</td>\n",
       "      <td>True</td>\n",
       "    </tr>\n",
       "  </tbody>\n",
       "</table>\n",
       "</div>"
      ],
      "text/plain": [
       "   Finding Nemo  Parasite\n",
       "0         False     False\n",
       "1          True      True\n",
       "2          True     False\n",
       "3          True      True\n",
       "4         False      True\n",
       "5         False     False\n",
       "6          True     False\n",
       "7         False     False\n",
       "8         False     False\n",
       "9          True      True"
      ]
     },
     "execution_count": 8,
     "metadata": {},
     "output_type": "execute_result"
    }
   ],
   "source": [
    "# reduce to only the two columns of interest\n",
    "where_na_fn_p = where_na[['Finding Nemo', 'Parasite']]\n",
    "where_na_fn_p"
   ]
  },
  {
   "cell_type": "code",
   "execution_count": 9,
   "id": "fa65f9e9-4775-4971-a5fc-b15e67a2dd62",
   "metadata": {},
   "outputs": [
    {
     "data": {
      "text/plain": [
       "0    False\n",
       "1     True\n",
       "2    False\n",
       "3     True\n",
       "4    False\n",
       "5    False\n",
       "6    False\n",
       "7    False\n",
       "8    False\n",
       "9     True\n",
       "dtype: bool"
      ]
     },
     "execution_count": 9,
     "metadata": {},
     "output_type": "execute_result"
    }
   ],
   "source": [
    "# find the rows where both finding nemo AND parasite are missing (both are true)\n",
    "# do this using the all() function\n",
    "where_both_na = where_na_fn_p.all(axis=1)\n",
    "where_both_na"
   ]
  },
  {
   "cell_type": "code",
   "execution_count": 10,
   "id": "ddf757a6-6185-478d-97d1-aaac626d6fb7",
   "metadata": {},
   "outputs": [
    {
     "data": {
      "text/plain": [
       "0     True\n",
       "1    False\n",
       "2     True\n",
       "3    False\n",
       "4     True\n",
       "5     True\n",
       "6     True\n",
       "7     True\n",
       "8     True\n",
       "9    False\n",
       "dtype: bool"
      ]
     },
     "execution_count": 10,
     "metadata": {},
     "output_type": "execute_result"
    }
   ],
   "source": [
    "# negate this as we want to return all the other rows\n",
    "where_not_both_na = ~where_both_na\n",
    "where_not_both_na"
   ]
  },
  {
   "cell_type": "code",
   "execution_count": 11,
   "id": "0ed9bdf4-b2d0-4616-aec7-ca241b17864b",
   "metadata": {},
   "outputs": [
    {
     "data": {
      "text/html": [
       "<div>\n",
       "<style scoped>\n",
       "    .dataframe tbody tr th:only-of-type {\n",
       "        vertical-align: middle;\n",
       "    }\n",
       "\n",
       "    .dataframe tbody tr th {\n",
       "        vertical-align: top;\n",
       "    }\n",
       "\n",
       "    .dataframe thead th {\n",
       "        text-align: right;\n",
       "    }\n",
       "</style>\n",
       "<table border=\"1\" class=\"dataframe\">\n",
       "  <thead>\n",
       "    <tr style=\"text-align: right;\">\n",
       "      <th></th>\n",
       "      <th>Rater</th>\n",
       "      <th>Star Wars</th>\n",
       "      <th>Finding Nemo</th>\n",
       "      <th>Forrest Gump</th>\n",
       "      <th>Parasite</th>\n",
       "      <th>Citizen Kane</th>\n",
       "    </tr>\n",
       "  </thead>\n",
       "  <tbody>\n",
       "    <tr>\n",
       "      <th>0</th>\n",
       "      <td>Floriana</td>\n",
       "      <td>NaN</td>\n",
       "      <td>5.0</td>\n",
       "      <td>5.0</td>\n",
       "      <td>3.0</td>\n",
       "      <td>NaN</td>\n",
       "    </tr>\n",
       "    <tr>\n",
       "      <th>2</th>\n",
       "      <td>Jung</td>\n",
       "      <td>5.0</td>\n",
       "      <td>NaN</td>\n",
       "      <td>NaN</td>\n",
       "      <td>5.0</td>\n",
       "      <td>NaN</td>\n",
       "    </tr>\n",
       "    <tr>\n",
       "      <th>4</th>\n",
       "      <td>Maria</td>\n",
       "      <td>5.0</td>\n",
       "      <td>4.0</td>\n",
       "      <td>5.0</td>\n",
       "      <td>NaN</td>\n",
       "      <td>NaN</td>\n",
       "    </tr>\n",
       "    <tr>\n",
       "      <th>5</th>\n",
       "      <td>Arthur</td>\n",
       "      <td>2.0</td>\n",
       "      <td>2.0</td>\n",
       "      <td>3.0</td>\n",
       "      <td>3.0</td>\n",
       "      <td>3.0</td>\n",
       "    </tr>\n",
       "    <tr>\n",
       "      <th>6</th>\n",
       "      <td>Marcellus</td>\n",
       "      <td>NaN</td>\n",
       "      <td>NaN</td>\n",
       "      <td>4.0</td>\n",
       "      <td>5.0</td>\n",
       "      <td>4.0</td>\n",
       "    </tr>\n",
       "    <tr>\n",
       "      <th>7</th>\n",
       "      <td>Martina</td>\n",
       "      <td>5.0</td>\n",
       "      <td>5.0</td>\n",
       "      <td>5.0</td>\n",
       "      <td>5.0</td>\n",
       "      <td>5.0</td>\n",
       "    </tr>\n",
       "    <tr>\n",
       "      <th>8</th>\n",
       "      <td>Orson</td>\n",
       "      <td>1.0</td>\n",
       "      <td>1.0</td>\n",
       "      <td>1.0</td>\n",
       "      <td>2.0</td>\n",
       "      <td>5.0</td>\n",
       "    </tr>\n",
       "  </tbody>\n",
       "</table>\n",
       "</div>"
      ],
      "text/plain": [
       "       Rater  Star Wars  Finding Nemo  Forrest Gump  Parasite  Citizen Kane\n",
       "0   Floriana        NaN           5.0           5.0       3.0           NaN\n",
       "2       Jung        5.0           NaN           NaN       5.0           NaN\n",
       "4      Maria        5.0           4.0           5.0       NaN           NaN\n",
       "5     Arthur        2.0           2.0           3.0       3.0           3.0\n",
       "6  Marcellus        NaN           NaN           4.0       5.0           4.0\n",
       "7    Martina        5.0           5.0           5.0       5.0           5.0\n",
       "8      Orson        1.0           1.0           1.0       2.0           5.0"
      ]
     },
     "execution_count": 11,
     "metadata": {},
     "output_type": "execute_result"
    }
   ],
   "source": [
    "# supply this to the original dataset to filter to what we wanted\n",
    "filtered_movies = movie_ratings[where_not_both_na]\n",
    "filtered_movies"
   ]
  },
  {
   "cell_type": "markdown",
   "id": "e8f311aa-aa02-4d78-bbb1-ee3eb8aa3e9b",
   "metadata": {},
   "source": [
    "---\n",
    "\n",
    "#### Question 3\n",
    "\n",
    "How can we sort the value counts output by the first column (our categories) instead of by the counts?\n",
    "\n",
    "Reminder, here we were using this dataset:\n",
    "\n",
    "https://raw.githubusercontent.com/bcgov/ds-intro-to-python/main/data/techhealth.csv"
   ]
  },
  {
   "cell_type": "code",
   "execution_count": 19,
   "id": "e83f2d8e-35c4-4576-975f-aa334833fb49",
   "metadata": {},
   "outputs": [
    {
     "data": {
      "text/html": [
       "<div>\n",
       "<style scoped>\n",
       "    .dataframe tbody tr th:only-of-type {\n",
       "        vertical-align: middle;\n",
       "    }\n",
       "\n",
       "    .dataframe tbody tr th {\n",
       "        vertical-align: top;\n",
       "    }\n",
       "\n",
       "    .dataframe thead th {\n",
       "        text-align: right;\n",
       "    }\n",
       "</style>\n",
       "<table border=\"1\" class=\"dataframe\">\n",
       "  <thead>\n",
       "    <tr style=\"text-align: right;\">\n",
       "      <th></th>\n",
       "      <th>timestamp</th>\n",
       "      <th>age</th>\n",
       "      <th>gender</th>\n",
       "      <th>country</th>\n",
       "      <th>self_employed</th>\n",
       "      <th>family_history</th>\n",
       "      <th>treatment</th>\n",
       "      <th>work_interfere</th>\n",
       "      <th>remote_work</th>\n",
       "      <th>tech_company</th>\n",
       "      <th>benefits</th>\n",
       "      <th>leave</th>\n",
       "      <th>mental_health_consequence</th>\n",
       "    </tr>\n",
       "  </thead>\n",
       "  <tbody>\n",
       "    <tr>\n",
       "      <th>0</th>\n",
       "      <td>27/08/2014 11:35</td>\n",
       "      <td>46</td>\n",
       "      <td>Male</td>\n",
       "      <td>United States</td>\n",
       "      <td>No</td>\n",
       "      <td>No</td>\n",
       "      <td>Yes</td>\n",
       "      <td>Often</td>\n",
       "      <td>Yes</td>\n",
       "      <td>Yes</td>\n",
       "      <td>Yes</td>\n",
       "      <td>Don't know</td>\n",
       "      <td>Maybe</td>\n",
       "    </tr>\n",
       "    <tr>\n",
       "      <th>1</th>\n",
       "      <td>27/08/2014 11:36</td>\n",
       "      <td>41</td>\n",
       "      <td>Male</td>\n",
       "      <td>United States</td>\n",
       "      <td>No</td>\n",
       "      <td>No</td>\n",
       "      <td>Yes</td>\n",
       "      <td>Never</td>\n",
       "      <td>No</td>\n",
       "      <td>No</td>\n",
       "      <td>Don't know</td>\n",
       "      <td>Don't know</td>\n",
       "      <td>Maybe</td>\n",
       "    </tr>\n",
       "    <tr>\n",
       "      <th>2</th>\n",
       "      <td>27/08/2014 11:36</td>\n",
       "      <td>33</td>\n",
       "      <td>male</td>\n",
       "      <td>United States</td>\n",
       "      <td>No</td>\n",
       "      <td>Yes</td>\n",
       "      <td>Yes</td>\n",
       "      <td>Rarely</td>\n",
       "      <td>No</td>\n",
       "      <td>Yes</td>\n",
       "      <td>Yes</td>\n",
       "      <td>Don't know</td>\n",
       "      <td>No</td>\n",
       "    </tr>\n",
       "    <tr>\n",
       "      <th>3</th>\n",
       "      <td>27/08/2014 11:37</td>\n",
       "      <td>35</td>\n",
       "      <td>male</td>\n",
       "      <td>United States</td>\n",
       "      <td>No</td>\n",
       "      <td>Yes</td>\n",
       "      <td>Yes</td>\n",
       "      <td>Sometimes</td>\n",
       "      <td>No</td>\n",
       "      <td>No</td>\n",
       "      <td>Yes</td>\n",
       "      <td>Very easy</td>\n",
       "      <td>Yes</td>\n",
       "    </tr>\n",
       "    <tr>\n",
       "      <th>4</th>\n",
       "      <td>27/08/2014 11:42</td>\n",
       "      <td>35</td>\n",
       "      <td>M</td>\n",
       "      <td>United States</td>\n",
       "      <td>No</td>\n",
       "      <td>No</td>\n",
       "      <td>Yes</td>\n",
       "      <td>Rarely</td>\n",
       "      <td>Yes</td>\n",
       "      <td>Yes</td>\n",
       "      <td>Yes</td>\n",
       "      <td>Very easy</td>\n",
       "      <td>No</td>\n",
       "    </tr>\n",
       "  </tbody>\n",
       "</table>\n",
       "</div>"
      ],
      "text/plain": [
       "          timestamp  age gender        country self_employed family_history  \\\n",
       "0  27/08/2014 11:35   46   Male  United States            No             No   \n",
       "1  27/08/2014 11:36   41   Male  United States            No             No   \n",
       "2  27/08/2014 11:36   33   male  United States            No            Yes   \n",
       "3  27/08/2014 11:37   35   male  United States            No            Yes   \n",
       "4  27/08/2014 11:42   35      M  United States            No             No   \n",
       "\n",
       "  treatment work_interfere remote_work tech_company    benefits       leave  \\\n",
       "0       Yes          Often         Yes          Yes         Yes  Don't know   \n",
       "1       Yes          Never          No           No  Don't know  Don't know   \n",
       "2       Yes         Rarely          No          Yes         Yes  Don't know   \n",
       "3       Yes      Sometimes          No           No         Yes   Very easy   \n",
       "4       Yes         Rarely         Yes          Yes         Yes   Very easy   \n",
       "\n",
       "  mental_health_consequence  \n",
       "0                     Maybe  \n",
       "1                     Maybe  \n",
       "2                        No  \n",
       "3                       Yes  \n",
       "4                        No  "
      ]
     },
     "execution_count": 19,
     "metadata": {},
     "output_type": "execute_result"
    }
   ],
   "source": [
    "url = 'https://raw.githubusercontent.com/bcgov/ds-intro-to-python/main/data/techhealth.csv'\n",
    "m_health = pd.read_csv(url)\n",
    "m_health.columns = m_health.columns.str.lower().str.replace(' ','_')\n",
    "m_health.head()"
   ]
  },
  {
   "cell_type": "code",
   "execution_count": 21,
   "id": "2d7a4244-fa59-4de3-8435-146725fd8a74",
   "metadata": {},
   "outputs": [],
   "source": [
    "# a different way to map the Never/Rarely/Sometimes/Often to 0/1/2/3\n",
    "my_map = {'Never': 0, 'Rarely': 1, 'Sometimes': 2, 'Often': 3}\n",
    "m_health['work_interfere'] = m_health['work_interfere'].map(my_map)"
   ]
  },
  {
   "cell_type": "code",
   "execution_count": 23,
   "id": "f09753b9-43fd-424f-a41d-260bf83d80ed",
   "metadata": {},
   "outputs": [
    {
     "data": {
      "text/plain": [
       "2    12\n",
       "0     5\n",
       "1     4\n",
       "3     3\n",
       "Name: work_interfere, dtype: int64"
      ]
     },
     "execution_count": 23,
     "metadata": {},
     "output_type": "execute_result"
    }
   ],
   "source": [
    "# get the value counts series\n",
    "work_interfere_counts = m_health['work_interfere'].value_counts()\n",
    "work_interfere_counts"
   ]
  },
  {
   "cell_type": "code",
   "execution_count": 24,
   "id": "cc7820d0-64b7-40fb-9ec9-825f588394f5",
   "metadata": {},
   "outputs": [
    {
     "data": {
      "text/plain": [
       "0     5\n",
       "1     4\n",
       "2    12\n",
       "3     3\n",
       "Name: work_interfere, dtype: int64"
      ]
     },
     "execution_count": 24,
     "metadata": {},
     "output_type": "execute_result"
    }
   ],
   "source": [
    "# sort by the index instead of counts\n",
    "work_interfere_counts.sort_index()"
   ]
  },
  {
   "cell_type": "code",
   "execution_count": null,
   "id": "c7251ef8-8b52-400a-9ff7-c8338234b455",
   "metadata": {},
   "outputs": [],
   "source": []
  }
 ],
 "metadata": {
  "kernelspec": {
   "display_name": "Python 3 (ipykernel)",
   "language": "python",
   "name": "python3"
  },
  "language_info": {
   "codemirror_mode": {
    "name": "ipython",
    "version": 3
   },
   "file_extension": ".py",
   "mimetype": "text/x-python",
   "name": "python",
   "nbconvert_exporter": "python",
   "pygments_lexer": "ipython3",
   "version": "3.9.13"
  }
 },
 "nbformat": 4,
 "nbformat_minor": 5
}

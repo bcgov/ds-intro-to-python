{
 "cells": [
  {
   "cell_type": "code",
   "execution_count": 1,
   "id": "b0a505cb-6f8f-46a8-b251-1c3dc1558686",
   "metadata": {},
   "outputs": [
    {
     "name": "stdout",
     "output_type": "stream",
     "text": [
      "Help on built-in function round in module builtins:\n",
      "\n",
      "round(number, ndigits=None)\n",
      "    Round a number to a given precision in decimal digits.\n",
      "    \n",
      "    The return value is an integer if ndigits is omitted or None.  Otherwise\n",
      "    the return value has the same type as the number.  ndigits may be negative.\n",
      "\n"
     ]
    }
   ],
   "source": [
    "help(round)"
   ]
  },
  {
   "cell_type": "code",
   "execution_count": 2,
   "id": "6648d195-10d7-4913-a644-90375c97d1f7",
   "metadata": {},
   "outputs": [
    {
     "ename": "TypeError",
     "evalue": "round() missing required argument 'number' (pos 1)",
     "output_type": "error",
     "traceback": [
      "\u001b[1;31m---------------------------------------------------------------------------\u001b[0m",
      "\u001b[1;31mTypeError\u001b[0m                                 Traceback (most recent call last)",
      "Input \u001b[1;32mIn [2]\u001b[0m, in \u001b[0;36m<cell line: 1>\u001b[1;34m()\u001b[0m\n\u001b[1;32m----> 1\u001b[0m \u001b[38;5;28;43mround\u001b[39;49m\u001b[43m(\u001b[49m\u001b[43m)\u001b[49m\n",
      "\u001b[1;31mTypeError\u001b[0m: round() missing required argument 'number' (pos 1)"
     ]
    }
   ],
   "source": [
    "round()"
   ]
  },
  {
   "cell_type": "code",
   "execution_count": 5,
   "id": "fef1c06f-b7a6-40d6-a814-8e72200fd5da",
   "metadata": {},
   "outputs": [
    {
     "ename": "SyntaxError",
     "evalue": "EOL while scanning string literal (2720358869.py, line 1)",
     "output_type": "error",
     "traceback": [
      "\u001b[1;36m  Input \u001b[1;32mIn [5]\u001b[1;36m\u001b[0m\n\u001b[1;33m    name = 'Feng\u001b[0m\n\u001b[1;37m                ^\u001b[0m\n\u001b[1;31mSyntaxError\u001b[0m\u001b[1;31m:\u001b[0m EOL while scanning string literal\n"
     ]
    }
   ],
   "source": [
    "name = 'Feng"
   ]
  },
  {
   "cell_type": "code",
   "execution_count": 7,
   "id": "ef39a9dc-6960-4706-b108-307ea1c5485a",
   "metadata": {},
   "outputs": [],
   "source": [
    "age = 52"
   ]
  },
  {
   "cell_type": "code",
   "execution_count": 8,
   "id": "93188c2b-4bbb-40c0-9fb7-0d9026ab4386",
   "metadata": {},
   "outputs": [
    {
     "ename": "ModuleNotFoundError",
     "evalue": "No module named 'shap'",
     "output_type": "error",
     "traceback": [
      "\u001b[1;31m---------------------------------------------------------------------------\u001b[0m",
      "\u001b[1;31mModuleNotFoundError\u001b[0m                       Traceback (most recent call last)",
      "Input \u001b[1;32mIn [8]\u001b[0m, in \u001b[0;36m<cell line: 1>\u001b[1;34m()\u001b[0m\n\u001b[1;32m----> 1\u001b[0m \u001b[38;5;28;01mimport\u001b[39;00m \u001b[38;5;21;01mshap\u001b[39;00m\n",
      "\u001b[1;31mModuleNotFoundError\u001b[0m: No module named 'shap'"
     ]
    }
   ],
   "source": [
    "import shap"
   ]
  },
  {
   "cell_type": "code",
   "execution_count": 15,
   "id": "ab59290e-131f-42da-bb3b-efcaa267039b",
   "metadata": {},
   "outputs": [
    {
     "ename": "NameError",
     "evalue": "name 'agrrre' is not defined",
     "output_type": "error",
     "traceback": [
      "\u001b[1;31m---------------------------------------------------------------------------\u001b[0m",
      "\u001b[1;31mNameError\u001b[0m                                 Traceback (most recent call last)",
      "Input \u001b[1;32mIn [15]\u001b[0m, in \u001b[0;36m<cell line: 2>\u001b[1;34m()\u001b[0m\n\u001b[0;32m      1\u001b[0m agge \u001b[38;5;241m=\u001b[39m \u001b[38;5;241m54\u001b[39m\n\u001b[1;32m----> 2\u001b[0m years_to_100 \u001b[38;5;241m=\u001b[39m \u001b[38;5;241m100\u001b[39m \u001b[38;5;241m-\u001b[39m \u001b[43magrrre\u001b[49m\n",
      "\u001b[1;31mNameError\u001b[0m: name 'agrrre' is not defined"
     ]
    }
   ],
   "source": [
    "agge = 54\n",
    "years_to_100 = 100 - agrrre\n"
   ]
  },
  {
   "cell_type": "markdown",
   "id": "5e0c2d4a-4253-4a06-b098-ded2fe66e0e2",
   "metadata": {},
   "source": [
    "## Coding Style"
   ]
  },
  {
   "cell_type": "code",
   "execution_count": 18,
   "id": "60ee122e-308a-4d46-bba9-8ed089b458fc",
   "metadata": {},
   "outputs": [
    {
     "name": "stdout",
     "output_type": "stream",
     "text": [
      "hello world\n",
      "hello world\n"
     ]
    }
   ],
   "source": [
    "# the bog standard first line of code\n",
    "print(\"hello world\")\n",
    "\n",
    "print(\"hello world\") # can also put here"
   ]
  },
  {
   "cell_type": "code",
   "execution_count": null,
   "id": "947a6833-2a80-44fc-bf24-ba295d944e93",
   "metadata": {},
   "outputs": [],
   "source": [
    "a = 10 # good style\n",
    "a=10 # not so good"
   ]
  },
  {
   "cell_type": "code",
   "execution_count": 20,
   "id": "08810c9d-34ae-406c-9305-cef217137034",
   "metadata": {},
   "outputs": [
    {
     "name": "stdout",
     "output_type": "stream",
     "text": [
      "2\n",
      "2\n"
     ]
    }
   ],
   "source": [
    "print(2) # good style\n",
    "print (2) # not so good"
   ]
  },
  {
   "cell_type": "code",
   "execution_count": null,
   "id": "0da548e5-3f28-4a9a-9bd9-473e5bd56ac7",
   "metadata": {},
   "outputs": [],
   "source": [
    "i = i + 1 # good style\n",
    "i=i+1 # not so good\n",
    "\n",
    "x = 3\n",
    "x = x*2 + 1 # good style\n",
    "x = x * 2 + 1 # bad style\n",
    "\n"
   ]
  },
  {
   "cell_type": "code",
   "execution_count": 22,
   "id": "204f8277-01e8-480a-9cf9-2e477db3e176",
   "metadata": {},
   "outputs": [
    {
     "data": {
      "text/plain": [
       "7"
      ]
     },
     "execution_count": 22,
     "metadata": {},
     "output_type": "execute_result"
    }
   ],
   "source": [
    "x = 3\n",
    "x = x*2 + 1 # good style\n",
    "x"
   ]
  },
  {
   "cell_type": "code",
   "execution_count": null,
   "id": "b5b0d769-2fa6-49ab-9398-10cd59808a0c",
   "metadata": {},
   "outputs": [],
   "source": [
    "# Good - aligned with opening delimeter\n",
    "animals = animals.drop('weight', 'size', 'age', 'location', 'eye colour', \n",
    "                       'intelligence', 'cost', 'number held in zoos')\n",
    "\n",
    "# Good - hanging indents (usually four spaces, should not use tabs)\n",
    "animals = animals.drop(\n",
    "    'weight', 'size', 'age', 'location', 'eye colour', 'intelligence', \n",
    "    'cost', 'number held in zoos')"
   ]
  },
  {
   "cell_type": "code",
   "execution_count": null,
   "id": "87a42f5b-9937-4a87-96ba-649881210649",
   "metadata": {},
   "outputs": [],
   "source": [
    "# Good - different kinds of coding elements together and separated by blank lines\n",
    "x = [1,2,3]\n",
    "y = [2,4,1]\n",
    "\n",
    "plt.plot(x, y)\n",
    "\n",
    "plt.xlabel('x - axis')\n",
    "plt.ylabel('y - axis')\n",
    "\n",
    "plt.title('My first graph!')\n",
    "plt.show()\n",
    "\n",
    "# Less good - harder for the eye to differentiate how the code is structured\n",
    "x = [1,2,3]\n",
    "y = [2,4,1]\n",
    "plt.plot(x, y)\n",
    "plt.xlabel('x - axis')\n",
    "plt.ylabel('y - axis')\n",
    "plt.title('My first graph!')\n",
    "plt.show()"
   ]
  },
  {
   "cell_type": "code",
   "execution_count": 23,
   "id": "179c8a83-cd0e-4f96-a793-5b66c9d4e6b0",
   "metadata": {},
   "outputs": [
    {
     "ename": "NameError",
     "evalue": "name 'last_name' is not defined",
     "output_type": "error",
     "traceback": [
      "\u001b[1;31m---------------------------------------------------------------------------\u001b[0m",
      "\u001b[1;31mNameError\u001b[0m                                 Traceback (most recent call last)",
      "Input \u001b[1;32mIn [23]\u001b[0m, in \u001b[0;36m<cell line: 2>\u001b[1;34m()\u001b[0m\n\u001b[0;32m      1\u001b[0m \u001b[38;5;66;03m# Example 1\u001b[39;00m\n\u001b[1;32m----> 2\u001b[0m \u001b[38;5;28mprint\u001b[39m (\u001b[43mlast_name\u001b[49m) \n\u001b[0;32m      4\u001b[0m \u001b[38;5;66;03m# Example 2\u001b[39;00m\n\u001b[0;32m      5\u001b[0m celcius \u001b[38;5;241m=\u001b[39m (fahrenheit \u001b[38;5;241m-\u001b[39m \u001b[38;5;241m32\u001b[39m) \u001b[38;5;241m/\u001b[39m \u001b[38;5;241m1.8\u001b[39m  \n",
      "\u001b[1;31mNameError\u001b[0m: name 'last_name' is not defined"
     ]
    }
   ],
   "source": [
    "# Example 1\n",
    "print (last_name) \n",
    "\n",
    "# Example 2\n",
    "celcius = (fahrenheit - 32) / 1.8  \n",
    "\n",
    "# Example 3\n",
    "index = ['snail', 'pig', 'elephant', 'rabbit', 'giraffe', \n",
    "         'coyote', 'horse', 'giraffe', 'ping pong table']"
   ]
  },
  {
   "cell_type": "code",
   "execution_count": null,
   "id": "57e58213-1c71-4e5c-b3cd-29492fb948db",
   "metadata": {},
   "outputs": [],
   "source": []
  }
 ],
 "metadata": {
  "kernelspec": {
   "display_name": "Python 3 (ipykernel)",
   "language": "python",
   "name": "python3"
  },
  "language_info": {
   "codemirror_mode": {
    "name": "ipython",
    "version": 3
   },
   "file_extension": ".py",
   "mimetype": "text/x-python",
   "name": "python",
   "nbconvert_exporter": "python",
   "pygments_lexer": "ipython3",
   "version": "3.9.13"
  }
 },
 "nbformat": 4,
 "nbformat_minor": 5
}

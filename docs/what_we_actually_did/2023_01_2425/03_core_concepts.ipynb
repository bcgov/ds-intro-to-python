{
 "cells": [
  {
   "cell_type": "code",
   "execution_count": 1,
   "id": "5dd3c304-2e3b-49fe-b7fd-6ebb6ba53462",
   "metadata": {},
   "outputs": [],
   "source": [
    "age = 62"
   ]
  },
  {
   "cell_type": "code",
   "execution_count": 2,
   "id": "2b07cf4b-ef63-4c60-b6cd-5ae03674c651",
   "metadata": {},
   "outputs": [
    {
     "data": {
      "text/plain": [
       "38"
      ]
     },
     "metadata": {},
     "output_type": "display_data"
    }
   ],
   "source": [
    "banana = 10\n",
    "years_to_100 = 100 - age\n",
    "display(years_to_100)"
   ]
  },
  {
   "cell_type": "code",
   "execution_count": 3,
   "id": "bf585009-27e8-47fd-b7c1-80b7f3d7174b",
   "metadata": {},
   "outputs": [
    {
     "data": {
      "text/plain": [
       "38"
      ]
     },
     "execution_count": 3,
     "metadata": {},
     "output_type": "execute_result"
    }
   ],
   "source": [
    "years_to_100"
   ]
  },
  {
   "cell_type": "markdown",
   "id": "c0c62411-f00c-4404-93bd-2b65a14b17f3",
   "metadata": {},
   "source": [
    "## Welcome Back!"
   ]
  },
  {
   "cell_type": "code",
   "execution_count": 4,
   "id": "b7f070ed-9bac-4e37-9f6b-761e2e9954a5",
   "metadata": {},
   "outputs": [],
   "source": [
    "my_list = [1, 'two', 3.0, True]"
   ]
  },
  {
   "cell_type": "code",
   "execution_count": 5,
   "id": "c6f5f638-900b-4b42-8bf0-c303bc8ecb59",
   "metadata": {},
   "outputs": [
    {
     "name": "stdout",
     "output_type": "stream",
     "text": [
      "[1, 'two', 3.0, True]\n"
     ]
    }
   ],
   "source": [
    "print(my_list)"
   ]
  },
  {
   "cell_type": "code",
   "execution_count": 6,
   "id": "a267d59b-a28b-48cd-9cd3-845941f3337a",
   "metadata": {},
   "outputs": [
    {
     "data": {
      "text/plain": [
       "1"
      ]
     },
     "execution_count": 6,
     "metadata": {},
     "output_type": "execute_result"
    }
   ],
   "source": [
    "my_list[0]"
   ]
  },
  {
   "cell_type": "code",
   "execution_count": 8,
   "id": "2da668eb-eb81-4a17-815a-b45dc9565f89",
   "metadata": {},
   "outputs": [
    {
     "data": {
      "text/plain": [
       "True"
      ]
     },
     "execution_count": 8,
     "metadata": {},
     "output_type": "execute_result"
    }
   ],
   "source": [
    "my_list[3]"
   ]
  },
  {
   "cell_type": "code",
   "execution_count": 9,
   "id": "4ed02ffc-60f8-47ec-b212-c266c9d00fbd",
   "metadata": {},
   "outputs": [
    {
     "data": {
      "text/plain": [
       "True"
      ]
     },
     "execution_count": 9,
     "metadata": {},
     "output_type": "execute_result"
    }
   ],
   "source": [
    "# last element\n",
    "my_list[-1]"
   ]
  },
  {
   "cell_type": "code",
   "execution_count": 10,
   "id": "294dae46-7c3b-4468-acf5-911998b74440",
   "metadata": {},
   "outputs": [
    {
     "data": {
      "text/plain": [
       "3.0"
      ]
     },
     "execution_count": 10,
     "metadata": {},
     "output_type": "execute_result"
    }
   ],
   "source": [
    "my_list[-2]"
   ]
  },
  {
   "cell_type": "code",
   "execution_count": 11,
   "id": "dd41de14-e7f5-44b2-a7a2-5cdb130973a1",
   "metadata": {},
   "outputs": [
    {
     "data": {
      "text/plain": [
       "3.0"
      ]
     },
     "execution_count": 11,
     "metadata": {},
     "output_type": "execute_result"
    }
   ],
   "source": [
    "my_list[2]"
   ]
  },
  {
   "cell_type": "code",
   "execution_count": 12,
   "id": "0be2f1c0-7a5a-4160-83fe-6aa05366ae92",
   "metadata": {},
   "outputs": [],
   "source": [
    "first_name = 'Loki'"
   ]
  },
  {
   "cell_type": "code",
   "execution_count": 13,
   "id": "a38d9164-c2ef-4142-8faa-40938c4c6416",
   "metadata": {},
   "outputs": [
    {
     "data": {
      "text/plain": [
       "'L'"
      ]
     },
     "execution_count": 13,
     "metadata": {},
     "output_type": "execute_result"
    }
   ],
   "source": [
    "first_name[0]"
   ]
  },
  {
   "cell_type": "code",
   "execution_count": 14,
   "id": "4a31aad3-e391-4af5-a5ed-df0089de2a78",
   "metadata": {},
   "outputs": [
    {
     "data": {
      "text/plain": [
       "'i'"
      ]
     },
     "execution_count": 14,
     "metadata": {},
     "output_type": "execute_result"
    }
   ],
   "source": [
    "first_name[-1]"
   ]
  },
  {
   "cell_type": "code",
   "execution_count": 17,
   "id": "8f8ea43f-c17d-4098-92a5-12bf6e7d0e37",
   "metadata": {},
   "outputs": [
    {
     "name": "stdout",
     "output_type": "stream",
     "text": [
      "Hello Y'all\n"
     ]
    }
   ],
   "source": [
    "phrase = \"Hello Y'all\"\n",
    "print(phrase)"
   ]
  },
  {
   "cell_type": "code",
   "execution_count": 18,
   "id": "e1597faf-d2b6-4740-b891-5c08d478f4b4",
   "metadata": {},
   "outputs": [
    {
     "data": {
      "text/plain": [
       "[1, 'two', 3.0, True]"
      ]
     },
     "execution_count": 18,
     "metadata": {},
     "output_type": "execute_result"
    }
   ],
   "source": [
    "my_list"
   ]
  },
  {
   "cell_type": "code",
   "execution_count": 19,
   "id": "f2ee18e3-24de-47ae-9d77-6a2ff0e7c3f2",
   "metadata": {},
   "outputs": [],
   "source": [
    "my_list[0] = 'otter'"
   ]
  },
  {
   "cell_type": "code",
   "execution_count": 20,
   "id": "95fc2a9a-de12-4047-a790-eb9670fe4ddf",
   "metadata": {},
   "outputs": [
    {
     "data": {
      "text/plain": [
       "['otter', 'two', 3.0, True]"
      ]
     },
     "execution_count": 20,
     "metadata": {},
     "output_type": "execute_result"
    }
   ],
   "source": [
    "my_list"
   ]
  },
  {
   "cell_type": "code",
   "execution_count": 21,
   "id": "4f22501d-dda2-4fba-bd35-550caa97e676",
   "metadata": {},
   "outputs": [
    {
     "data": {
      "text/plain": [
       "'Loki'"
      ]
     },
     "execution_count": 21,
     "metadata": {},
     "output_type": "execute_result"
    }
   ],
   "source": [
    "first_name"
   ]
  },
  {
   "cell_type": "code",
   "execution_count": 22,
   "id": "cb4c8e77-3e50-4dde-8ac3-160651cd8439",
   "metadata": {},
   "outputs": [
    {
     "ename": "TypeError",
     "evalue": "'str' object does not support item assignment",
     "output_type": "error",
     "traceback": [
      "\u001b[1;31m-----------------------------------------------------------\u001b[0m",
      "\u001b[1;31mTypeError\u001b[0m                 Traceback (most recent call last)",
      "Input \u001b[1;32mIn [22]\u001b[0m, in \u001b[0;36m<cell line: 1>\u001b[1;34m()\u001b[0m\n\u001b[1;32m----> 1\u001b[0m first_name[\u001b[38;5;241m0\u001b[39m] \u001b[38;5;241m=\u001b[39m \u001b[38;5;124m'\u001b[39m\u001b[38;5;124mP\u001b[39m\u001b[38;5;124m'\u001b[39m\n",
      "\u001b[1;31mTypeError\u001b[0m: 'str' object does not support item assignment"
     ]
    }
   ],
   "source": [
    "first_name[0] = 'P'"
   ]
  },
  {
   "cell_type": "code",
   "execution_count": 23,
   "id": "fb3db173-e960-4aba-85eb-a12dae1f5d7e",
   "metadata": {},
   "outputs": [
    {
     "data": {
      "text/plain": [
       "'Poki'"
      ]
     },
     "execution_count": 23,
     "metadata": {},
     "output_type": "execute_result"
    }
   ],
   "source": [
    "first_name = 'Poki'\n",
    "first_name"
   ]
  },
  {
   "cell_type": "code",
   "execution_count": 24,
   "id": "f5e03ef2-0cbe-4af7-84a7-6637ae9bd8ec",
   "metadata": {},
   "outputs": [],
   "source": [
    "number_list = [\n",
    "    0, 1, 2, 3, 4, 5, 6, 7, 8, 9\n",
    "]"
   ]
  },
  {
   "cell_type": "code",
   "execution_count": 25,
   "id": "8aacab3a-e950-4758-8f46-8fa1d0d8c2ba",
   "metadata": {},
   "outputs": [
    {
     "data": {
      "text/plain": [
       "[0, 1, 2, 3, 4, 5, 6, 7, 8, 9]"
      ]
     },
     "execution_count": 25,
     "metadata": {},
     "output_type": "execute_result"
    }
   ],
   "source": [
    "number_list"
   ]
  },
  {
   "cell_type": "code",
   "execution_count": 26,
   "id": "b1f87dec-0877-4d4b-9b90-b670126c9a35",
   "metadata": {},
   "outputs": [
    {
     "data": {
      "text/plain": [
       "[0, 1, 2, 3, 4]"
      ]
     },
     "execution_count": 26,
     "metadata": {},
     "output_type": "execute_result"
    }
   ],
   "source": [
    "number_list[0:5]"
   ]
  },
  {
   "cell_type": "code",
   "execution_count": 27,
   "id": "0e021c1c-804e-424f-9af6-b9a00abff9e3",
   "metadata": {},
   "outputs": [
    {
     "data": {
      "text/plain": [
       "[0, 1, 2, 3, 4]"
      ]
     },
     "execution_count": 27,
     "metadata": {},
     "output_type": "execute_result"
    }
   ],
   "source": [
    "number_list[:5]"
   ]
  },
  {
   "cell_type": "code",
   "execution_count": 28,
   "id": "87f9b23c-56ec-4ead-aab6-851ab5c2678b",
   "metadata": {},
   "outputs": [
    {
     "data": {
      "text/plain": [
       "[3, 4]"
      ]
     },
     "execution_count": 28,
     "metadata": {},
     "output_type": "execute_result"
    }
   ],
   "source": [
    "number_list[3:5]"
   ]
  },
  {
   "cell_type": "code",
   "execution_count": 29,
   "id": "a12f47f4-67e1-4d50-b5e4-94214175ab1e",
   "metadata": {},
   "outputs": [
    {
     "data": {
      "text/plain": [
       "[3, 4, 5, 6, 7, 8, 9]"
      ]
     },
     "execution_count": 29,
     "metadata": {},
     "output_type": "execute_result"
    }
   ],
   "source": [
    "number_list[3:]"
   ]
  },
  {
   "cell_type": "code",
   "execution_count": 30,
   "id": "a764d8e1-91ca-4823-9345-a8eeb6f589f0",
   "metadata": {},
   "outputs": [
    {
     "data": {
      "text/plain": [
       "[3, 4, 5, 6, 7, 8]"
      ]
     },
     "execution_count": 30,
     "metadata": {},
     "output_type": "execute_result"
    }
   ],
   "source": [
    "number_list[3:-1]"
   ]
  },
  {
   "cell_type": "code",
   "execution_count": 31,
   "id": "3a720532-5630-4f37-8154-eb2d52c3e91e",
   "metadata": {},
   "outputs": [
    {
     "data": {
      "text/plain": [
       "[0, 2, 4, 6, 8]"
      ]
     },
     "execution_count": 31,
     "metadata": {},
     "output_type": "execute_result"
    }
   ],
   "source": [
    "number_list[0::2]"
   ]
  },
  {
   "cell_type": "code",
   "execution_count": 32,
   "id": "12ccfb13-ab10-478f-866f-1c979e534556",
   "metadata": {},
   "outputs": [
    {
     "data": {
      "text/plain": [
       "[1, 3, 5, 7, 9]"
      ]
     },
     "execution_count": 32,
     "metadata": {},
     "output_type": "execute_result"
    }
   ],
   "source": [
    "number_list[1::2]"
   ]
  },
  {
   "cell_type": "code",
   "execution_count": 33,
   "id": "3d6cd569-4384-4d25-a69d-7f136c46813c",
   "metadata": {},
   "outputs": [
    {
     "data": {
      "text/plain": [
       "[1, 4]"
      ]
     },
     "execution_count": 33,
     "metadata": {},
     "output_type": "execute_result"
    }
   ],
   "source": [
    "number_list[1:5:3]"
   ]
  },
  {
   "cell_type": "code",
   "execution_count": 34,
   "id": "b5c450d7-85ee-4f2d-8d68-1d8f2b7536dc",
   "metadata": {},
   "outputs": [
    {
     "data": {
      "text/plain": [
       "[9, 8, 7, 6, 5, 4, 3, 2, 1, 0]"
      ]
     },
     "execution_count": 34,
     "metadata": {},
     "output_type": "execute_result"
    }
   ],
   "source": [
    "number_list[-1::-1]"
   ]
  },
  {
   "cell_type": "code",
   "execution_count": 35,
   "id": "6ac9a09b-6988-4153-82dc-7ed0da733bcc",
   "metadata": {},
   "outputs": [],
   "source": [
    "my_dict = {\n",
    "    'first_key': 'some value',\n",
    "    'A': ['a', 'different', 'list'],\n",
    "    2: False\n",
    "}"
   ]
  },
  {
   "cell_type": "code",
   "execution_count": 36,
   "id": "1e8b019d-aef1-4954-9892-5988e6caaa23",
   "metadata": {},
   "outputs": [
    {
     "data": {
      "text/plain": [
       "'some value'"
      ]
     },
     "execution_count": 36,
     "metadata": {},
     "output_type": "execute_result"
    }
   ],
   "source": [
    "my_dict['first_key']"
   ]
  },
  {
   "cell_type": "code",
   "execution_count": 37,
   "id": "43c0dff4-fd60-4198-8c40-921c543e0ede",
   "metadata": {},
   "outputs": [
    {
     "ename": "KeyError",
     "evalue": "'some value'",
     "output_type": "error",
     "traceback": [
      "\u001b[1;31m-----------------------------------------------------------\u001b[0m",
      "\u001b[1;31mKeyError\u001b[0m                  Traceback (most recent call last)",
      "Input \u001b[1;32mIn [37]\u001b[0m, in \u001b[0;36m<cell line: 1>\u001b[1;34m()\u001b[0m\n\u001b[1;32m----> 1\u001b[0m \u001b[43mmy_dict\u001b[49m\u001b[43m[\u001b[49m\u001b[38;5;124;43m'\u001b[39;49m\u001b[38;5;124;43msome value\u001b[39;49m\u001b[38;5;124;43m'\u001b[39;49m\u001b[43m]\u001b[49m\n",
      "\u001b[1;31mKeyError\u001b[0m: 'some value'"
     ]
    }
   ],
   "source": [
    "my_dict['some value']"
   ]
  },
  {
   "cell_type": "code",
   "execution_count": 38,
   "id": "b8442cf2-5834-4272-8053-6c61dfe0430b",
   "metadata": {},
   "outputs": [
    {
     "data": {
      "text/plain": [
       "['a', 'different', 'list']"
      ]
     },
     "execution_count": 38,
     "metadata": {},
     "output_type": "execute_result"
    }
   ],
   "source": [
    "my_dict['A']"
   ]
  },
  {
   "cell_type": "code",
   "execution_count": 39,
   "id": "ed317cf7-bfc3-46ea-b4b8-3566121db611",
   "metadata": {},
   "outputs": [
    {
     "data": {
      "text/plain": [
       "False"
      ]
     },
     "execution_count": 39,
     "metadata": {},
     "output_type": "execute_result"
    }
   ],
   "source": [
    "my_dict[2]"
   ]
  },
  {
   "cell_type": "code",
   "execution_count": 41,
   "id": "8f1017a7-e1b6-43fc-9550-a2cff180a505",
   "metadata": {},
   "outputs": [
    {
     "data": {
      "text/plain": [
       "False"
      ]
     },
     "execution_count": 41,
     "metadata": {},
     "output_type": "execute_result"
    }
   ],
   "source": [
    "my_dict[2]"
   ]
  },
  {
   "cell_type": "code",
   "execution_count": 42,
   "id": "312fea5d-4b71-4f03-8892-b7cc7b391112",
   "metadata": {},
   "outputs": [
    {
     "ename": "TypeError",
     "evalue": "unhashable type: 'slice'",
     "output_type": "error",
     "traceback": [
      "\u001b[1;31m-----------------------------------------------------------\u001b[0m",
      "\u001b[1;31mTypeError\u001b[0m                 Traceback (most recent call last)",
      "Input \u001b[1;32mIn [42]\u001b[0m, in \u001b[0;36m<cell line: 1>\u001b[1;34m()\u001b[0m\n\u001b[1;32m----> 1\u001b[0m \u001b[43mmy_dict\u001b[49m\u001b[43m[\u001b[49m\u001b[38;5;241;43m0\u001b[39;49m\u001b[43m:\u001b[49m\u001b[38;5;241;43m5\u001b[39;49m\u001b[43m]\u001b[49m\n",
      "\u001b[1;31mTypeError\u001b[0m: unhashable type: 'slice'"
     ]
    }
   ],
   "source": [
    "my_dict[0:5]"
   ]
  },
  {
   "cell_type": "code",
   "execution_count": 43,
   "id": "fb49db44-8810-45ca-93dc-d7ab8f0717db",
   "metadata": {},
   "outputs": [
    {
     "data": {
      "text/plain": [
       "int"
      ]
     },
     "execution_count": 43,
     "metadata": {},
     "output_type": "execute_result"
    }
   ],
   "source": [
    "type(42)"
   ]
  },
  {
   "cell_type": "code",
   "execution_count": 44,
   "id": "207c3999-d3d1-4df6-86e6-e7fe6f8ab4a7",
   "metadata": {},
   "outputs": [
    {
     "data": {
      "text/plain": [
       "float"
      ]
     },
     "execution_count": 44,
     "metadata": {},
     "output_type": "execute_result"
    }
   ],
   "source": [
    "type(3.14)"
   ]
  },
  {
   "cell_type": "code",
   "execution_count": 45,
   "id": "ff7607cb-6ac6-4f5a-8fd4-29f64abbd227",
   "metadata": {},
   "outputs": [
    {
     "data": {
      "text/plain": [
       "str"
      ]
     },
     "execution_count": 45,
     "metadata": {},
     "output_type": "execute_result"
    }
   ],
   "source": [
    "type('otter')"
   ]
  },
  {
   "cell_type": "code",
   "execution_count": 46,
   "id": "8e1663fa-4d1c-4cc2-819e-6a78d7f4e914",
   "metadata": {},
   "outputs": [
    {
     "data": {
      "text/plain": [
       "bool"
      ]
     },
     "execution_count": 46,
     "metadata": {},
     "output_type": "execute_result"
    }
   ],
   "source": [
    "type(True)"
   ]
  },
  {
   "cell_type": "code",
   "execution_count": 47,
   "id": "54f05d21-c70a-496e-9034-7ebc8c9a56e3",
   "metadata": {},
   "outputs": [
    {
     "ename": "NameError",
     "evalue": "name 'true' is not defined",
     "output_type": "error",
     "traceback": [
      "\u001b[1;31m-----------------------------------------------------------\u001b[0m",
      "\u001b[1;31mNameError\u001b[0m                 Traceback (most recent call last)",
      "Input \u001b[1;32mIn [47]\u001b[0m, in \u001b[0;36m<cell line: 1>\u001b[1;34m()\u001b[0m\n\u001b[1;32m----> 1\u001b[0m \u001b[38;5;28mtype\u001b[39m(\u001b[43mtrue\u001b[49m)\n",
      "\u001b[1;31mNameError\u001b[0m: name 'true' is not defined"
     ]
    }
   ],
   "source": [
    "type(true)"
   ]
  },
  {
   "cell_type": "code",
   "execution_count": 48,
   "id": "470e30fc-0606-44f1-a7f1-2398770c07b7",
   "metadata": {},
   "outputs": [],
   "source": [
    "x = 10928293487923"
   ]
  },
  {
   "cell_type": "code",
   "execution_count": 49,
   "id": "b9781c8e-3166-49c0-8f16-9e1ab24ade1b",
   "metadata": {},
   "outputs": [],
   "source": [
    "x = 10_928_293_487_923"
   ]
  },
  {
   "cell_type": "code",
   "execution_count": 50,
   "id": "fb990388-ebee-429f-a710-6d65b6102719",
   "metadata": {},
   "outputs": [
    {
     "name": "stdout",
     "output_type": "stream",
     "text": [
      "10928293487923\n"
     ]
    }
   ],
   "source": [
    "print(x)"
   ]
  },
  {
   "cell_type": "code",
   "execution_count": 51,
   "id": "eb313a05-3653-4ebd-854a-09499d0b867a",
   "metadata": {},
   "outputs": [
    {
     "data": {
      "text/plain": [
       "30"
      ]
     },
     "execution_count": 51,
     "metadata": {},
     "output_type": "execute_result"
    }
   ],
   "source": [
    "42-12"
   ]
  },
  {
   "cell_type": "code",
   "execution_count": 54,
   "id": "745ab2a1-968e-46d0-8413-9b3ec32b979c",
   "metadata": {},
   "outputs": [
    {
     "data": {
      "text/plain": [
       "-12.86"
      ]
     },
     "execution_count": 54,
     "metadata": {},
     "output_type": "execute_result"
    }
   ],
   "source": [
    "3.14-16"
   ]
  },
  {
   "cell_type": "code",
   "execution_count": 55,
   "id": "990054a7-e0ab-4cc6-a394-3b371b361b3a",
   "metadata": {},
   "outputs": [
    {
     "data": {
      "text/plain": [
       "-12"
      ]
     },
     "execution_count": 55,
     "metadata": {},
     "output_type": "execute_result"
    }
   ],
   "source": [
    "int(3.14-16)"
   ]
  },
  {
   "cell_type": "code",
   "execution_count": 57,
   "id": "83928920-0a50-41f3-b115-6f88428634a3",
   "metadata": {},
   "outputs": [
    {
     "ename": "TypeError",
     "evalue": "unsupported operand type(s) for -: 'str' and 'str'",
     "output_type": "error",
     "traceback": [
      "\u001b[1;31m-----------------------------------------------------------\u001b[0m",
      "\u001b[1;31mTypeError\u001b[0m                 Traceback (most recent call last)",
      "Input \u001b[1;32mIn [57]\u001b[0m, in \u001b[0;36m<cell line: 1>\u001b[1;34m()\u001b[0m\n\u001b[1;32m----> 1\u001b[0m \u001b[38;5;124;43m'\u001b[39;49m\u001b[38;5;124;43mhello\u001b[39;49m\u001b[38;5;124;43m'\u001b[39;49m\u001b[43m \u001b[49m\u001b[38;5;241;43m-\u001b[39;49m\u001b[43m \u001b[49m\u001b[38;5;124;43m'\u001b[39;49m\u001b[38;5;124;43mp\u001b[39;49m\u001b[38;5;124;43m'\u001b[39;49m\n",
      "\u001b[1;31mTypeError\u001b[0m: unsupported operand type(s) for -: 'str' and 'str'"
     ]
    }
   ],
   "source": [
    "'hello' - 'p'"
   ]
  },
  {
   "cell_type": "code",
   "execution_count": 58,
   "id": "6d33ecde-1a22-48a0-a175-a436bb03c03d",
   "metadata": {},
   "outputs": [],
   "source": [
    "my_sentence = 'Adding' + ' ' + 'strings'"
   ]
  },
  {
   "cell_type": "code",
   "execution_count": 59,
   "id": "d1fb2f06-7abf-446a-a08c-026ff50d810a",
   "metadata": {},
   "outputs": [
    {
     "data": {
      "text/plain": [
       "'Adding strings'"
      ]
     },
     "execution_count": 59,
     "metadata": {},
     "output_type": "execute_result"
    }
   ],
   "source": [
    "my_sentence"
   ]
  },
  {
   "cell_type": "code",
   "execution_count": 60,
   "id": "e512eb7e-49c1-4069-91c4-2e1b15879626",
   "metadata": {},
   "outputs": [],
   "source": [
    "repeated_string = '+='*10"
   ]
  },
  {
   "cell_type": "code",
   "execution_count": 61,
   "id": "48871567-bef4-4bcb-a1ff-3a272c6dff02",
   "metadata": {},
   "outputs": [
    {
     "data": {
      "text/plain": [
       "'+=+=+=+=+=+=+=+=+=+='"
      ]
     },
     "execution_count": 61,
     "metadata": {},
     "output_type": "execute_result"
    }
   ],
   "source": [
    "repeated_string"
   ]
  },
  {
   "cell_type": "code",
   "execution_count": 62,
   "id": "4cc49e57-ae57-4438-9955-e57d517617e4",
   "metadata": {},
   "outputs": [
    {
     "ename": "TypeError",
     "evalue": "unsupported operand type(s) for +: 'int' and 'str'",
     "output_type": "error",
     "traceback": [
      "\u001b[1;31m-----------------------------------------------------------\u001b[0m",
      "\u001b[1;31mTypeError\u001b[0m                 Traceback (most recent call last)",
      "Input \u001b[1;32mIn [62]\u001b[0m, in \u001b[0;36m<cell line: 1>\u001b[1;34m()\u001b[0m\n\u001b[1;32m----> 1\u001b[0m \u001b[38;5;28mprint\u001b[39m(\u001b[38;5;241;43m1\u001b[39;49m\u001b[43m \u001b[49m\u001b[38;5;241;43m+\u001b[39;49m\u001b[43m \u001b[49m\u001b[38;5;124;43m'\u001b[39;49m\u001b[38;5;124;43m2\u001b[39;49m\u001b[38;5;124;43m'\u001b[39;49m)\n",
      "\u001b[1;31mTypeError\u001b[0m: unsupported operand type(s) for +: 'int' and 'str'"
     ]
    }
   ],
   "source": [
    "print(1 + '2')"
   ]
  },
  {
   "cell_type": "code",
   "execution_count": 63,
   "id": "8c13a45d-ce9d-4334-ac44-29df222fd88c",
   "metadata": {},
   "outputs": [
    {
     "name": "stdout",
     "output_type": "stream",
     "text": [
      "3\n"
     ]
    }
   ],
   "source": [
    "print(1 + int('2'))"
   ]
  },
  {
   "cell_type": "code",
   "execution_count": 64,
   "id": "83b0b0e2-82dc-416b-9256-e7658b4c992d",
   "metadata": {},
   "outputs": [
    {
     "ename": "ValueError",
     "evalue": "invalid literal for int() with base 10: 'hello'",
     "output_type": "error",
     "traceback": [
      "\u001b[1;31m-----------------------------------------------------------\u001b[0m",
      "\u001b[1;31mValueError\u001b[0m                Traceback (most recent call last)",
      "Input \u001b[1;32mIn [64]\u001b[0m, in \u001b[0;36m<cell line: 1>\u001b[1;34m()\u001b[0m\n\u001b[1;32m----> 1\u001b[0m \u001b[38;5;28mprint\u001b[39m(\u001b[38;5;241m1\u001b[39m \u001b[38;5;241m+\u001b[39m \u001b[38;5;28;43mint\u001b[39;49m\u001b[43m(\u001b[49m\u001b[38;5;124;43m'\u001b[39;49m\u001b[38;5;124;43mhello\u001b[39;49m\u001b[38;5;124;43m'\u001b[39;49m\u001b[43m)\u001b[49m)\n",
      "\u001b[1;31mValueError\u001b[0m: invalid literal for int() with base 10: 'hello'"
     ]
    }
   ],
   "source": [
    "print(1 + int('hello'))"
   ]
  },
  {
   "cell_type": "code",
   "execution_count": 65,
   "id": "7dbe9850-614c-4705-bd2f-42f98e39c705",
   "metadata": {},
   "outputs": [
    {
     "data": {
      "text/plain": [
       "1.6666666666666667"
      ]
     },
     "execution_count": 65,
     "metadata": {},
     "output_type": "execute_result"
    }
   ],
   "source": [
    "5/3"
   ]
  },
  {
   "cell_type": "code",
   "execution_count": 66,
   "id": "eeac9ec0-28b3-4701-8c9a-43d75b45c33a",
   "metadata": {},
   "outputs": [
    {
     "data": {
      "text/plain": [
       "1"
      ]
     },
     "execution_count": 66,
     "metadata": {},
     "output_type": "execute_result"
    }
   ],
   "source": [
    "5//3"
   ]
  },
  {
   "cell_type": "code",
   "execution_count": 67,
   "id": "8e656c40-69cd-40e9-85d0-36941c17d96f",
   "metadata": {},
   "outputs": [
    {
     "data": {
      "text/plain": [
       "2"
      ]
     },
     "execution_count": 67,
     "metadata": {},
     "output_type": "execute_result"
    }
   ],
   "source": [
    "5 % 3"
   ]
  },
  {
   "cell_type": "code",
   "execution_count": 68,
   "id": "45e1347e-b5f8-4386-8604-cf33cdc670d8",
   "metadata": {},
   "outputs": [
    {
     "data": {
      "text/plain": [
       "1"
      ]
     },
     "execution_count": 68,
     "metadata": {},
     "output_type": "execute_result"
    }
   ],
   "source": [
    "int(1.9999999999)"
   ]
  },
  {
   "cell_type": "code",
   "execution_count": 70,
   "id": "e8561da5-db89-4a34-82d0-6761fbf0b704",
   "metadata": {},
   "outputs": [
    {
     "name": "stdout",
     "output_type": "stream",
     "text": [
      "hello world\n"
     ]
    }
   ],
   "source": [
    "print('hello', 'world')"
   ]
  },
  {
   "cell_type": "code",
   "execution_count": 71,
   "id": "28d59aa4-24f4-4d14-84ed-ea33f4ee3070",
   "metadata": {},
   "outputs": [
    {
     "data": {
      "text/plain": [
       "int"
      ]
     },
     "execution_count": 71,
     "metadata": {},
     "output_type": "execute_result"
    }
   ],
   "source": [
    "x = 10\n",
    "type(x)"
   ]
  },
  {
   "cell_type": "code",
   "execution_count": 72,
   "id": "78c2479c-ad95-40f6-840c-2b5d85f07202",
   "metadata": {},
   "outputs": [
    {
     "data": {
      "text/plain": [
       "6"
      ]
     },
     "execution_count": 72,
     "metadata": {},
     "output_type": "execute_result"
    }
   ],
   "source": [
    "len('string')"
   ]
  },
  {
   "cell_type": "code",
   "execution_count": 73,
   "id": "ad37fb36-49b5-4ce6-b391-57a435903057",
   "metadata": {},
   "outputs": [
    {
     "data": {
      "text/plain": [
       "4"
      ]
     },
     "execution_count": 73,
     "metadata": {},
     "output_type": "execute_result"
    }
   ],
   "source": [
    "len(my_list)"
   ]
  },
  {
   "cell_type": "code",
   "execution_count": 74,
   "id": "11edecf6-619c-4e49-9741-36e492c48237",
   "metadata": {},
   "outputs": [
    {
     "data": {
      "text/plain": [
       "['otter', 'two', 3.0, True]"
      ]
     },
     "execution_count": 74,
     "metadata": {},
     "output_type": "execute_result"
    }
   ],
   "source": [
    "my_list"
   ]
  },
  {
   "cell_type": "code",
   "execution_count": 75,
   "id": "eab6f85c-0793-4620-88b6-1a16f605464f",
   "metadata": {},
   "outputs": [
    {
     "ename": "TypeError",
     "evalue": "object of type 'int' has no len()",
     "output_type": "error",
     "traceback": [
      "\u001b[1;31m-----------------------------------------------------------\u001b[0m",
      "\u001b[1;31mTypeError\u001b[0m                 Traceback (most recent call last)",
      "Input \u001b[1;32mIn [75]\u001b[0m, in \u001b[0;36m<cell line: 1>\u001b[1;34m()\u001b[0m\n\u001b[1;32m----> 1\u001b[0m \u001b[38;5;28;43mlen\u001b[39;49m\u001b[43m(\u001b[49m\u001b[38;5;241;43m10\u001b[39;49m\u001b[43m)\u001b[49m\n",
      "\u001b[1;31mTypeError\u001b[0m: object of type 'int' has no len()"
     ]
    }
   ],
   "source": [
    "len(10)"
   ]
  },
  {
   "cell_type": "code",
   "execution_count": 80,
   "id": "b1cffc44-3ab1-469b-9736-b77cd61801af",
   "metadata": {},
   "outputs": [
    {
     "data": {
      "text/plain": [
       "0"
      ]
     },
     "execution_count": 80,
     "metadata": {},
     "output_type": "execute_result"
    }
   ],
   "source": [
    "my_list_from_my_analysis = [0, 100 ,5]\n",
    "\n",
    "min(my_list_from_my_analysis)"
   ]
  },
  {
   "cell_type": "code",
   "execution_count": 79,
   "id": "e95d2ad2-a9c6-4725-8a78-9be7cb801959",
   "metadata": {},
   "outputs": [
    {
     "data": {
      "text/plain": [
       "50"
      ]
     },
     "execution_count": 79,
     "metadata": {},
     "output_type": "execute_result"
    }
   ],
   "source": [
    "max(0, 50 ,1)"
   ]
  },
  {
   "cell_type": "code",
   "execution_count": 81,
   "id": "70109407-b9bb-4c05-921d-569230c15c98",
   "metadata": {},
   "outputs": [
    {
     "name": "stdout",
     "output_type": "stream",
     "text": [
      "3\n"
     ]
    }
   ],
   "source": [
    "e = 2.71828182845904523536\n",
    "print(round(e))"
   ]
  },
  {
   "cell_type": "code",
   "execution_count": 82,
   "id": "f555b1a7-c114-4a60-8f89-5af9ec2d878c",
   "metadata": {},
   "outputs": [
    {
     "name": "stdout",
     "output_type": "stream",
     "text": [
      "2.72\n"
     ]
    }
   ],
   "source": [
    "print(round(e, 2))"
   ]
  },
  {
   "cell_type": "code",
   "execution_count": 84,
   "id": "986aeb13-43da-4102-8d19-07bf3f054190",
   "metadata": {},
   "outputs": [
    {
     "name": "stdout",
     "output_type": "stream",
     "text": [
      "greater\n",
      "done.\n"
     ]
    }
   ],
   "source": [
    "num = 300\n",
    "if num > 100:\n",
    "    print('greater')\n",
    "else:\n",
    "    print('not greater')\n",
    "    \n",
    "print('done.')"
   ]
  },
  {
   "cell_type": "code",
   "execution_count": 85,
   "id": "62b5792d-13ab-4294-a746-f9e98aaa9a18",
   "metadata": {},
   "outputs": [
    {
     "name": "stdout",
     "output_type": "stream",
     "text": [
      "done.\n"
     ]
    }
   ],
   "source": [
    "num = 37\n",
    "if num > 100:\n",
    "    print('greater')\n",
    "    \n",
    "print('done.')"
   ]
  },
  {
   "cell_type": "code",
   "execution_count": 88,
   "id": "9fccd4cf-598a-4678-86d7-5711f28005ab",
   "metadata": {},
   "outputs": [
    {
     "name": "stdout",
     "output_type": "stream",
     "text": [
      "This is the answer to life the universe and everything\n"
     ]
    }
   ],
   "source": [
    "num = 42\n",
    "if num < 42:\n",
    "    print('this is not the answer')\n",
    "elif num > 42:\n",
    "    print('this is also not the answer')\n",
    "elif num == 42:\n",
    "    print('This is the answer to life the universe and everything')"
   ]
  },
  {
   "cell_type": "code",
   "execution_count": 90,
   "id": "a7430831-1ce1-4c03-ad8f-cc34f3ec366e",
   "metadata": {},
   "outputs": [
    {
     "data": {
      "text/plain": [
       "True"
      ]
     },
     "execution_count": 90,
     "metadata": {},
     "output_type": "execute_result"
    }
   ],
   "source": [
    "num == 42"
   ]
  },
  {
   "cell_type": "code",
   "execution_count": 91,
   "id": "c1427afa-20cf-4077-a2b5-ca5f43c31e75",
   "metadata": {},
   "outputs": [
    {
     "data": {
      "text/plain": [
       "True"
      ]
     },
     "execution_count": 91,
     "metadata": {},
     "output_type": "execute_result"
    }
   ],
   "source": [
    "condition_1 = 1 > 0\n",
    "condition_1"
   ]
  },
  {
   "cell_type": "code",
   "execution_count": 92,
   "id": "2e8e2c06-a834-493e-9cb0-76d57579db8c",
   "metadata": {},
   "outputs": [
    {
     "data": {
      "text/plain": [
       "False"
      ]
     },
     "execution_count": 92,
     "metadata": {},
     "output_type": "execute_result"
    }
   ],
   "source": [
    "condition_2 = -1 > 0\n",
    "condition_2"
   ]
  },
  {
   "cell_type": "code",
   "execution_count": 96,
   "id": "352cc9bf-9ecc-475e-a9d2-870c36f760ff",
   "metadata": {},
   "outputs": [
    {
     "data": {
      "text/plain": [
       "False"
      ]
     },
     "execution_count": 96,
     "metadata": {},
     "output_type": "execute_result"
    }
   ],
   "source": [
    "condition_1 and condition_2"
   ]
  },
  {
   "cell_type": "code",
   "execution_count": 94,
   "id": "e9c4db24-5241-4b99-b454-2d35f4893c52",
   "metadata": {},
   "outputs": [
    {
     "data": {
      "text/plain": [
       "True"
      ]
     },
     "execution_count": 94,
     "metadata": {},
     "output_type": "execute_result"
    }
   ],
   "source": [
    "condition_1 or condition_2"
   ]
  },
  {
   "cell_type": "code",
   "execution_count": 95,
   "id": "cfa3f3e0-0cde-4e42-be0c-bba6f503ab02",
   "metadata": {},
   "outputs": [
    {
     "data": {
      "text/plain": [
       "False"
      ]
     },
     "execution_count": 95,
     "metadata": {},
     "output_type": "execute_result"
    }
   ],
   "source": [
    "not condition_1"
   ]
  },
  {
   "cell_type": "code",
   "execution_count": 97,
   "id": "80f298a7-ed2b-40ad-9737-1d5835989c30",
   "metadata": {},
   "outputs": [
    {
     "data": {
      "text/plain": [
       "False"
      ]
     },
     "execution_count": 97,
     "metadata": {},
     "output_type": "execute_result"
    }
   ],
   "source": [
    "(1>0) and (-1>0)"
   ]
  },
  {
   "cell_type": "code",
   "execution_count": 98,
   "id": "c212d752-a731-44ae-9271-6ac81f31468e",
   "metadata": {},
   "outputs": [
    {
     "name": "stdout",
     "output_type": "stream",
     "text": [
      "Almost, the number is correct but not the animal.\n",
      "The end result is the number 42 and animal dolphin\n"
     ]
    }
   ],
   "source": [
    "num = 42 \n",
    "animal = 'otter'\n",
    "\n",
    "if num==42 and animal=='mouse':\n",
    "    print('Correct, that is the animal that found the answer')\n",
    "elif num==42 and animal!='mouse':\n",
    "    print('Almost, the number is correct but not the animal.')\n",
    "    animal = 'dolphin'\n",
    "elif num!=42 or animal=='mouse':\n",
    "    print('Almost, the animal is correct but not the number.')\n",
    "    num = 5\n",
    "elif (1>3) or (4>3):\n",
    "    print('This has nothing to do with it, we just needed an or statement')\n",
    "else:\n",
    "    print('Not even close, those pesky mice need to work harder.')\n",
    "    num = 19\n",
    "    animal = 'kangaroo'\n",
    "\n",
    "print('The end result is the number', num, 'and animal', animal)"
   ]
  },
  {
   "cell_type": "code",
   "execution_count": 99,
   "id": "ce6c9cfa-4f89-4294-9405-bcd8197503da",
   "metadata": {},
   "outputs": [],
   "source": [
    "my_string = 'Peter Piper Picked a Peck of Pickled Peppers'"
   ]
  },
  {
   "cell_type": "code",
   "execution_count": 100,
   "id": "b5e63227-a861-4a64-8484-559b31fa9bd9",
   "metadata": {},
   "outputs": [
    {
     "data": {
      "text/plain": [
       "'Peter Piper Picked a Peck of Pickled Peppers'"
      ]
     },
     "execution_count": 100,
     "metadata": {},
     "output_type": "execute_result"
    }
   ],
   "source": [
    "my_string"
   ]
  },
  {
   "cell_type": "code",
   "execution_count": 101,
   "id": "2a9f8af1-aef7-4dea-b503-7e8386c5fd62",
   "metadata": {},
   "outputs": [
    {
     "data": {
      "text/plain": [
       "'peter piper picked a peck of pickled peppers'"
      ]
     },
     "execution_count": 101,
     "metadata": {},
     "output_type": "execute_result"
    }
   ],
   "source": [
    "my_string.lower()"
   ]
  },
  {
   "cell_type": "code",
   "execution_count": 102,
   "id": "e56c3558-d89d-4a0f-b336-5fa019f5cc26",
   "metadata": {},
   "outputs": [
    {
     "data": {
      "text/plain": [
       "False"
      ]
     },
     "execution_count": 102,
     "metadata": {},
     "output_type": "execute_result"
    }
   ],
   "source": [
    "my_string.isnumeric()"
   ]
  },
  {
   "cell_type": "code",
   "execution_count": 103,
   "id": "e4f01107-1863-4a54-9c3a-850f679e5e57",
   "metadata": {},
   "outputs": [
    {
     "data": {
      "text/plain": [
       "'METER MIMER MICKED A MECK OF MICKLED MEMMERS'"
      ]
     },
     "execution_count": 103,
     "metadata": {},
     "output_type": "execute_result"
    }
   ],
   "source": [
    "my_string.upper().replace('P', 'M')"
   ]
  },
  {
   "cell_type": "code",
   "execution_count": 104,
   "id": "93a5e1e4-44b5-43c1-ae32-33fdba085e18",
   "metadata": {},
   "outputs": [
    {
     "data": {
      "text/plain": [
       "'METER MIMER MICKED A MECK OF MICKLED MEMMERS'"
      ]
     },
     "execution_count": 104,
     "metadata": {},
     "output_type": "execute_result"
    }
   ],
   "source": [
    "chain_1 = (my_string\n",
    "           .upper()\n",
    "           .replace('P', 'M')\n",
    "          )\n",
    "chain_1"
   ]
  },
  {
   "cell_type": "code",
   "execution_count": 105,
   "id": "6e45130c-ed0b-451a-ae76-aa39655d2c2d",
   "metadata": {},
   "outputs": [
    {
     "data": {
      "text/plain": [
       "'METER MIMER MICKED A MECK OF MICKLED MEMMERS'"
      ]
     },
     "execution_count": 105,
     "metadata": {},
     "output_type": "execute_result"
    }
   ],
   "source": [
    "chain_2 = my_string \\\n",
    "    .upper() \\\n",
    "    .replace('P', 'M')\n",
    "\n",
    "chain_2"
   ]
  },
  {
   "cell_type": "code",
   "execution_count": 107,
   "id": "d9503336-8bdd-4b5d-afd0-b4801c6e5bc4",
   "metadata": {},
   "outputs": [],
   "source": [
    "out = my_string.isnumeric()"
   ]
  },
  {
   "cell_type": "code",
   "execution_count": 108,
   "id": "13d01c9e-8c3a-4feb-a25d-a7b659dc5806",
   "metadata": {},
   "outputs": [
    {
     "data": {
      "text/plain": [
       "bool"
      ]
     },
     "execution_count": 108,
     "metadata": {},
     "output_type": "execute_result"
    }
   ],
   "source": [
    "type(out)"
   ]
  },
  {
   "cell_type": "code",
   "execution_count": 109,
   "id": "a8fa6fca-4e0f-41fd-af48-b13dbdbad937",
   "metadata": {},
   "outputs": [
    {
     "ename": "AttributeError",
     "evalue": "'bool' object has no attribute 'upper'",
     "output_type": "error",
     "traceback": [
      "\u001b[1;31m-----------------------------------------------------------\u001b[0m",
      "\u001b[1;31mAttributeError\u001b[0m            Traceback (most recent call last)",
      "Input \u001b[1;32mIn [109]\u001b[0m, in \u001b[0;36m<cell line: 1>\u001b[1;34m()\u001b[0m\n\u001b[1;32m----> 1\u001b[0m \u001b[43mout\u001b[49m\u001b[38;5;241;43m.\u001b[39;49m\u001b[43mupper\u001b[49m()\n",
      "\u001b[1;31mAttributeError\u001b[0m: 'bool' object has no attribute 'upper'"
     ]
    }
   ],
   "source": [
    "out.upper()"
   ]
  },
  {
   "cell_type": "code",
   "execution_count": 110,
   "id": "40ec8ae8-0873-45e5-bc1c-f60f1dd00737",
   "metadata": {},
   "outputs": [
    {
     "data": {
      "text/plain": [
       "'FALSE'"
      ]
     },
     "execution_count": 110,
     "metadata": {},
     "output_type": "execute_result"
    }
   ],
   "source": [
    "str(my_string.isnumeric()).upper()"
   ]
  },
  {
   "cell_type": "code",
   "execution_count": 111,
   "id": "eab5fe05-376a-46af-bbc5-ccc66d5b363a",
   "metadata": {},
   "outputs": [
    {
     "data": {
      "text/plain": [
       "2.72"
      ]
     },
     "execution_count": 111,
     "metadata": {},
     "output_type": "execute_result"
    }
   ],
   "source": [
    "round(2.72, 2)"
   ]
  },
  {
   "cell_type": "code",
   "execution_count": 112,
   "id": "2dfaa3a3-8777-463d-802b-ddf5f108a54b",
   "metadata": {},
   "outputs": [
    {
     "name": "stdout",
     "output_type": "stream",
     "text": [
      "Help on built-in function round in module builtins:\n",
      "\n",
      "round(number, ndigits=None)\n",
      "    Round a number to a given precision in decimal digits.\n",
      "    \n",
      "    The return value is an integer if ndigits is omitted or None.  Otherwise\n",
      "    the return value has the same type as the number.  ndigits may be negative.\n",
      "\n"
     ]
    }
   ],
   "source": [
    "help(round)"
   ]
  },
  {
   "cell_type": "code",
   "execution_count": 113,
   "id": "a4b9b77f-9b29-4116-9adf-a5125de1db2d",
   "metadata": {},
   "outputs": [],
   "source": [
    "import math"
   ]
  },
  {
   "cell_type": "code",
   "execution_count": 114,
   "id": "4aa664cf-8a12-4dd6-86d2-1178aff57352",
   "metadata": {},
   "outputs": [
    {
     "data": {
      "text/plain": [
       "<module 'math' (built-in)>"
      ]
     },
     "execution_count": 114,
     "metadata": {},
     "output_type": "execute_result"
    }
   ],
   "source": [
    "math"
   ]
  },
  {
   "cell_type": "code",
   "execution_count": 115,
   "id": "a5956498-751e-418d-a0f3-33e830cafbec",
   "metadata": {},
   "outputs": [
    {
     "data": {
      "text/plain": [
       "3.141592653589793"
      ]
     },
     "execution_count": 115,
     "metadata": {},
     "output_type": "execute_result"
    }
   ],
   "source": [
    "math.pi"
   ]
  },
  {
   "cell_type": "code",
   "execution_count": 116,
   "id": "32fec115-816c-424e-93c2-fb2a18131100",
   "metadata": {},
   "outputs": [
    {
     "data": {
      "text/plain": [
       "-1.0"
      ]
     },
     "execution_count": 116,
     "metadata": {},
     "output_type": "execute_result"
    }
   ],
   "source": [
    "math.cos(math.pi)"
   ]
  },
  {
   "cell_type": "code",
   "execution_count": 117,
   "id": "cddcb0ba-3630-4b41-bd63-bced18020dc8",
   "metadata": {},
   "outputs": [],
   "source": [
    "from math import cos, pi"
   ]
  },
  {
   "cell_type": "code",
   "execution_count": 118,
   "id": "2de39822-56ab-42d9-b453-f38e86854ea6",
   "metadata": {},
   "outputs": [
    {
     "data": {
      "text/plain": [
       "3.141592653589793"
      ]
     },
     "execution_count": 118,
     "metadata": {},
     "output_type": "execute_result"
    }
   ],
   "source": [
    "pi"
   ]
  },
  {
   "cell_type": "code",
   "execution_count": 119,
   "id": "3db4e703-ac00-406f-a410-ec5ea830bef4",
   "metadata": {},
   "outputs": [
    {
     "data": {
      "text/plain": [
       "-1.0"
      ]
     },
     "execution_count": 119,
     "metadata": {},
     "output_type": "execute_result"
    }
   ],
   "source": [
    "cos(pi)"
   ]
  },
  {
   "cell_type": "code",
   "execution_count": 120,
   "id": "e4f9ce40-b397-42f5-89d1-d80ea28f48b6",
   "metadata": {},
   "outputs": [
    {
     "data": {
      "text/plain": [
       "<function math.cos(x, /)>"
      ]
     },
     "execution_count": 120,
     "metadata": {},
     "output_type": "execute_result"
    }
   ],
   "source": [
    "cos"
   ]
  },
  {
   "cell_type": "code",
   "execution_count": 121,
   "id": "98525d6f-96e1-41e0-83e8-2c45a9ba3749",
   "metadata": {},
   "outputs": [],
   "source": [
    "import math as m"
   ]
  },
  {
   "cell_type": "code",
   "execution_count": 122,
   "id": "a2e8a19b-3b8e-48f7-97d4-3fcb2d5b7bd6",
   "metadata": {},
   "outputs": [
    {
     "data": {
      "text/plain": [
       "3.141592653589793"
      ]
     },
     "execution_count": 122,
     "metadata": {},
     "output_type": "execute_result"
    }
   ],
   "source": [
    "m.pi"
   ]
  },
  {
   "cell_type": "code",
   "execution_count": 123,
   "id": "1e0b4005-10b5-49aa-8a44-ec42fce1c9b8",
   "metadata": {},
   "outputs": [
    {
     "data": {
      "text/plain": [
       "-1.0"
      ]
     },
     "execution_count": 123,
     "metadata": {},
     "output_type": "execute_result"
    }
   ],
   "source": [
    "m.cos(m.pi)"
   ]
  },
  {
   "cell_type": "code",
   "execution_count": null,
   "id": "afbb1793-a72b-4caf-bd33-923bfda7543f",
   "metadata": {},
   "outputs": [],
   "source": []
  }
 ],
 "metadata": {
  "kernelspec": {
   "display_name": "Python 3 (ipykernel)",
   "language": "python",
   "name": "python3"
  },
  "language_info": {
   "codemirror_mode": {
    "name": "ipython",
    "version": 3
   },
   "file_extension": ".py",
   "mimetype": "text/x-python",
   "name": "python",
   "nbconvert_exporter": "python",
   "pygments_lexer": "ipython3",
   "version": "3.9.13"
  }
 },
 "nbformat": 4,
 "nbformat_minor": 5
}
